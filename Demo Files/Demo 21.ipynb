{
 "cells": [
  {
   "cell_type": "code",
   "execution_count": 1,
   "id": "397c2a38",
   "metadata": {},
   "outputs": [
    {
     "name": "stdout",
     "output_type": "stream",
     "text": [
      "20\n",
      "7.8\n",
      "['manchester', 'chelsea']\n"
     ]
    }
   ],
   "source": [
    "list_example = [20,7.8,True,\"football\",[\"manchester\",\"chelsea\"]]\n",
    "print(list_example[0])\n",
    "print(list_example[1])\n",
    "print(list_example[4])"
   ]
  },
  {
   "cell_type": "code",
   "execution_count": 2,
   "id": "fa3d3709",
   "metadata": {},
   "outputs": [
    {
     "name": "stdout",
     "output_type": "stream",
     "text": [
      "chelsea\n"
     ]
    }
   ],
   "source": [
    "list_example = [20,7.8,True,\"football\",[\"manchester\",\"chelsea\"]]\n",
    "print(list_example[4][1])"
   ]
  },
  {
   "cell_type": "code",
   "execution_count": 3,
   "id": "97fa1202",
   "metadata": {},
   "outputs": [
    {
     "name": "stdout",
     "output_type": "stream",
     "text": [
      "Flase\n"
     ]
    }
   ],
   "source": [
    "list_example1=[\"Berlin\",\"wshington\",[\"Ankara\",100],\"Flase\"]\n",
    "print(list_example1[3])"
   ]
  },
  {
   "cell_type": "code",
   "execution_count": 4,
   "id": "34f13716",
   "metadata": {},
   "outputs": [
    {
     "name": "stdout",
     "output_type": "stream",
     "text": [
      "Ankara\n"
     ]
    }
   ],
   "source": [
    "list_example2=[\"Berlin\",\"wshington\",[\"Ankara\",100],\"Flase\"]\n",
    "print(list_example2[2][0])"
   ]
  },
  {
   "cell_type": "code",
   "execution_count": 5,
   "id": "90e52344",
   "metadata": {},
   "outputs": [
    {
     "ename": "IndexError",
     "evalue": "list index out of range",
     "output_type": "error",
     "traceback": [
      "\u001b[1;31m---------------------------------------------------------------------------\u001b[0m",
      "\u001b[1;31mIndexError\u001b[0m                                Traceback (most recent call last)",
      "Cell \u001b[1;32mIn[5], line 2\u001b[0m\n\u001b[0;32m      1\u001b[0m list_example\u001b[38;5;241m=\u001b[39m[\u001b[38;5;241m20\u001b[39m,\u001b[38;5;241m7.8\u001b[39m,\u001b[38;5;28;01mTrue\u001b[39;00m,\u001b[38;5;124m\"\u001b[39m\u001b[38;5;124mfootball\u001b[39m\u001b[38;5;124m\"\u001b[39m,[\u001b[38;5;124m\"\u001b[39m\u001b[38;5;124mmanchester\u001b[39m\u001b[38;5;124m\"\u001b[39m,\u001b[38;5;124m\"\u001b[39m\u001b[38;5;124mchelsea\u001b[39m\u001b[38;5;124m\"\u001b[39m]]\n\u001b[1;32m----> 2\u001b[0m \u001b[38;5;28mprint\u001b[39m(\u001b[43mlist_example\u001b[49m\u001b[43m[\u001b[49m\u001b[38;5;241;43m7\u001b[39;49m\u001b[43m]\u001b[49m)\n",
      "\u001b[1;31mIndexError\u001b[0m: list index out of range"
     ]
    }
   ],
   "source": [
    "list_example=[20,7.8,True,\"football\",[\"manchester\",\"chelsea\"]]\n",
    "print(list_example[7])"
   ]
  },
  {
   "cell_type": "code",
   "execution_count": 6,
   "id": "012a1ea4",
   "metadata": {},
   "outputs": [
    {
     "data": {
      "text/plain": [
       "'g'"
      ]
     },
     "execution_count": 6,
     "metadata": {},
     "output_type": "execute_result"
    }
   ],
   "source": [
    "list_example=[\"Berline\",\"washington\",[\"Ankara\",100],False]\n",
    "list_example2[1][5]"
   ]
  },
  {
   "cell_type": "code",
   "execution_count": 7,
   "id": "4a672174",
   "metadata": {},
   "outputs": [
    {
     "name": "stdout",
     "output_type": "stream",
     "text": [
      "[20, 7.8, True]\n"
     ]
    }
   ],
   "source": [
    "list_example = [20,7.8,True,\"football\",[\"manchester\",\"chelsea\"]]\n",
    "print(list_example[0:3])"
   ]
  },
  {
   "cell_type": "code",
   "execution_count": 8,
   "id": "b3b5ab0b",
   "metadata": {},
   "outputs": [
    {
     "name": "stdout",
     "output_type": "stream",
     "text": [
      "['Berline', 'washington', ['Ankara', 100]]\n"
     ]
    }
   ],
   "source": [
    "list_example1=[\"Berline\",\"washington\",[\"Ankara\",100],False]\n",
    "print(list_example1[0:3])"
   ]
  },
  {
   "cell_type": "code",
   "execution_count": null,
   "id": "a2f607fb",
   "metadata": {},
   "outputs": [],
   "source": []
  }
 ],
 "metadata": {
  "kernelspec": {
   "display_name": "Python 3 (ipykernel)",
   "language": "python",
   "name": "python3"
  },
  "language_info": {
   "codemirror_mode": {
    "name": "ipython",
    "version": 3
   },
   "file_extension": ".py",
   "mimetype": "text/x-python",
   "name": "python",
   "nbconvert_exporter": "python",
   "pygments_lexer": "ipython3",
   "version": "3.10.9"
  }
 },
 "nbformat": 4,
 "nbformat_minor": 5
}
