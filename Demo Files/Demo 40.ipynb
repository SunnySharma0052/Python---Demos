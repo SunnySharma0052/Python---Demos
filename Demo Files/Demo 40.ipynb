{
 "cells": [
  {
   "cell_type": "code",
   "execution_count": 1,
   "id": "2b45b6ba",
   "metadata": {},
   "outputs": [
    {
     "name": "stdout",
     "output_type": "stream",
     "text": [
      "Please Enter The Purchase Amount:1501\n",
      "'Congratulation' You Got 50% Discount\n"
     ]
    }
   ],
   "source": [
    "amount=int(input(\"Please Enter The Purchase Amount:\"))\n",
    "if amount>1000:\n",
    "    print(\"'Congratulation'\",\"You Got 50% Discount\")\n",
    "elif 500<amount<=1000:\n",
    "    print(\"'Yahhuuu'\",\"You Got 25% Discount\")\n",
    "elif 250<amount<=500:\n",
    "    print(\"'SORRY'\",\"You Got ONLY 10% Discount\")\n",
    "else:\n",
    "    print(\"Shop Again To Task Advantage Of The Discount\")"
   ]
  },
  {
   "cell_type": "code",
   "execution_count": 2,
   "id": "c9c57f8d",
   "metadata": {},
   "outputs": [
    {
     "name": "stdout",
     "output_type": "stream",
     "text": [
      "Please Enter The Purchase Amount:501\n",
      "'Yahhuuu' You Got 25% Discount\n"
     ]
    }
   ],
   "source": [
    "amount=int(input(\"Please Enter The Purchase Amount:\"))\n",
    "if amount>1000:\n",
    "    print(\"'Congratulation'\",\"You Got 50% Discount\")\n",
    "elif 500<amount<=1000:\n",
    "    print(\"'Yahhuuu'\",\"You Got 25% Discount\")\n",
    "elif 250<amount<=500:\n",
    "    print(\"'SORRY'\",\"You Got ONLY 10% Discount\")\n",
    "else:\n",
    "    print(\"Shop Again To Task Advantage Of The Discount\")"
   ]
  },
  {
   "cell_type": "code",
   "execution_count": 3,
   "id": "ce2f59fb",
   "metadata": {},
   "outputs": [
    {
     "name": "stdout",
     "output_type": "stream",
     "text": [
      "Please Enter The Purchase Amount:251\n",
      "'SORRY' You Got ONLY 10% Discount\n"
     ]
    }
   ],
   "source": [
    "amount=int(input(\"Please Enter The Purchase Amount:\"))\n",
    "if amount>1000:\n",
    "    print(\"'Congratulation'\",\"You Got 50% Discount\")\n",
    "elif 500<amount<=1000:\n",
    "    print(\"'Yahhuuu'\",\"You Got 25% Discount\")\n",
    "elif 250<amount<=500:\n",
    "    print(\"'SORRY'\",\"You Got ONLY 10% Discount\")\n",
    "else:\n",
    "    print(\"Shop Again To Task Advantage Of The Discount\")"
   ]
  },
  {
   "cell_type": "code",
   "execution_count": 4,
   "id": "6bc907fd",
   "metadata": {},
   "outputs": [
    {
     "name": "stdout",
     "output_type": "stream",
     "text": [
      "Please Enter Your Salary:2500\n",
      "Your New Salary: 2750.0\n"
     ]
    }
   ],
   "source": [
    "salary=int(input(\"Please Enter Your Salary:\"))\n",
    "if salary>2000:\n",
    "    print(\"Your New Salary:\",salary+(salary*10/100))\n",
    "elif 1500<salary<=2000:\n",
    "    print(\"Your New Salary:\",salary+(salary*20/100))\n",
    "elif 1000<salary<=1500:\n",
    "    print(\"Your New Salary:\",salary+(salary*50/100))\n",
    "else:\n",
    "    print(\"Your New Salary:\",salary+(salary*100/100))"
   ]
  },
  {
   "cell_type": "code",
   "execution_count": 5,
   "id": "92452384",
   "metadata": {},
   "outputs": [
    {
     "name": "stdout",
     "output_type": "stream",
     "text": [
      "Please Enter Your Salary:1800\n",
      "Your New Salary: 2160.0\n"
     ]
    }
   ],
   "source": [
    "salary=int(input(\"Please Enter Your Salary:\"))\n",
    "if salary>2000:\n",
    "    print(\"Your New Salary:\",salary+(salary*10/100))\n",
    "elif 1500<salary<=2000:\n",
    "    print(\"Your New Salary:\",salary+(salary*20/100))\n",
    "elif 1000<salary<=1500:\n",
    "    print(\"Your New Salary:\",salary+(salary*50/100))\n",
    "else:\n",
    "    print(\"Your New Salary:\",salary+(salary*100/100))"
   ]
  },
  {
   "cell_type": "code",
   "execution_count": 6,
   "id": "6d226a7a",
   "metadata": {},
   "outputs": [
    {
     "name": "stdout",
     "output_type": "stream",
     "text": [
      "Please Enter Your Salary:1299\n",
      "Your New Salary: 1948.5\n"
     ]
    }
   ],
   "source": [
    "salary=int(input(\"Please Enter Your Salary:\"))\n",
    "if salary>2000:\n",
    "    print(\"Your New Salary:\",salary+(salary*10/100))\n",
    "elif 1500<salary<=2000:\n",
    "    print(\"Your New Salary:\",salary+(salary*20/100))\n",
    "elif 1000<salary<=1500:\n",
    "    print(\"Your New Salary:\",salary+(salary*50/100))\n",
    "else:\n",
    "    print(\"Your New Salary:\",salary+(salary*100/100))"
   ]
  },
  {
   "cell_type": "code",
   "execution_count": null,
   "id": "e16e77dd",
   "metadata": {},
   "outputs": [],
   "source": []
  }
 ],
 "metadata": {
  "kernelspec": {
   "display_name": "Python 3 (ipykernel)",
   "language": "python",
   "name": "python3"
  },
  "language_info": {
   "codemirror_mode": {
    "name": "ipython",
    "version": 3
   },
   "file_extension": ".py",
   "mimetype": "text/x-python",
   "name": "python",
   "nbconvert_exporter": "python",
   "pygments_lexer": "ipython3",
   "version": "3.10.9"
  }
 },
 "nbformat": 4,
 "nbformat_minor": 5
}
