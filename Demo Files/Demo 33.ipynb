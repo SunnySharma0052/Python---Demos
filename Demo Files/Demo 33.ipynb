{
 "cells": [
  {
   "cell_type": "code",
   "execution_count": 1,
   "id": "72afa954",
   "metadata": {},
   "outputs": [
    {
     "name": "stdout",
     "output_type": "stream",
     "text": [
      "{40, 10, 20, 30}\n"
     ]
    }
   ],
   "source": [
    "list=[10,20,30,40]\n",
    "example=set(list)\n",
    "print(example)"
   ]
  },
  {
   "cell_type": "code",
   "execution_count": 2,
   "id": "8f0cb9a5",
   "metadata": {},
   "outputs": [
    {
     "name": "stdout",
     "output_type": "stream",
     "text": [
      "{40, 10, 50, 20, 30}\n"
     ]
    }
   ],
   "source": [
    "list=[10,20,30,40]\n",
    "example=set(list)\n",
    "example.add(50)\n",
    "print(example)"
   ]
  },
  {
   "cell_type": "code",
   "execution_count": 3,
   "id": "5fa35333",
   "metadata": {},
   "outputs": [
    {
     "name": "stdout",
     "output_type": "stream",
     "text": [
      "{25, 125, 5, 625}\n"
     ]
    }
   ],
   "source": [
    "list_example=[5,25,125,25,125]\n",
    "value=set(list_example)\n",
    "value.add(625)\n",
    "print(value)"
   ]
  },
  {
   "cell_type": "code",
   "execution_count": 4,
   "id": "df387d0e",
   "metadata": {},
   "outputs": [
    {
     "name": "stdout",
     "output_type": "stream",
     "text": [
      "{40, 10, 20, 30}\n"
     ]
    }
   ],
   "source": [
    "list1=[10,20,30,40]\n",
    "element=set(list1)\n",
    "print(element)"
   ]
  },
  {
   "cell_type": "code",
   "execution_count": 5,
   "id": "1230abb5",
   "metadata": {},
   "outputs": [
    {
     "name": "stdout",
     "output_type": "stream",
     "text": [
      "{40, 20, 30}\n"
     ]
    }
   ],
   "source": [
    "list=[10,20,30,40]\n",
    "variable1=set(list)\n",
    "variable1.remove(10)\n",
    "print(variable1)"
   ]
  },
  {
   "cell_type": "code",
   "execution_count": 6,
   "id": "2600e0de",
   "metadata": {},
   "outputs": [
    {
     "name": "stdout",
     "output_type": "stream",
     "text": [
      "{25, 125}\n"
     ]
    }
   ],
   "source": [
    "list_example=[5,25,125,25,125]\n",
    "element1=set(list_example)\n",
    "element1.remove(5)\n",
    "print(element1)"
   ]
  },
  {
   "cell_type": "code",
   "execution_count": 7,
   "id": "fae8bb2e",
   "metadata": {},
   "outputs": [
    {
     "data": {
      "text/plain": [
       "{2, 7, 10, 16}"
      ]
     },
     "execution_count": 7,
     "metadata": {},
     "output_type": "execute_result"
    }
   ],
   "source": [
    "list1=[1,6,7,10,2,5,16]\n",
    "list2=[1,6,8,9,12,5,3]\n",
    "set_first=set(list1)\n",
    "set_second=set(list2)\n",
    "set_first.difference(set_second)"
   ]
  },
  {
   "cell_type": "code",
   "execution_count": 8,
   "id": "7aeff0cb",
   "metadata": {},
   "outputs": [
    {
     "data": {
      "text/plain": [
       "{'Java', 'R', 'SQL'}"
      ]
     },
     "execution_count": 8,
     "metadata": {},
     "output_type": "execute_result"
    }
   ],
   "source": [
    "prog_lang_list1=[\"Python\",\"SQL\",\"R\",\"Java\",\"Kotlin\"]\n",
    "prog_lang_list2=[\"Python\",\"Kotlin\",\"Go\",\"C++\",\"Pascal\"]\n",
    "prog_lang_set1=set(prog_lang_list1)\n",
    "prog_lang_set2=set(prog_lang_list2)\n",
    "prog_lang_set1.difference(prog_lang_set2)"
   ]
  },
  {
   "cell_type": "code",
   "execution_count": 9,
   "id": "daab55ee",
   "metadata": {},
   "outputs": [
    {
     "data": {
      "text/plain": [
       "set()"
      ]
     },
     "execution_count": 9,
     "metadata": {},
     "output_type": "execute_result"
    }
   ],
   "source": [
    "prog_lang_list3=[\"Python\",\"SQL\",\"R\",\"Java\",\"Kotlin\"]\n",
    "prog_lang_list4=[\"Python\",\"SQL\",\"R\",\"Java\",\"Kotlin\"]\n",
    "prog_lang_s1=set(prog_lang_list3)\n",
    "prog_lang_s2=set(prog_lang_list4)\n",
    "prog_lang_s1.difference(prog_lang_s2)"
   ]
  },
  {
   "cell_type": "code",
   "execution_count": 10,
   "id": "3b8c6c82",
   "metadata": {},
   "outputs": [
    {
     "data": {
      "text/plain": [
       "{2, 7, 10, 16}"
      ]
     },
     "execution_count": 10,
     "metadata": {},
     "output_type": "execute_result"
    }
   ],
   "source": [
    "list1=[1,6,7,10,2,5,16]\n",
    "list2=[1,6,8,9,12,5,3]\n",
    "variable_first=set(list1)\n",
    "variable_second=set(list2)\n",
    "variable_first-variable_second"
   ]
  },
  {
   "cell_type": "code",
   "execution_count": 11,
   "id": "cdf543b1",
   "metadata": {},
   "outputs": [
    {
     "data": {
      "text/plain": [
       "{3, 8, 9, 12}"
      ]
     },
     "execution_count": 11,
     "metadata": {},
     "output_type": "execute_result"
    }
   ],
   "source": [
    "lsit1=[1,6,7,10,2,5,16]\n",
    "list2=[1,6,8,9,12,5,3]\n",
    "set_first=set(list1)\n",
    "set_second=set(list2)\n",
    "set_second-set_first"
   ]
  },
  {
   "cell_type": "code",
   "execution_count": null,
   "id": "924af439",
   "metadata": {},
   "outputs": [],
   "source": []
  }
 ],
 "metadata": {
  "kernelspec": {
   "display_name": "Python 3 (ipykernel)",
   "language": "python",
   "name": "python3"
  },
  "language_info": {
   "codemirror_mode": {
    "name": "ipython",
    "version": 3
   },
   "file_extension": ".py",
   "mimetype": "text/x-python",
   "name": "python",
   "nbconvert_exporter": "python",
   "pygments_lexer": "ipython3",
   "version": "3.10.9"
  }
 },
 "nbformat": 4,
 "nbformat_minor": 5
}
