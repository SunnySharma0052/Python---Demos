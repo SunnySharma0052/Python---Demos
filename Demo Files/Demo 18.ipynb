{
 "cells": [
  {
   "cell_type": "code",
   "execution_count": 1,
   "id": "c696cc15",
   "metadata": {},
   "outputs": [
    {
     "name": "stdout",
     "output_type": "stream",
     "text": [
      "The number of Data Scientist job posting on linkedin in this year is 750000\n",
      "The number of Developer job posting on linkedin in this year is 600000\n"
     ]
    }
   ],
   "source": [
    "linkedin=\"The number of {} job posting on linkedin in this year is {}\"\n",
    "print(linkedin.format(\"Data Scientist\", 750000))\n",
    "print(linkedin.format(\"Developer\", 600000))"
   ]
  },
  {
   "cell_type": "code",
   "execution_count": 2,
   "id": "1ac054b1",
   "metadata": {},
   "outputs": [
    {
     "name": "stdout",
     "output_type": "stream",
     "text": [
      "The atomic number of the element Hydrogen is 1\n"
     ]
    }
   ],
   "source": [
    "element = \"The atomic number of the element {} is {}\"\n",
    "print(element.format(\"Hydrogen\", 1))"
   ]
  },
  {
   "cell_type": "code",
   "execution_count": 3,
   "id": "10db64b2",
   "metadata": {},
   "outputs": [
    {
     "data": {
      "text/plain": [
       "'barcelona vs real madrid match ended 4-3'"
      ]
     },
     "execution_count": 3,
     "metadata": {},
     "output_type": "execute_result"
    }
   ],
   "source": [
    "\"{3} vs {2} match ended {1}-{0}\".format(3,4,\"real madrid\",\"barcelona\")"
   ]
  },
  {
   "cell_type": "code",
   "execution_count": 4,
   "id": "641a9417",
   "metadata": {},
   "outputs": [
    {
     "name": "stdout",
     "output_type": "stream",
     "text": [
      "The atomic numbers of the element Hydrogen is 1\n"
     ]
    }
   ],
   "source": [
    "element = \"The atomic numbers of the element {1} is {0}\"\n",
    "print(element.format(1, \"Hydrogen\"))"
   ]
  },
  {
   "cell_type": "code",
   "execution_count": 5,
   "id": "38e5653a",
   "metadata": {},
   "outputs": [
    {
     "name": "stdout",
     "output_type": "stream",
     "text": [
      "The number of AI Engineer job posting on linkedin this year is 500000\n"
     ]
    }
   ],
   "source": [
    "linkedin = \"The number of {} job posting on linkedin this year is {}\"\n",
    "job = \"AI Engineer\"\n",
    "count = 500000\n",
    "print(linkedin.format(job,count))"
   ]
  },
  {
   "cell_type": "code",
   "execution_count": 6,
   "id": "da45d4c9",
   "metadata": {},
   "outputs": [
    {
     "name": "stdout",
     "output_type": "stream",
     "text": [
      "The atomic number of the element Hydrogen is 1\n"
     ]
    }
   ],
   "source": [
    "element = \"The atomic number of the element {} is {}\"\n",
    "value1 = \"Hydrogen\"\n",
    "value2 = 1\n",
    "print(element.format(value1, value2))"
   ]
  },
  {
   "cell_type": "code",
   "execution_count": null,
   "id": "897be857",
   "metadata": {},
   "outputs": [],
   "source": []
  }
 ],
 "metadata": {
  "kernelspec": {
   "display_name": "Python 3 (ipykernel)",
   "language": "python",
   "name": "python3"
  },
  "language_info": {
   "codemirror_mode": {
    "name": "ipython",
    "version": 3
   },
   "file_extension": ".py",
   "mimetype": "text/x-python",
   "name": "python",
   "nbconvert_exporter": "python",
   "pygments_lexer": "ipython3",
   "version": "3.10.9"
  }
 },
 "nbformat": 4,
 "nbformat_minor": 5
}
