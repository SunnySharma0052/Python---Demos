{
 "cells": [
  {
   "cell_type": "code",
   "execution_count": 1,
   "id": "dd911a52",
   "metadata": {
    "scrolled": false
   },
   "outputs": [
    {
     "name": "stdout",
     "output_type": "stream",
     "text": [
      "I Live In United States\n"
     ]
    }
   ],
   "source": [
    "sentence = \"I Live In United States\"\n",
    "print(sentence)"
   ]
  },
  {
   "cell_type": "code",
   "execution_count": 2,
   "id": "7d097519",
   "metadata": {},
   "outputs": [
    {
     "data": {
      "text/plain": [
       "'Data Is The New Oil!'"
      ]
     },
     "execution_count": 2,
     "metadata": {},
     "output_type": "execute_result"
    }
   ],
   "source": [
    "variable = \"Data Is The New Oil!\"\n",
    "variable.title()"
   ]
  },
  {
   "cell_type": "code",
   "execution_count": 3,
   "id": "14b357e6",
   "metadata": {},
   "outputs": [
    {
     "data": {
      "text/plain": [
       "'dATA iS tHE nEW oIL!'"
      ]
     },
     "execution_count": 3,
     "metadata": {},
     "output_type": "execute_result"
    }
   ],
   "source": [
    "variable = \"Data Is The New Oil!\"\n",
    "variable.title().swapcase()"
   ]
  },
  {
   "cell_type": "code",
   "execution_count": 4,
   "id": "6874f49c",
   "metadata": {},
   "outputs": [
    {
     "data": {
      "text/plain": [
       "'example'"
      ]
     },
     "execution_count": 4,
     "metadata": {},
     "output_type": "execute_result"
    }
   ],
   "source": [
    "space = \" example \"\n",
    "space.strip()"
   ]
  },
  {
   "cell_type": "code",
   "execution_count": 5,
   "id": "72db935e",
   "metadata": {},
   "outputs": [
    {
     "data": {
      "text/plain": [
       "'Python 3'"
      ]
     },
     "execution_count": 5,
     "metadata": {},
     "output_type": "execute_result"
    }
   ],
   "source": [
    "variable = \"    Python 3     \"\n",
    "variable.strip()"
   ]
  },
  {
   "cell_type": "code",
   "execution_count": 6,
   "id": "0733de41",
   "metadata": {},
   "outputs": [
    {
     "data": {
      "text/plain": [
       "'xampl'"
      ]
     },
     "execution_count": 6,
     "metadata": {},
     "output_type": "execute_result"
    }
   ],
   "source": [
    "space = \"example\"\n",
    "space.strip(\"e\")"
   ]
  },
  {
   "cell_type": "code",
   "execution_count": 7,
   "id": "007450ab",
   "metadata": {},
   "outputs": [
    {
     "data": {
      "text/plain": [
       "' Python App '"
      ]
     },
     "execution_count": 7,
     "metadata": {},
     "output_type": "execute_result"
    }
   ],
   "source": [
    "variable = \" Python App \"\n",
    "variable.strip(\"P\")"
   ]
  },
  {
   "cell_type": "code",
   "execution_count": 8,
   "id": "54b6de6d",
   "metadata": {},
   "outputs": [
    {
     "data": {
      "text/plain": [
       "'ython a'"
      ]
     },
     "execution_count": 8,
     "metadata": {},
     "output_type": "execute_result"
    }
   ],
   "source": [
    "variable = \"python app\"\n",
    "variable.strip(\"p\")"
   ]
  },
  {
   "cell_type": "code",
   "execution_count": 9,
   "id": "661d6ea2",
   "metadata": {},
   "outputs": [
    {
     "data": {
      "text/plain": [
       "'   example'"
      ]
     },
     "execution_count": 9,
     "metadata": {},
     "output_type": "execute_result"
    }
   ],
   "source": [
    "space = \"   example      \"\n",
    "space.rstrip()"
   ]
  },
  {
   "cell_type": "code",
   "execution_count": 10,
   "id": "a25da0d0",
   "metadata": {},
   "outputs": [
    {
     "data": {
      "text/plain": [
       "'exampl'"
      ]
     },
     "execution_count": 10,
     "metadata": {},
     "output_type": "execute_result"
    }
   ],
   "source": [
    "space = \"example\"\n",
    "space.rstrip(\"e\")"
   ]
  },
  {
   "cell_type": "code",
   "execution_count": 11,
   "id": "3e71ab83",
   "metadata": {},
   "outputs": [
    {
     "data": {
      "text/plain": [
       "' python app '"
      ]
     },
     "execution_count": 11,
     "metadata": {},
     "output_type": "execute_result"
    }
   ],
   "source": [
    "variable = \" python app \"\n",
    "variable.rstrip(\"P\")"
   ]
  },
  {
   "cell_type": "code",
   "execution_count": 12,
   "id": "8b193563",
   "metadata": {},
   "outputs": [
    {
     "data": {
      "text/plain": [
       "'python a'"
      ]
     },
     "execution_count": 12,
     "metadata": {},
     "output_type": "execute_result"
    }
   ],
   "source": [
    "variable = \"python app\"\n",
    "variable.rstrip().rstrip(\"p\")"
   ]
  },
  {
   "cell_type": "code",
   "execution_count": 13,
   "id": "2b1ce0f1",
   "metadata": {},
   "outputs": [
    {
     "data": {
      "text/plain": [
       "'example '"
      ]
     },
     "execution_count": 13,
     "metadata": {},
     "output_type": "execute_result"
    }
   ],
   "source": [
    "space = \" example \"\n",
    "space.lstrip()"
   ]
  },
  {
   "cell_type": "code",
   "execution_count": 14,
   "id": "8751cff1",
   "metadata": {},
   "outputs": [
    {
     "data": {
      "text/plain": [
       "'xample'"
      ]
     },
     "execution_count": 14,
     "metadata": {},
     "output_type": "execute_result"
    }
   ],
   "source": [
    "space = \"example\"\n",
    "space.lstrip(\"e\")"
   ]
  },
  {
   "cell_type": "code",
   "execution_count": 15,
   "id": "2842a688",
   "metadata": {},
   "outputs": [
    {
     "data": {
      "text/plain": [
       "'python app'"
      ]
     },
     "execution_count": 15,
     "metadata": {},
     "output_type": "execute_result"
    }
   ],
   "source": [
    "space = \" python app\"\n",
    "space.lstrip()"
   ]
  },
  {
   "cell_type": "code",
   "execution_count": 16,
   "id": "7358e520",
   "metadata": {},
   "outputs": [
    {
     "data": {
      "text/plain": [
       "'ython app'"
      ]
     },
     "execution_count": 16,
     "metadata": {},
     "output_type": "execute_result"
    }
   ],
   "source": [
    "space = \"python app\"\n",
    "space.lstrip().lstrip(\"p\")"
   ]
  },
  {
   "cell_type": "code",
   "execution_count": 17,
   "id": "93663651",
   "metadata": {},
   "outputs": [
    {
     "data": {
      "text/plain": [
       "['__add__',\n",
       " '__class__',\n",
       " '__contains__',\n",
       " '__delattr__',\n",
       " '__dir__',\n",
       " '__doc__',\n",
       " '__eq__',\n",
       " '__format__',\n",
       " '__ge__',\n",
       " '__getattribute__',\n",
       " '__getitem__',\n",
       " '__getnewargs__',\n",
       " '__gt__',\n",
       " '__hash__',\n",
       " '__init__',\n",
       " '__init_subclass__',\n",
       " '__iter__',\n",
       " '__le__',\n",
       " '__len__',\n",
       " '__lt__',\n",
       " '__mod__',\n",
       " '__mul__',\n",
       " '__ne__',\n",
       " '__new__',\n",
       " '__reduce__',\n",
       " '__reduce_ex__',\n",
       " '__repr__',\n",
       " '__rmod__',\n",
       " '__rmul__',\n",
       " '__setattr__',\n",
       " '__sizeof__',\n",
       " '__str__',\n",
       " '__subclasshook__',\n",
       " 'capitalize',\n",
       " 'casefold',\n",
       " 'center',\n",
       " 'count',\n",
       " 'encode',\n",
       " 'endswith',\n",
       " 'expandtabs',\n",
       " 'find',\n",
       " 'format',\n",
       " 'format_map',\n",
       " 'index',\n",
       " 'isalnum',\n",
       " 'isalpha',\n",
       " 'isascii',\n",
       " 'isdecimal',\n",
       " 'isdigit',\n",
       " 'isidentifier',\n",
       " 'islower',\n",
       " 'isnumeric',\n",
       " 'isprintable',\n",
       " 'isspace',\n",
       " 'istitle',\n",
       " 'isupper',\n",
       " 'join',\n",
       " 'ljust',\n",
       " 'lower',\n",
       " 'lstrip',\n",
       " 'maketrans',\n",
       " 'partition',\n",
       " 'removeprefix',\n",
       " 'removesuffix',\n",
       " 'replace',\n",
       " 'rfind',\n",
       " 'rindex',\n",
       " 'rjust',\n",
       " 'rpartition',\n",
       " 'rsplit',\n",
       " 'rstrip',\n",
       " 'split',\n",
       " 'splitlines',\n",
       " 'startswith',\n",
       " 'strip',\n",
       " 'swapcase',\n",
       " 'title',\n",
       " 'translate',\n",
       " 'upper',\n",
       " 'zfill']"
      ]
     },
     "execution_count": 17,
     "metadata": {},
     "output_type": "execute_result"
    }
   ],
   "source": [
    "space = \" example \"\n",
    "dir(space)"
   ]
  },
  {
   "cell_type": "code",
   "execution_count": 18,
   "id": "c16efede",
   "metadata": {},
   "outputs": [
    {
     "data": {
      "text/plain": [
       "'xample'"
      ]
     },
     "execution_count": 18,
     "metadata": {},
     "output_type": "execute_result"
    }
   ],
   "source": [
    "space = \"example\"\n",
    "space.lstrip(\"e\")"
   ]
  },
  {
   "cell_type": "code",
   "execution_count": null,
   "id": "9e0e44c8",
   "metadata": {},
   "outputs": [],
   "source": []
  }
 ],
 "metadata": {
  "kernelspec": {
   "display_name": "Python 3 (ipykernel)",
   "language": "python",
   "name": "python3"
  },
  "language_info": {
   "codemirror_mode": {
    "name": "ipython",
    "version": 3
   },
   "file_extension": ".py",
   "mimetype": "text/x-python",
   "name": "python",
   "nbconvert_exporter": "python",
   "pygments_lexer": "ipython3",
   "version": "3.10.9"
  }
 },
 "nbformat": 4,
 "nbformat_minor": 5
}
