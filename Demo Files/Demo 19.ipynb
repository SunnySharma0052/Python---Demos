{
 "cells": [
  {
   "cell_type": "code",
   "execution_count": 1,
   "id": "7775f7e1",
   "metadata": {},
   "outputs": [
    {
     "name": "stdout",
     "output_type": "stream",
     "text": [
      "The number of Programming job posting on linkedin this year is 15000\n"
     ]
    }
   ],
   "source": [
    "indeed = \"The number of {} job posting on linkedin this year is {}\"\n",
    "value2 = 15000\n",
    "value1 = \"Programming\"\n",
    "print(indeed.format(value1, value2))"
   ]
  },
  {
   "cell_type": "code",
   "execution_count": 2,
   "id": "3f3827d6",
   "metadata": {},
   "outputs": [
    {
     "data": {
      "text/plain": [
       "'The atomic number of the element Hydrogen is 1'"
      ]
     },
     "execution_count": 2,
     "metadata": {},
     "output_type": "execute_result"
    }
   ],
   "source": [
    "value2 = 1\n",
    "value1 = \"Hydrogen\"\n",
    "f\"The atomic number of the element {value1} is {value2}\""
   ]
  },
  {
   "cell_type": "code",
   "execution_count": 3,
   "id": "b3b1449b",
   "metadata": {},
   "outputs": [
    {
     "data": {
      "text/plain": [
       "'My surname is ROY'"
      ]
     },
     "execution_count": 3,
     "metadata": {},
     "output_type": "execute_result"
    }
   ],
   "source": [
    "surname = \"Roy\"\n",
    "f\"My surname is {surname.upper()}\""
   ]
  },
  {
   "cell_type": "code",
   "execution_count": 4,
   "id": "20df23c4",
   "metadata": {},
   "outputs": [
    {
     "data": {
      "text/plain": [
       "'The atomic number of the element Hydrogen is 1'"
      ]
     },
     "execution_count": 4,
     "metadata": {},
     "output_type": "execute_result"
    }
   ],
   "source": [
    "value2 = 1\n",
    "value1 = \"hydrogen\"\n",
    "f\"The atomic number of the element {value1.capitalize()} is {value2}\""
   ]
  },
  {
   "cell_type": "code",
   "execution_count": 5,
   "id": "fa0671e3",
   "metadata": {},
   "outputs": [
    {
     "name": "stdout",
     "output_type": "stream",
     "text": [
      "I'm 32 years old\n"
     ]
    }
   ],
   "source": [
    "sample = f\"I'm {2**5} years old\"\n",
    "print(sample)"
   ]
  },
  {
   "cell_type": "code",
   "execution_count": 6,
   "id": "fec6f393",
   "metadata": {},
   "outputs": [
    {
     "data": {
      "text/plain": [
       "'The result of 2**3 is (8, 8, 8)'"
      ]
     },
     "execution_count": 6,
     "metadata": {},
     "output_type": "execute_result"
    }
   ],
   "source": [
    "f\"The result of 2**3 is {9-1, (6-2)*2, 2**3}\""
   ]
  },
  {
   "cell_type": "code",
   "execution_count": null,
   "id": "de4efa1a",
   "metadata": {},
   "outputs": [],
   "source": []
  }
 ],
 "metadata": {
  "kernelspec": {
   "display_name": "Python 3 (ipykernel)",
   "language": "python",
   "name": "python3"
  },
  "language_info": {
   "codemirror_mode": {
    "name": "ipython",
    "version": 3
   },
   "file_extension": ".py",
   "mimetype": "text/x-python",
   "name": "python",
   "nbconvert_exporter": "python",
   "pygments_lexer": "ipython3",
   "version": "3.10.9"
  }
 },
 "nbformat": 4,
 "nbformat_minor": 5
}
