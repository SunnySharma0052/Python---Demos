{
 "cells": [
  {
   "cell_type": "code",
   "execution_count": 1,
   "id": "7f3bb8c3",
   "metadata": {},
   "outputs": [
    {
     "name": "stdout",
     "output_type": "stream",
     "text": [
      "True\n",
      "False\n"
     ]
    }
   ],
   "source": [
    "list1=[1,2,3,4]\n",
    "print(2 in list1)\n",
    "print(8 in list1)"
   ]
  },
  {
   "cell_type": "code",
   "execution_count": 2,
   "id": "a730e665",
   "metadata": {},
   "outputs": [
    {
     "name": "stdout",
     "output_type": "stream",
     "text": [
      "True\n"
     ]
    }
   ],
   "source": [
    "tuple_example=(10,25,True,False,[150,\"Germany\"])\n",
    "print(False in tuple_example)"
   ]
  },
  {
   "cell_type": "code",
   "execution_count": 3,
   "id": "62b0551b",
   "metadata": {},
   "outputs": [
    {
     "name": "stdout",
     "output_type": "stream",
     "text": [
      "True\n"
     ]
    }
   ],
   "source": [
    "tuple_example=(10,25,True,False,[150,\"Germany\"])\n",
    "print(True in tuple_example)"
   ]
  },
  {
   "cell_type": "code",
   "execution_count": 4,
   "id": "d391a3b7",
   "metadata": {},
   "outputs": [
    {
     "name": "stdout",
     "output_type": "stream",
     "text": [
      "False\n"
     ]
    }
   ],
   "source": [
    "tuple_example=(10,25,True,False,[150,\"Germany\"])\n",
    "print(\"Germany\" in tuple_example)"
   ]
  },
  {
   "cell_type": "code",
   "execution_count": 5,
   "id": "5c2d09da",
   "metadata": {},
   "outputs": [
    {
     "name": "stdout",
     "output_type": "stream",
     "text": [
      "True\n"
     ]
    }
   ],
   "source": [
    "tuple_example=(10,25,True,False,[150,\"Germany\"])\n",
    "print([150,\"Germany\"] in tuple_example)"
   ]
  },
  {
   "cell_type": "code",
   "execution_count": 6,
   "id": "2d3071bb",
   "metadata": {},
   "outputs": [
    {
     "name": "stdout",
     "output_type": "stream",
     "text": [
      "Please Enter Your Gender:Male\n",
      "Please Enter Your Age:45\n",
      "You May Be At Risk For A Heart Attack\n",
      "Healthy Lives\n"
     ]
    }
   ],
   "source": [
    "gender=input(\"Please Enter Your Gender:\")\n",
    "age=int(input(\"Please Enter Your Age:\"))\n",
    "if gender==\"Male\":\n",
    "    if age>40:\n",
    "        print(\"You May Be At Risk For A Heart Attack\")\n",
    "    else:\n",
    "         print(\"Healthy Lives\")\n",
    "    if age>50:\n",
    "        print(\"You Many Be At Risk For A Heart Attack\")\n",
    "    else:\n",
    "        print(\"Healthy Lives\")"
   ]
  },
  {
   "cell_type": "code",
   "execution_count": 7,
   "id": "14733a66",
   "metadata": {},
   "outputs": [
    {
     "name": "stdout",
     "output_type": "stream",
     "text": [
      "Please Write Which Group You Are In:Kid\n",
      "Kids Are Not Allowed\n"
     ]
    }
   ],
   "source": [
    "group=\"Kid\",\"Adult\",\"Elderly\"\n",
    "tourist=input(\"Please Write Which Group You Are In:\")\n",
    "if tourist in group:\n",
    "    if tourist==\"Kid\":\n",
    "        print(\"Kids Are Not Allowed\")\n",
    "    elif tourist==\"Adult\":\n",
    "        print(\"Adults Are Allowed\")\n",
    "    elif tourist==\"Elderly\":\n",
    "        print(\"Elderlies Are Not Allowed\")\n",
    "    else:\n",
    "        print(\"Tourist Is Not Included In The Group\")"
   ]
  },
  {
   "cell_type": "code",
   "execution_count": 8,
   "id": "37b1011c",
   "metadata": {},
   "outputs": [
    {
     "name": "stdout",
     "output_type": "stream",
     "text": [
      "Please Write Which Group You Are In:Adult\n",
      "Adults Are Allowed\n"
     ]
    }
   ],
   "source": [
    "group=\"Kid\",\"Adult\",\"Elderly\"\n",
    "tourist=input(\"Please Write Which Group You Are In:\")\n",
    "if tourist in group:\n",
    "    if tourist==\"Kid\":\n",
    "        print(\"Kids Are Not Allowed\")\n",
    "    elif tourist==\"Adult\":\n",
    "        print(\"Adults Are Allowed\")\n",
    "    elif tourist==\"Elderly\":\n",
    "        print(\"Elderlies Are Not Allowed\")\n",
    "    else:\n",
    "        print(\"Tourist Is Not Included In The Group\")"
   ]
  },
  {
   "cell_type": "code",
   "execution_count": 9,
   "id": "dbb5622a",
   "metadata": {},
   "outputs": [
    {
     "name": "stdout",
     "output_type": "stream",
     "text": [
      "Please Write Which Group You Are In:Elderly\n",
      "Elderlies Are Not Allowed\n"
     ]
    }
   ],
   "source": [
    "group=\"Kid\",\"Adult\",\"Elderly\"\n",
    "tourist=input(\"Please Write Which Group You Are In:\")\n",
    "if tourist in group:\n",
    "    if tourist==\"Kid\":\n",
    "        print(\"Kids Are Not Allowed\")\n",
    "    elif tourist==\"Adult\":\n",
    "        print(\"Adults Are Allowed\")\n",
    "    elif tourist==\"Elderly\":\n",
    "        print(\"Elderlies Are Not Allowed\")\n",
    "    else:\n",
    "        print(\"Tourist Is Not Included In The Group\")"
   ]
  },
  {
   "cell_type": "code",
   "execution_count": null,
   "id": "2b4d3eb2",
   "metadata": {},
   "outputs": [],
   "source": []
  }
 ],
 "metadata": {
  "kernelspec": {
   "display_name": "Python 3 (ipykernel)",
   "language": "python",
   "name": "python3"
  },
  "language_info": {
   "codemirror_mode": {
    "name": "ipython",
    "version": 3
   },
   "file_extension": ".py",
   "mimetype": "text/x-python",
   "name": "python",
   "nbconvert_exporter": "python",
   "pygments_lexer": "ipython3",
   "version": "3.10.9"
  }
 },
 "nbformat": 4,
 "nbformat_minor": 5
}
