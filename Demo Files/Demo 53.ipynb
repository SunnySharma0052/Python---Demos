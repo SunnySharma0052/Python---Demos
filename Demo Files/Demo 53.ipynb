{
 "cells": [
  {
   "cell_type": "code",
   "execution_count": 1,
   "id": "a234b166",
   "metadata": {},
   "outputs": [
    {
     "name": "stdout",
     "output_type": "stream",
     "text": [
      "True\n"
     ]
    }
   ],
   "source": [
    "countries = [\"USA\",\"FRANCE\",\"JAPAN\",\"ITALY\"]\n",
    "print(all(countries))"
   ]
  },
  {
   "cell_type": "code",
   "execution_count": 2,
   "id": "8e5523be",
   "metadata": {},
   "outputs": [
    {
     "name": "stdout",
     "output_type": "stream",
     "text": [
      "False\n"
     ]
    }
   ],
   "source": [
    "names = [\"JULIA\",\"AHMET\",\"ABRAHAM\",\"SUSAN\",0]\n",
    "print(all(names))"
   ]
  },
  {
   "cell_type": "code",
   "execution_count": 3,
   "id": "3e47c5f3",
   "metadata": {},
   "outputs": [
    {
     "name": "stdout",
     "output_type": "stream",
     "text": [
      "True\n"
     ]
    }
   ],
   "source": [
    "empty = {}\n",
    "print(all(empty))"
   ]
  },
  {
   "cell_type": "code",
   "execution_count": 4,
   "id": "f140c435",
   "metadata": {},
   "outputs": [
    {
     "name": "stdout",
     "output_type": "stream",
     "text": [
      "True\n"
     ]
    }
   ],
   "source": [
    "example = \" \"\n",
    "print(all(example))"
   ]
  },
  {
   "cell_type": "code",
   "execution_count": 5,
   "id": "5b3c2666",
   "metadata": {},
   "outputs": [
    {
     "name": "stdout",
     "output_type": "stream",
     "text": [
      "True\n"
     ]
    }
   ],
   "source": [
    "values = [0,False,\"Kayra\"]\n",
    "print(any(values))"
   ]
  },
  {
   "cell_type": "code",
   "execution_count": 6,
   "id": "ed0d9ddf",
   "metadata": {},
   "outputs": [
    {
     "name": "stdout",
     "output_type": "stream",
     "text": [
      "False\n"
     ]
    }
   ],
   "source": [
    "values = [0,False]\n",
    "print(any(values))"
   ]
  },
  {
   "cell_type": "code",
   "execution_count": 7,
   "id": "d28f3fdd",
   "metadata": {},
   "outputs": [
    {
     "name": "stdout",
     "output_type": "stream",
     "text": [
      "False\n"
     ]
    }
   ],
   "source": [
    "empty = {}\n",
    "print(any(empty))"
   ]
  },
  {
   "cell_type": "code",
   "execution_count": 8,
   "id": "d609d967",
   "metadata": {},
   "outputs": [
    {
     "name": "stdout",
     "output_type": "stream",
     "text": [
      "False\n"
     ]
    }
   ],
   "source": [
    "example = \"\"\n",
    "print(any(example))"
   ]
  },
  {
   "cell_type": "code",
   "execution_count": 9,
   "id": "62946cf8",
   "metadata": {},
   "outputs": [
    {
     "data": {
      "text/plain": [
       "<map at 0x21166763070>"
      ]
     },
     "execution_count": 9,
     "metadata": {},
     "output_type": "execute_result"
    }
   ],
   "source": [
    "phone_brand = [\"I Phone\",\"Samsung\",\"Huawai\",\"Nokia\",\"Xiomi\"]\n",
    "\n",
    "def length (x):\n",
    "    return len(x)\n",
    "\n",
    "map(length,phone_brand)"
   ]
  },
  {
   "cell_type": "code",
   "execution_count": 10,
   "id": "6def109e",
   "metadata": {},
   "outputs": [
    {
     "data": {
      "text/plain": [
       "[7, 7, 6, 5, 5]"
      ]
     },
     "execution_count": 10,
     "metadata": {},
     "output_type": "execute_result"
    }
   ],
   "source": [
    "phone_brand = [\"I Phone\",\"Samsung\",\"Huawai\",\"Nokia\",\"Xiomi\"]\n",
    "\n",
    "def length (x):\n",
    "    return len(x)\n",
    "\n",
    "list(map(length,phone_brand))"
   ]
  },
  {
   "cell_type": "code",
   "execution_count": 11,
   "id": "45c109d4",
   "metadata": {},
   "outputs": [
    {
     "data": {
      "text/plain": [
       "<map at 0x21166762ce0>"
      ]
     },
     "execution_count": 11,
     "metadata": {},
     "output_type": "execute_result"
    }
   ],
   "source": [
    "triangle_base_height = [(6,8),(10,20),(3,4),(6,8)]\n",
    "\n",
    "def calculate_area(x):\n",
    "    return(x[0]*x[1])/2\n",
    "\n",
    "map(calculate_area,triangle_base_height)"
   ]
  },
  {
   "cell_type": "code",
   "execution_count": 12,
   "id": "cd7b9df1",
   "metadata": {},
   "outputs": [
    {
     "data": {
      "text/plain": [
       "[24.0, 100.0, 6.0, 24.0]"
      ]
     },
     "execution_count": 12,
     "metadata": {},
     "output_type": "execute_result"
    }
   ],
   "source": [
    "triangle_base_height = [(6,8),(10,20),(3,4),(6,8)]\n",
    "\n",
    "def calculate_area(x):\n",
    "    return(x[0]*x[1])/2\n",
    "\n",
    "list(map(calculate_area,triangle_base_height))"
   ]
  },
  {
   "cell_type": "code",
   "execution_count": 13,
   "id": "58d67e8f",
   "metadata": {},
   "outputs": [
    {
     "data": {
      "text/plain": [
       "<filter at 0x21166761f60>"
      ]
     },
     "execution_count": 13,
     "metadata": {},
     "output_type": "execute_result"
    }
   ],
   "source": [
    "list1 = [1,15,25,18,25,32,50,45]\n",
    "\n",
    "def compare(x):\n",
    "    return x<20\n",
    "\n",
    "filter(compare,list1)"
   ]
  },
  {
   "cell_type": "code",
   "execution_count": 14,
   "id": "62209f8e",
   "metadata": {},
   "outputs": [
    {
     "data": {
      "text/plain": [
       "[1, 15, 18]"
      ]
     },
     "execution_count": 14,
     "metadata": {},
     "output_type": "execute_result"
    }
   ],
   "source": [
    "list1 = [1,15,25,18,25,32,50,45]\n",
    "\n",
    "def compare(x):\n",
    "    return x<20\n",
    "\n",
    "list(filter(compare,list1))"
   ]
  },
  {
   "cell_type": "code",
   "execution_count": 15,
   "id": "e0b55490",
   "metadata": {},
   "outputs": [
    {
     "data": {
      "text/plain": [
       "<filter at 0x21166763cd0>"
      ]
     },
     "execution_count": 15,
     "metadata": {},
     "output_type": "execute_result"
    }
   ],
   "source": [
    "letters_example = ['a','b','d','e','i','j','o']\n",
    "\n",
    "def vowels_letter(x):\n",
    "    vowels = ['a','e','i','o','u']\n",
    "    return(True if x in vowels else False)\n",
    "\n",
    "filter(vowels_letter,letters_example)"
   ]
  },
  {
   "cell_type": "code",
   "execution_count": 16,
   "id": "c2d8157f",
   "metadata": {},
   "outputs": [
    {
     "data": {
      "text/plain": [
       "['a', 'e', 'i', 'o']"
      ]
     },
     "execution_count": 16,
     "metadata": {},
     "output_type": "execute_result"
    }
   ],
   "source": [
    "letters_example = ['a','b','d','e','i','j','o']\n",
    "\n",
    "def vowels_letter(x):\n",
    "    vowels = ['a','e','i','o','u']\n",
    "    return(True if x in vowels else False)\n",
    "\n",
    "list(filter(vowels_letter,letters_example))"
   ]
  },
  {
   "cell_type": "code",
   "execution_count": 17,
   "id": "59657a17",
   "metadata": {},
   "outputs": [
    {
     "data": {
      "text/plain": [
       "<zip at 0x21166c09880>"
      ]
     },
     "execution_count": 17,
     "metadata": {},
     "output_type": "execute_result"
    }
   ],
   "source": [
    "list1 = [\"a\",\"b\",\"c\",\"d\",\"e\"]\n",
    "list2 = [1,2,3,4]\n",
    "\n",
    "zip(list1,list2)"
   ]
  },
  {
   "cell_type": "code",
   "execution_count": 18,
   "id": "810bf872",
   "metadata": {},
   "outputs": [
    {
     "name": "stdout",
     "output_type": "stream",
     "text": [
      "[('a', 1), ('b', 2), ('c', 3), ('d', 4)]\n"
     ]
    }
   ],
   "source": [
    "list1 = [\"a\",\"b\",\"c\",\"d\",\"e\"]\n",
    "list2 = [1,2,3,4]\n",
    "\n",
    "print(list(zip(list1,list2)))"
   ]
  },
  {
   "cell_type": "code",
   "execution_count": 19,
   "id": "0d971e47",
   "metadata": {},
   "outputs": [
    {
     "data": {
      "text/plain": [
       "('Italy', 39)"
      ]
     },
     "execution_count": 19,
     "metadata": {},
     "output_type": "execute_result"
    }
   ],
   "source": [
    "country = [\"Turkey\",\"Germany\",\"Italy\",\"Sweden\"]\n",
    "tel_code = [90,49,39,46]\n",
    "\n",
    "list(zip(country,tel_code))[2]"
   ]
  },
  {
   "cell_type": "code",
   "execution_count": 20,
   "id": "70f0691a",
   "metadata": {},
   "outputs": [
    {
     "data": {
      "text/plain": [
       "[('Turkey', 90), ('Germany', 49)]"
      ]
     },
     "execution_count": 20,
     "metadata": {},
     "output_type": "execute_result"
    }
   ],
   "source": [
    "country = [\"Turkey\",\"Germany\",\"Italy\",\"Sweden\"]\n",
    "tel_code = [90,49,39,46]\n",
    "\n",
    "list(zip(country,tel_code))[0:2]"
   ]
  },
  {
   "cell_type": "code",
   "execution_count": 21,
   "id": "ea65d9e9",
   "metadata": {},
   "outputs": [
    {
     "data": {
      "text/plain": [
       "<enumerate at 0x21166c2b580>"
      ]
     },
     "execution_count": 21,
     "metadata": {},
     "output_type": "execute_result"
    }
   ],
   "source": [
    "list_example = [\"Egypt\",\"Denmark\",\"Norway\"]\n",
    "\n",
    "enumerate(list_example)"
   ]
  },
  {
   "cell_type": "code",
   "execution_count": 22,
   "id": "0ce66ffa",
   "metadata": {},
   "outputs": [
    {
     "data": {
      "text/plain": [
       "[(0, 'Egypt'), (1, 'Denmark'), (2, 'Norway')]"
      ]
     },
     "execution_count": 22,
     "metadata": {},
     "output_type": "execute_result"
    }
   ],
   "source": [
    "list_example = [\"Egypt\",\"Denmark\",\"Norway\"]\n",
    "\n",
    "list(enumerate(list_example))"
   ]
  },
  {
   "cell_type": "code",
   "execution_count": 23,
   "id": "b4cffa56",
   "metadata": {},
   "outputs": [
    {
     "data": {
      "text/plain": [
       "{0: 'Egypt', 1: 'Denmark', 2: 'Norway'}"
      ]
     },
     "execution_count": 23,
     "metadata": {},
     "output_type": "execute_result"
    }
   ],
   "source": [
    "list_example = [\"Egypt\",\"Denmark\",\"Norway\"]\n",
    "\n",
    "dict(enumerate(list_example))"
   ]
  },
  {
   "cell_type": "code",
   "execution_count": 24,
   "id": "848d8b86",
   "metadata": {},
   "outputs": [
    {
     "name": "stdout",
     "output_type": "stream",
     "text": [
      "<enumerate object at 0x0000021166B601C0>\n"
     ]
    }
   ],
   "source": [
    "a = ('Real Madrid','Barcelona','Milan')\n",
    "b = enumerate(a)\n",
    "print(b)"
   ]
  },
  {
   "cell_type": "code",
   "execution_count": 25,
   "id": "544fbdec",
   "metadata": {},
   "outputs": [
    {
     "name": "stdout",
     "output_type": "stream",
     "text": [
      "[(0, 'Real Madrid'), (1, 'Barcelona'), (2, 'Milan')]\n"
     ]
    }
   ],
   "source": [
    "a = ('Real Madrid','Barcelona','Milan')\n",
    "b = enumerate(a)\n",
    "print(list(b))"
   ]
  },
  {
   "cell_type": "code",
   "execution_count": 26,
   "id": "ea5c9924",
   "metadata": {},
   "outputs": [
    {
     "data": {
      "text/plain": [
       "[(2, 'Egypt'), (3, 'Denmark'), (4, 'Norway')]"
      ]
     },
     "execution_count": 26,
     "metadata": {},
     "output_type": "execute_result"
    }
   ],
   "source": [
    "list_example = [\"Egypt\",\"Denmark\",\"Norway\"]\n",
    "\n",
    "list(enumerate(list_example,start=2))"
   ]
  },
  {
   "cell_type": "code",
   "execution_count": 27,
   "id": "cbf43bea",
   "metadata": {},
   "outputs": [
    {
     "data": {
      "text/plain": [
       "{2: 'Egypt', 3: 'Denmark', 4: 'Norway'}"
      ]
     },
     "execution_count": 27,
     "metadata": {},
     "output_type": "execute_result"
    }
   ],
   "source": [
    "list_example = [\"Egypt\",\"Denmark\",\"Norway\"]\n",
    "\n",
    "dict(enumerate(list_example,start=2))"
   ]
  },
  {
   "cell_type": "code",
   "execution_count": 28,
   "id": "79c48e2d",
   "metadata": {},
   "outputs": [
    {
     "name": "stdout",
     "output_type": "stream",
     "text": [
      "[(11, 'Barcelona'), (12, 'Milan')]\n"
     ]
    }
   ],
   "source": [
    "a = ('Real Madrid','Barcelona','Milan')\n",
    "b = enumerate(a,start=10)\n",
    "print(list(b)[1:])"
   ]
  },
  {
   "cell_type": "code",
   "execution_count": null,
   "id": "45259256",
   "metadata": {},
   "outputs": [],
   "source": []
  }
 ],
 "metadata": {
  "kernelspec": {
   "display_name": "Python 3 (ipykernel)",
   "language": "python",
   "name": "python3"
  },
  "language_info": {
   "codemirror_mode": {
    "name": "ipython",
    "version": 3
   },
   "file_extension": ".py",
   "mimetype": "text/x-python",
   "name": "python",
   "nbconvert_exporter": "python",
   "pygments_lexer": "ipython3",
   "version": "3.10.9"
  }
 },
 "nbformat": 4,
 "nbformat_minor": 5
}
