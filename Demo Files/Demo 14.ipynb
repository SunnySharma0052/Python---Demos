{
 "cells": [
  {
   "cell_type": "code",
   "execution_count": 1,
   "id": "d9386ce6",
   "metadata": {},
   "outputs": [
    {
     "data": {
      "text/plain": [
       "'F'"
      ]
     },
     "execution_count": 1,
     "metadata": {},
     "output_type": "execute_result"
    }
   ],
   "source": [
    "car = \"Ferrari\"\n",
    "car[0]"
   ]
  },
  {
   "cell_type": "code",
   "execution_count": 2,
   "id": "206fe5cf",
   "metadata": {},
   "outputs": [
    {
     "data": {
      "text/plain": [
       "'erra'"
      ]
     },
     "execution_count": 2,
     "metadata": {},
     "output_type": "execute_result"
    }
   ],
   "source": [
    "car = \"Ferrari\"\n",
    "car[1:5]"
   ]
  },
  {
   "cell_type": "code",
   "execution_count": 3,
   "id": "82e66039",
   "metadata": {},
   "outputs": [
    {
     "data": {
      "text/plain": [
       "' Python'"
      ]
     },
     "execution_count": 3,
     "metadata": {},
     "output_type": "execute_result"
    }
   ],
   "source": [
    "variable = \"I Love Python\"\n",
    "variable[6:13]"
   ]
  },
  {
   "cell_type": "code",
   "execution_count": 4,
   "id": "9338be83",
   "metadata": {},
   "outputs": [
    {
     "name": "stdout",
     "output_type": "stream",
     "text": [
      "ea\n"
     ]
    }
   ],
   "source": [
    "car = \"Ferrari\"\n",
    "print(car[1:5:3])"
   ]
  },
  {
   "cell_type": "code",
   "execution_count": 6,
   "id": "46df99de",
   "metadata": {},
   "outputs": [
    {
     "data": {
      "text/plain": [
       "'ILv y'"
      ]
     },
     "execution_count": 6,
     "metadata": {},
     "output_type": "execute_result"
    }
   ],
   "source": [
    "variable = \"I Love Python\"\n",
    "variable[0:10:2]"
   ]
  },
  {
   "cell_type": "code",
   "execution_count": 7,
   "id": "121ef660",
   "metadata": {},
   "outputs": [
    {
     "data": {
      "text/plain": [
       "'Io t'"
      ]
     },
     "execution_count": 7,
     "metadata": {},
     "output_type": "execute_result"
    }
   ],
   "source": [
    "variable = \"I love python\"\n",
    "variable[0:10:3]"
   ]
  },
  {
   "cell_type": "code",
   "execution_count": 8,
   "id": "0f68c9ea",
   "metadata": {},
   "outputs": [
    {
     "name": "stdout",
     "output_type": "stream",
     "text": [
      "rari\n"
     ]
    }
   ],
   "source": [
    "car = \"Ferrari\"\n",
    "print(car[3:])"
   ]
  },
  {
   "cell_type": "code",
   "execution_count": 9,
   "id": "c24f5c30",
   "metadata": {},
   "outputs": [
    {
     "name": "stdout",
     "output_type": "stream",
     "text": [
      "ve python\n"
     ]
    }
   ],
   "source": [
    "variable = \"I love python\"\n",
    "print(variable[4:])"
   ]
  },
  {
   "cell_type": "code",
   "execution_count": 10,
   "id": "04818265",
   "metadata": {},
   "outputs": [
    {
     "name": "stdout",
     "output_type": "stream",
     "text": [
      "Fer\n"
     ]
    }
   ],
   "source": [
    "car = \"Ferrari\"\n",
    "print(car[:3])"
   ]
  },
  {
   "cell_type": "code",
   "execution_count": null,
   "id": "dd8dc545",
   "metadata": {},
   "outputs": [],
   "source": []
  }
 ],
 "metadata": {
  "kernelspec": {
   "display_name": "Python 3 (ipykernel)",
   "language": "python",
   "name": "python3"
  },
  "language_info": {
   "codemirror_mode": {
    "name": "ipython",
    "version": 3
   },
   "file_extension": ".py",
   "mimetype": "text/x-python",
   "name": "python",
   "nbconvert_exporter": "python",
   "pygments_lexer": "ipython3",
   "version": "3.10.9"
  }
 },
 "nbformat": 4,
 "nbformat_minor": 5
}
