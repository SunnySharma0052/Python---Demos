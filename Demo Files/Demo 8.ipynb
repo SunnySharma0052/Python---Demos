{
 "cells": [
  {
   "cell_type": "code",
   "execution_count": 1,
   "id": "735bf79d",
   "metadata": {},
   "outputs": [
    {
     "name": "stdout",
     "output_type": "stream",
     "text": [
      "my name is sunny sharma\n",
      "I'm 20 years old\n"
     ]
    }
   ],
   "source": [
    "print(\"my name is sunny sharma\\nI'm 20 years old\")"
   ]
  },
  {
   "cell_type": "code",
   "execution_count": 2,
   "id": "aca97e94",
   "metadata": {},
   "outputs": [
    {
     "name": "stdout",
     "output_type": "stream",
     "text": [
      "I\n",
      "Love\n",
      "My\n",
      "India\n"
     ]
    }
   ],
   "source": [
    "print(\"I\\nLove\\nMy\\nIndia\")"
   ]
  },
  {
   "cell_type": "code",
   "execution_count": 3,
   "id": "1ca1f261",
   "metadata": {},
   "outputs": [
    {
     "name": "stdout",
     "output_type": "stream",
     "text": [
      "my name is sunny sharma\tI'm 20 years old\n"
     ]
    }
   ],
   "source": [
    "print(\"my name is sunny sharma\\tI'm 20 years old\")"
   ]
  },
  {
   "cell_type": "code",
   "execution_count": 4,
   "id": "e8461536",
   "metadata": {},
   "outputs": [
    {
     "name": "stdout",
     "output_type": "stream",
     "text": [
      "my name is sunny sharma\t I'm 20 years old\n"
     ]
    }
   ],
   "source": [
    "print(\"my name is sunny sharma\\t I'm 20 years old\")"
   ]
  },
  {
   "cell_type": "code",
   "execution_count": 5,
   "id": "33127d56",
   "metadata": {},
   "outputs": [
    {
     "ename": "SyntaxError",
     "evalue": "unexpected character after line continuation character (3735264865.py, line 1)",
     "output_type": "error",
     "traceback": [
      "\u001b[1;36m  Cell \u001b[1;32mIn[5], line 1\u001b[1;36m\u001b[0m\n\u001b[1;33m    print(I\\tLove\\nMy\\tIndia)\u001b[0m\n\u001b[1;37m            ^\u001b[0m\n\u001b[1;31mSyntaxError\u001b[0m\u001b[1;31m:\u001b[0m unexpected character after line continuation character\n"
     ]
    }
   ],
   "source": [
    "print(I\\tLove\\nMy\\tIndia)"
   ]
  },
  {
   "cell_type": "code",
   "execution_count": 6,
   "id": "05e859d9",
   "metadata": {},
   "outputs": [
    {
     "name": "stdout",
     "output_type": "stream",
     "text": [
      "I\tLove\n",
      "My\tIndia\n"
     ]
    }
   ],
   "source": [
    "print(\"I\\tLove\\nMy\\tIndia\")"
   ]
  },
  {
   "cell_type": "code",
   "execution_count": 7,
   "id": "f4042507",
   "metadata": {},
   "outputs": [
    {
     "name": "stdout",
     "output_type": "stream",
     "text": [
      "my name is sunny sharma\t\tI'm 20 years old\n"
     ]
    }
   ],
   "source": [
    "print(\"my name is sunny sharma\\t\\tI'm 20 years old\")"
   ]
  },
  {
   "cell_type": "code",
   "execution_count": 8,
   "id": "9940828d",
   "metadata": {},
   "outputs": [
    {
     "name": "stdout",
     "output_type": "stream",
     "text": [
      "I\t\tLove\n",
      "\n",
      "My\t\tIndia\n"
     ]
    }
   ],
   "source": [
    "print(\"I\\t\\tLove\\n\\nMy\\t\\tIndia\")"
   ]
  },
  {
   "cell_type": "code",
   "execution_count": 9,
   "id": "1e7cf3ae",
   "metadata": {},
   "outputs": [
    {
     "name": "stdout",
     "output_type": "stream",
     "text": [
      "my name is sunny sharma\bI'm 20 years old\n"
     ]
    }
   ],
   "source": [
    "print(\"my name is sunny sharma\\bI'm 20 years old\")"
   ]
  },
  {
   "cell_type": "code",
   "execution_count": 10,
   "id": "aa74c8c2",
   "metadata": {},
   "outputs": [
    {
     "name": "stdout",
     "output_type": "stream",
     "text": [
      "I\bLove\tMy\bIndia\n"
     ]
    }
   ],
   "source": [
    "print(\"I\\bLove\\tMy\\bIndia\")"
   ]
  },
  {
   "cell_type": "code",
   "execution_count": 11,
   "id": "88599c71",
   "metadata": {},
   "outputs": [
    {
     "ename": "SyntaxError",
     "evalue": "unterminated string literal (detected at line 1) (169188358.py, line 1)",
     "output_type": "error",
     "traceback": [
      "\u001b[1;36m  Cell \u001b[1;32mIn[11], line 1\u001b[1;36m\u001b[0m\n\u001b[1;33m    print('I'm 20 years old')\u001b[0m\n\u001b[1;37m                           ^\u001b[0m\n\u001b[1;31mSyntaxError\u001b[0m\u001b[1;31m:\u001b[0m unterminated string literal (detected at line 1)\n"
     ]
    }
   ],
   "source": [
    "print('I'm 20 years old')"
   ]
  },
  {
   "cell_type": "code",
   "execution_count": 12,
   "id": "5cc63358",
   "metadata": {},
   "outputs": [
    {
     "name": "stdout",
     "output_type": "stream",
     "text": [
      "I'm 20 years old\n"
     ]
    }
   ],
   "source": [
    "print(\"I'm 20 years old\")"
   ]
  },
  {
   "cell_type": "code",
   "execution_count": 13,
   "id": "4b350b17",
   "metadata": {},
   "outputs": [
    {
     "name": "stdout",
     "output_type": "stream",
     "text": [
      "I'm 20 years old\n"
     ]
    }
   ],
   "source": [
    "print('I\\'m 20 years old')"
   ]
  },
  {
   "cell_type": "code",
   "execution_count": 14,
   "id": "1244ff91",
   "metadata": {},
   "outputs": [
    {
     "name": "stdout",
     "output_type": "stream",
     "text": [
      "Python developer is\\Guido Van Rossum....\n"
     ]
    }
   ],
   "source": [
    "print(\"Python developer is\" \"\\Guido Van Rossum....\")"
   ]
  },
  {
   "cell_type": "code",
   "execution_count": null,
   "id": "996db3bb",
   "metadata": {},
   "outputs": [],
   "source": []
  }
 ],
 "metadata": {
  "kernelspec": {
   "display_name": "Python 3 (ipykernel)",
   "language": "python",
   "name": "python3"
  },
  "language_info": {
   "codemirror_mode": {
    "name": "ipython",
    "version": 3
   },
   "file_extension": ".py",
   "mimetype": "text/x-python",
   "name": "python",
   "nbconvert_exporter": "python",
   "pygments_lexer": "ipython3",
   "version": "3.10.9"
  }
 },
 "nbformat": 4,
 "nbformat_minor": 5
}
