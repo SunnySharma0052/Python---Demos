{
 "cells": [
  {
   "cell_type": "code",
   "execution_count": 1,
   "id": "4677faa6",
   "metadata": {},
   "outputs": [
    {
     "name": "stdout",
     "output_type": "stream",
     "text": [
      "python\n"
     ]
    }
   ],
   "source": [
    "example = \"python\"\n",
    "print(example)"
   ]
  },
  {
   "cell_type": "code",
   "execution_count": 2,
   "id": "26a3e439",
   "metadata": {},
   "outputs": [],
   "source": [
    "#This is a comment\\nIf a number is enclosed in quote, its type is now a string."
   ]
  },
  {
   "cell_type": "code",
   "execution_count": 3,
   "id": "6b2e23d8",
   "metadata": {},
   "outputs": [
    {
     "data": {
      "text/plain": [
       "'100'"
      ]
     },
     "execution_count": 3,
     "metadata": {},
     "output_type": "execute_result"
    }
   ],
   "source": [
    "\"100\"#The expression on the left is now a string value."
   ]
  },
  {
   "cell_type": "code",
   "execution_count": 4,
   "id": "80eee349",
   "metadata": {},
   "outputs": [
    {
     "data": {
      "text/plain": [
       "str"
      ]
     },
     "execution_count": 4,
     "metadata": {},
     "output_type": "execute_result"
    }
   ],
   "source": [
    "example = \"1,50,000\"\n",
    "type(example)"
   ]
  },
  {
   "cell_type": "code",
   "execution_count": 5,
   "id": "e12a9d8a",
   "metadata": {},
   "outputs": [
    {
     "data": {
      "text/plain": [
       "'HelloData'"
      ]
     },
     "execution_count": 5,
     "metadata": {},
     "output_type": "execute_result"
    }
   ],
   "source": [
    "\"Hello\" + \"Data\""
   ]
  },
  {
   "cell_type": "code",
   "execution_count": 6,
   "id": "56619ca3",
   "metadata": {},
   "outputs": [
    {
     "data": {
      "text/plain": [
       "'Python Is King'"
      ]
     },
     "execution_count": 6,
     "metadata": {},
     "output_type": "execute_result"
    }
   ],
   "source": [
    "                                    'Python Is King'"
   ]
  },
  {
   "cell_type": "code",
   "execution_count": 7,
   "id": "7f444165",
   "metadata": {},
   "outputs": [
    {
     "data": {
      "text/plain": [
       "'pythonis king'"
      ]
     },
     "execution_count": 7,
     "metadata": {},
     "output_type": "execute_result"
    }
   ],
   "source": [
    "\"python\"+\"\"+\"is king\""
   ]
  },
  {
   "cell_type": "code",
   "execution_count": 8,
   "id": "ddf40d92",
   "metadata": {},
   "outputs": [
    {
     "data": {
      "text/plain": [
       "'python+is king'"
      ]
     },
     "execution_count": 8,
     "metadata": {},
     "output_type": "execute_result"
    }
   ],
   "source": [
    "\"python\"\"+\" \"is king\""
   ]
  },
  {
   "cell_type": "code",
   "execution_count": 9,
   "id": "c4af6c53",
   "metadata": {},
   "outputs": [
    {
     "data": {
      "text/plain": [
       "'pythonis king'"
      ]
     },
     "execution_count": 9,
     "metadata": {},
     "output_type": "execute_result"
    }
   ],
   "source": [
    "\"python\"+ \"is king\""
   ]
  },
  {
   "cell_type": "code",
   "execution_count": 10,
   "id": "03984b81",
   "metadata": {},
   "outputs": [
    {
     "data": {
      "text/plain": [
       "'HelloHelloHello'"
      ]
     },
     "execution_count": 10,
     "metadata": {},
     "output_type": "execute_result"
    }
   ],
   "source": [
    "\"Hello\"* 3"
   ]
  },
  {
   "cell_type": "code",
   "execution_count": 11,
   "id": "6687152a",
   "metadata": {},
   "outputs": [
    {
     "data": {
      "text/plain": [
       "'Python Python Python Python '"
      ]
     },
     "execution_count": 11,
     "metadata": {},
     "output_type": "execute_result"
    }
   ],
   "source": [
    "2* \"Python \"*2"
   ]
  },
  {
   "cell_type": "code",
   "execution_count": 12,
   "id": "c1723f01",
   "metadata": {},
   "outputs": [
    {
     "ename": "TypeError",
     "evalue": "can't multiply sequence by non-int of type 'str'",
     "output_type": "error",
     "traceback": [
      "\u001b[1;31m---------------------------------------------------------------------------\u001b[0m",
      "\u001b[1;31mTypeError\u001b[0m                                 Traceback (most recent call last)",
      "Cell \u001b[1;32mIn[12], line 1\u001b[0m\n\u001b[1;32m----> 1\u001b[0m \u001b[38;5;124;43m\"\u001b[39;49m\u001b[38;5;124;43mHello\u001b[39;49m\u001b[38;5;124;43m\"\u001b[39;49m\u001b[43m \u001b[49m\u001b[38;5;241;43m*\u001b[39;49m\u001b[43m \u001b[49m\u001b[38;5;124;43m\"\u001b[39;49m\u001b[38;5;124;43mHello\u001b[39;49m\u001b[38;5;124;43m\"\u001b[39;49m\n",
      "\u001b[1;31mTypeError\u001b[0m: can't multiply sequence by non-int of type 'str'"
     ]
    }
   ],
   "source": [
    "\"Hello\" * \"Hello\""
   ]
  },
  {
   "cell_type": "code",
   "execution_count": 13,
   "id": "7b6c2cdd",
   "metadata": {},
   "outputs": [
    {
     "ename": "TypeError",
     "evalue": "can't multiply sequence by non-int of type 'str'",
     "output_type": "error",
     "traceback": [
      "\u001b[1;31m---------------------------------------------------------------------------\u001b[0m",
      "\u001b[1;31mTypeError\u001b[0m                                 Traceback (most recent call last)",
      "Cell \u001b[1;32mIn[13], line 1\u001b[0m\n\u001b[1;32m----> 1\u001b[0m \u001b[38;5;124;43m\"\u001b[39;49m\u001b[38;5;124;43mData\u001b[39;49m\u001b[38;5;124;43m\"\u001b[39;49m\u001b[43m \u001b[49m\u001b[38;5;241;43m*\u001b[39;49m\u001b[43m \u001b[49m\u001b[38;5;124;43m\"\u001b[39;49m\u001b[38;5;124;43m5\u001b[39;49m\u001b[38;5;124;43m\"\u001b[39;49m\n",
      "\u001b[1;31mTypeError\u001b[0m: can't multiply sequence by non-int of type 'str'"
     ]
    }
   ],
   "source": [
    "\"Data\" * \"5\""
   ]
  },
  {
   "cell_type": "code",
   "execution_count": 14,
   "id": "121582db",
   "metadata": {},
   "outputs": [
    {
     "ename": "TypeError",
     "evalue": "unsupported operand type(s) for -: 'str' and 'str'",
     "output_type": "error",
     "traceback": [
      "\u001b[1;31m---------------------------------------------------------------------------\u001b[0m",
      "\u001b[1;31mTypeError\u001b[0m                                 Traceback (most recent call last)",
      "Cell \u001b[1;32mIn[14], line 1\u001b[0m\n\u001b[1;32m----> 1\u001b[0m \u001b[38;5;124;43m\"\u001b[39;49m\u001b[38;5;124;43mhello\u001b[39;49m\u001b[38;5;124;43m\"\u001b[39;49m\u001b[43m \u001b[49m\u001b[38;5;241;43m-\u001b[39;49m\u001b[43m \u001b[49m\u001b[38;5;124;43m\"\u001b[39;49m\u001b[38;5;124;43mhello\u001b[39;49m\u001b[38;5;124;43m\"\u001b[39;49m\n",
      "\u001b[1;31mTypeError\u001b[0m: unsupported operand type(s) for -: 'str' and 'str'"
     ]
    }
   ],
   "source": [
    "\"hello\" - \"hello\""
   ]
  },
  {
   "cell_type": "code",
   "execution_count": 15,
   "id": "99488aa2",
   "metadata": {},
   "outputs": [
    {
     "ename": "SyntaxError",
     "evalue": "unexpected character after line continuation character (911148017.py, line 1)",
     "output_type": "error",
     "traceback": [
      "\u001b[1;36m  Cell \u001b[1;32mIn[15], line 1\u001b[1;36m\u001b[0m\n\u001b[1;33m    \"hello\" \\ 3\u001b[0m\n\u001b[1;37m             ^\u001b[0m\n\u001b[1;31mSyntaxError\u001b[0m\u001b[1;31m:\u001b[0m unexpected character after line continuation character\n"
     ]
    }
   ],
   "source": [
    "\"hello\" \\ 3"
   ]
  },
  {
   "cell_type": "code",
   "execution_count": null,
   "id": "9947f5de",
   "metadata": {},
   "outputs": [],
   "source": []
  }
 ],
 "metadata": {
  "kernelspec": {
   "display_name": "Python 3 (ipykernel)",
   "language": "python",
   "name": "python3"
  },
  "language_info": {
   "codemirror_mode": {
    "name": "ipython",
    "version": 3
   },
   "file_extension": ".py",
   "mimetype": "text/x-python",
   "name": "python",
   "nbconvert_exporter": "python",
   "pygments_lexer": "ipython3",
   "version": "3.10.9"
  }
 },
 "nbformat": 4,
 "nbformat_minor": 5
}
