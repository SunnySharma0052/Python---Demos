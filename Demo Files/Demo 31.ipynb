{
 "cells": [
  {
   "cell_type": "code",
   "execution_count": 1,
   "id": "9f59147a",
   "metadata": {},
   "outputs": [
    {
     "name": "stdout",
     "output_type": "stream",
     "text": [
      "dict_items([('USA', 'Washington'), ('Austria', 'Vienna'), ('Germany', 'Serlin'), ('UK', 'London')])\n"
     ]
    }
   ],
   "source": [
    "capital={\"USA\":\"Washington\",\n",
    "         \"Austria\":\"Vienna\",\n",
    "         \"Germany\":\"Serlin\",\n",
    "         \"UK\":\"London\"}\n",
    "print(capital.items())"
   ]
  },
  {
   "cell_type": "code",
   "execution_count": 2,
   "id": "d06696c2",
   "metadata": {},
   "outputs": [
    {
     "name": "stdout",
     "output_type": "stream",
     "text": [
      "dict_items([('Germany', 2006), ('South Africa', 2010), ('Brazil', 2014), ('Russia', 2018)])\n"
     ]
    }
   ],
   "source": [
    "world_cup={\"Germany\":2006,\n",
    "           \"South Africa\":2010,\n",
    "           \"Brazil\":2014,\n",
    "           \"Russia\":2018}\n",
    "print(world_cup.items())"
   ]
  },
  {
   "cell_type": "code",
   "execution_count": 3,
   "id": "add75da7",
   "metadata": {},
   "outputs": [
    {
     "name": "stdout",
     "output_type": "stream",
     "text": [
      "dict_keys(['USA', 'Austria', 'Germany', 'UK'])\n"
     ]
    }
   ],
   "source": [
    "capital={\"USA\":\"Washington\",\n",
    "         \"Austria\":\"Vienne\",\n",
    "         \"Germany\":\"Berlin\",\n",
    "         \"UK\":\"London\"}\n",
    "print(capital.keys())"
   ]
  },
  {
   "cell_type": "code",
   "execution_count": 4,
   "id": "8fe22ad7",
   "metadata": {},
   "outputs": [
    {
     "name": "stdout",
     "output_type": "stream",
     "text": [
      "dict_keys(['Germany', 'South Africa', 'Brazil', 'Russia'])\n"
     ]
    }
   ],
   "source": [
    "world_cup={\"Germany\":2006,\n",
    "           \"South Africa\":2010,\n",
    "           \"Brazil\":2014,\n",
    "           \"Russia\":2018}\n",
    "print(world_cup.keys())"
   ]
  },
  {
   "cell_type": "code",
   "execution_count": 5,
   "id": "fe50afb5",
   "metadata": {},
   "outputs": [
    {
     "name": "stdout",
     "output_type": "stream",
     "text": [
      "dict_values(['Washington', 'Vienne', 'Berlin', 'London'])\n"
     ]
    }
   ],
   "source": [
    "capital={\"USA\":\"Washington\",\n",
    "         \"Austria\":\"Vienne\",\n",
    "         \"Germany\":\"Berlin\",\n",
    "         \"UK\":\"London\"}\n",
    "print(capital.values())"
   ]
  },
  {
   "cell_type": "code",
   "execution_count": 6,
   "id": "11ceeb6d",
   "metadata": {},
   "outputs": [
    {
     "name": "stdout",
     "output_type": "stream",
     "text": [
      "dict_values([2006, 2010, 2014, 2018])\n"
     ]
    }
   ],
   "source": [
    "world_cup={\"Germany\":2006,\n",
    "           \"South Africa\":2010,\n",
    "           \"Brazil\":2014,\n",
    "           \"Russia\":2018}\n",
    "print(world_cup.values())"
   ]
  },
  {
   "cell_type": "code",
   "execution_count": 7,
   "id": "0cd6b4b5",
   "metadata": {},
   "outputs": [
    {
     "name": "stdout",
     "output_type": "stream",
     "text": [
      "{'USA': 'Washington', 'Austria': 'Vienne', 'Germany': 'Berlin', 'UK': 'London', 'Turkey': 'Ankara'}\n"
     ]
    }
   ],
   "source": [
    "capital={\"USA\":\"Washington\",\n",
    "         \"Austria\":\"Vienne\",\n",
    "         \"Germany\":\"Berlin\",\n",
    "         \"UK\":\"London\"}\n",
    "capital.update({\"Turkey\":\"Ankara\"})\n",
    "print(capital)"
   ]
  },
  {
   "cell_type": "code",
   "execution_count": 8,
   "id": "34197e59",
   "metadata": {},
   "outputs": [
    {
     "name": "stdout",
     "output_type": "stream",
     "text": [
      "{'Germany': 2006, 'South Africa': 2010, 'Brazil': 2014, 'Russia': 2018, 'Qatar': 2022}\n"
     ]
    }
   ],
   "source": [
    "world_cup={\"Germany\":2006,\n",
    "           \"South Africa\":2010,\n",
    "           \"Brazil\":2014,\n",
    "           \"Russia\":2018}\n",
    "world_cup.update({\"Qatar\":2022})\n",
    "print(world_cup)"
   ]
  },
  {
   "cell_type": "code",
   "execution_count": 9,
   "id": "70e962ae",
   "metadata": {},
   "outputs": [
    {
     "name": "stdout",
     "output_type": "stream",
     "text": [
      "{'USA': 'Washington', 'Austria': 'Vienne', 'UK': 'London'}\n"
     ]
    }
   ],
   "source": [
    "capital={\"USA\":\"Washington\",\n",
    "         \"Austria\":\"Vienne\",\n",
    "         \"Germany\":\"Berlin\",\n",
    "         \"UK\":\"London\"}\n",
    "capital.pop(\"Germany\")\n",
    "print(capital)"
   ]
  },
  {
   "cell_type": "code",
   "execution_count": 10,
   "id": "27774fb9",
   "metadata": {},
   "outputs": [
    {
     "name": "stdout",
     "output_type": "stream",
     "text": [
      "{'Germany': 2006, 'Brazil': 2014, 'Russia': 2018}\n"
     ]
    }
   ],
   "source": [
    "world_cup={\"Germany\":2006,\n",
    "           \"South Africa\":2010,\n",
    "           \"Brazil\":2014,\n",
    "           \"Russia\":2018}\n",
    "world_cup.pop(\"South Africa\")\n",
    "print(world_cup)"
   ]
  },
  {
   "cell_type": "code",
   "execution_count": null,
   "id": "3816f911",
   "metadata": {},
   "outputs": [],
   "source": []
  }
 ],
 "metadata": {
  "kernelspec": {
   "display_name": "Python 3 (ipykernel)",
   "language": "python",
   "name": "python3"
  },
  "language_info": {
   "codemirror_mode": {
    "name": "ipython",
    "version": 3
   },
   "file_extension": ".py",
   "mimetype": "text/x-python",
   "name": "python",
   "nbconvert_exporter": "python",
   "pygments_lexer": "ipython3",
   "version": "3.10.9"
  }
 },
 "nbformat": 4,
 "nbformat_minor": 5
}
