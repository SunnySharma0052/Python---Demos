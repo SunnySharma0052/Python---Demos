{
 "cells": [
  {
   "cell_type": "code",
   "execution_count": 1,
   "id": "a227dcb6",
   "metadata": {},
   "outputs": [
    {
     "data": {
      "text/plain": [
       "'sunny'"
      ]
     },
     "execution_count": 1,
     "metadata": {},
     "output_type": "execute_result"
    }
   ],
   "source": [
    "name = \"s-u-n-n-y\"\n",
    "name.replace(\"-\",\"\")"
   ]
  },
  {
   "cell_type": "code",
   "execution_count": 2,
   "id": "6afbe1c9",
   "metadata": {},
   "outputs": [
    {
     "data": {
      "text/plain": [
       "'www.datascience.com'"
      ]
     },
     "execution_count": 2,
     "metadata": {},
     "output_type": "execute_result"
    }
   ],
   "source": [
    "web_adress = \"www*datascience*com\"\n",
    "web_adress.replace(\"*\",\".\")"
   ]
  },
  {
   "cell_type": "code",
   "execution_count": 3,
   "id": "ad6abde4",
   "metadata": {},
   "outputs": [
    {
     "data": {
      "text/plain": [
       "'sharm/a'"
      ]
     },
     "execution_count": 3,
     "metadata": {},
     "output_type": "execute_result"
    }
   ],
   "source": [
    "university = \"s/h/a/r/m/a\"\n",
    "university.replace(\"/\",\"\",4)"
   ]
  },
  {
   "cell_type": "code",
   "execution_count": 4,
   "id": "326c0d6d",
   "metadata": {},
   "outputs": [
    {
     "data": {
      "text/plain": [
       "'sunny-s-h-a-r-m-a'"
      ]
     },
     "execution_count": 4,
     "metadata": {},
     "output_type": "execute_result"
    }
   ],
   "source": [
    "university = \"s-u-n-n-y-s-h-a-r-m-a\"\n",
    "university.replace(\"-\",\"\",4)"
   ]
  },
  {
   "cell_type": "code",
   "execution_count": 5,
   "id": "e3f97c6e",
   "metadata": {},
   "outputs": [
    {
     "data": {
      "text/plain": [
       "'i lIVE iN uNITED sTATES'"
      ]
     },
     "execution_count": 5,
     "metadata": {},
     "output_type": "execute_result"
    }
   ],
   "source": [
    "sentence = \"I Live In United States\"\n",
    "sentence.swapcase()"
   ]
  },
  {
   "cell_type": "code",
   "execution_count": 6,
   "id": "cb08b262",
   "metadata": {},
   "outputs": [
    {
     "data": {
      "text/plain": [
       "'dATA IS THE NEW OIL'"
      ]
     },
     "execution_count": 6,
     "metadata": {},
     "output_type": "execute_result"
    }
   ],
   "source": [
    "sentence = \"Data is the new oil\"\n",
    "sentence.swapcase()"
   ]
  },
  {
   "cell_type": "code",
   "execution_count": 7,
   "id": "724b7bb9",
   "metadata": {},
   "outputs": [
    {
     "data": {
      "text/plain": [
       "'I live in united states'"
      ]
     },
     "execution_count": 7,
     "metadata": {},
     "output_type": "execute_result"
    }
   ],
   "source": [
    "sentence = \"I Live In United States\"\n",
    "sentence.capitalize()"
   ]
  },
  {
   "cell_type": "code",
   "execution_count": 8,
   "id": "2f892c0b",
   "metadata": {},
   "outputs": [
    {
     "data": {
      "text/plain": [
       "'i love my earth'"
      ]
     },
     "execution_count": 8,
     "metadata": {},
     "output_type": "execute_result"
    }
   ],
   "source": [
    "sentence = \"I LOVE MY EARTH\"\n",
    "sentence.lower()"
   ]
  },
  {
   "cell_type": "code",
   "execution_count": 9,
   "id": "896bc1ef",
   "metadata": {},
   "outputs": [
    {
     "data": {
      "text/plain": [
       "'I LOVE MY EARTH SOIL'"
      ]
     },
     "execution_count": 9,
     "metadata": {},
     "output_type": "execute_result"
    }
   ],
   "source": [
    "sentence = \"i love my earth soil\"\n",
    "sentence.upper()"
   ]
  },
  {
   "cell_type": "code",
   "execution_count": 10,
   "id": "e1a50033",
   "metadata": {},
   "outputs": [
    {
     "data": {
      "text/plain": [
       "'i LIVE IN UNITED STATES'"
      ]
     },
     "execution_count": 10,
     "metadata": {},
     "output_type": "execute_result"
    }
   ],
   "source": [
    "sentence = \"i live in united states\"\n",
    "sentence.capitalize().swapcase()"
   ]
  },
  {
   "cell_type": "code",
   "execution_count": 11,
   "id": "42100c21",
   "metadata": {},
   "outputs": [
    {
     "data": {
      "text/plain": [
       "'i love my earth water and soil'"
      ]
     },
     "execution_count": 11,
     "metadata": {},
     "output_type": "execute_result"
    }
   ],
   "source": [
    "sentence = \"I Love My Earth Water And Soil\"\n",
    "sentence.upper().lower()"
   ]
  },
  {
   "cell_type": "code",
   "execution_count": 12,
   "id": "833e08cb",
   "metadata": {},
   "outputs": [
    {
     "data": {
      "text/plain": [
       "'data is the new oil!'"
      ]
     },
     "execution_count": 12,
     "metadata": {},
     "output_type": "execute_result"
    }
   ],
   "source": [
    "variable = \"Data Is The New Oil!\"\n",
    "variable.capitalize().lower()"
   ]
  },
  {
   "cell_type": "code",
   "execution_count": null,
   "id": "4454619f",
   "metadata": {},
   "outputs": [],
   "source": []
  }
 ],
 "metadata": {
  "kernelspec": {
   "display_name": "Python 3 (ipykernel)",
   "language": "python",
   "name": "python3"
  },
  "language_info": {
   "codemirror_mode": {
    "name": "ipython",
    "version": 3
   },
   "file_extension": ".py",
   "mimetype": "text/x-python",
   "name": "python",
   "nbconvert_exporter": "python",
   "pygments_lexer": "ipython3",
   "version": "3.10.9"
  }
 },
 "nbformat": 4,
 "nbformat_minor": 5
}
