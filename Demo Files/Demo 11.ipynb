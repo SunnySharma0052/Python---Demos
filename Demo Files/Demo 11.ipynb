{
 "cells": [
  {
   "cell_type": "code",
   "execution_count": 1,
   "id": "d7a4b74b",
   "metadata": {},
   "outputs": [
    {
     "data": {
      "text/plain": [
       "6"
      ]
     },
     "execution_count": 1,
     "metadata": {},
     "output_type": "execute_result"
    }
   ],
   "source": [
    "len(\"python\")"
   ]
  },
  {
   "cell_type": "code",
   "execution_count": 2,
   "id": "3e30b097",
   "metadata": {},
   "outputs": [
    {
     "data": {
      "text/plain": [
       "8"
      ]
     },
     "execution_count": 2,
     "metadata": {},
     "output_type": "execute_result"
    }
   ],
   "source": [
    "len(\"anaconda\")"
   ]
  },
  {
   "cell_type": "code",
   "execution_count": 3,
   "id": "b37b69b0",
   "metadata": {},
   "outputs": [
    {
     "name": "stdout",
     "output_type": "stream",
     "text": [
      "14\n"
     ]
    }
   ],
   "source": [
    "job = \"data scientist\"\n",
    "print(len(job))"
   ]
  },
  {
   "cell_type": "code",
   "execution_count": 4,
   "id": "de26bb35",
   "metadata": {},
   "outputs": [
    {
     "data": {
      "text/plain": [
       "True"
      ]
     },
     "execution_count": 4,
     "metadata": {},
     "output_type": "execute_result"
    }
   ],
   "source": [
    "web_adress = \"www.datascience.com\"\n",
    "web_adress.startswith(\"www\")"
   ]
  },
  {
   "cell_type": "code",
   "execution_count": 5,
   "id": "2c7ecd65",
   "metadata": {},
   "outputs": [
    {
     "data": {
      "text/plain": [
       "True"
      ]
     },
     "execution_count": 5,
     "metadata": {},
     "output_type": "execute_result"
    }
   ],
   "source": [
    "example = \"python\"\n",
    "example.startswith(\"py\") "
   ]
  },
  {
   "cell_type": "code",
   "execution_count": 6,
   "id": "1c874f33",
   "metadata": {},
   "outputs": [
    {
     "data": {
      "text/plain": [
       "False"
      ]
     },
     "execution_count": 6,
     "metadata": {},
     "output_type": "execute_result"
    }
   ],
   "source": [
    "example = \"python\"\n",
    "example.startswith(\"n\")"
   ]
  },
  {
   "cell_type": "code",
   "execution_count": 7,
   "id": "60b790f1",
   "metadata": {},
   "outputs": [],
   "source": [
    "web_adress = \"www.datascience.com\""
   ]
  },
  {
   "cell_type": "code",
   "execution_count": 8,
   "id": "be54447d",
   "metadata": {},
   "outputs": [
    {
     "data": {
      "text/plain": [
       "'c'"
      ]
     },
     "execution_count": 8,
     "metadata": {},
     "output_type": "execute_result"
    }
   ],
   "source": [
    "web_adress[9]"
   ]
  },
  {
   "cell_type": "code",
   "execution_count": 9,
   "id": "65c675f8",
   "metadata": {},
   "outputs": [],
   "source": [
    "variable = \"machine learning\""
   ]
  },
  {
   "cell_type": "code",
   "execution_count": 10,
   "id": "eb5567ef",
   "metadata": {},
   "outputs": [
    {
     "data": {
      "text/plain": [
       "'n'"
      ]
     },
     "execution_count": 10,
     "metadata": {},
     "output_type": "execute_result"
    }
   ],
   "source": [
    "variable[5]"
   ]
  },
  {
   "cell_type": "code",
   "execution_count": 11,
   "id": "15e6cd1a",
   "metadata": {},
   "outputs": [
    {
     "data": {
      "text/plain": [
       "' '"
      ]
     },
     "execution_count": 11,
     "metadata": {},
     "output_type": "execute_result"
    }
   ],
   "source": [
    "variable[7]"
   ]
  },
  {
   "cell_type": "code",
   "execution_count": 12,
   "id": "40a5ba8a",
   "metadata": {},
   "outputs": [
    {
     "data": {
      "text/plain": [
       "True"
      ]
     },
     "execution_count": 12,
     "metadata": {},
     "output_type": "execute_result"
    }
   ],
   "source": [
    "web_adress = \"www.datascience.com\"\n",
    "web_adress.startswith(\"data\", 4, 8)"
   ]
  },
  {
   "cell_type": "code",
   "execution_count": 13,
   "id": "1740cc93",
   "metadata": {},
   "outputs": [
    {
     "data": {
      "text/plain": [
       "False"
      ]
     },
     "execution_count": 13,
     "metadata": {},
     "output_type": "execute_result"
    }
   ],
   "source": [
    "web_adress = \"www.datascience.com\"\n",
    "web_adress.startswith(\"data\", 8, 3)"
   ]
  },
  {
   "cell_type": "code",
   "execution_count": 14,
   "id": "79f3f7aa",
   "metadata": {},
   "outputs": [
    {
     "data": {
      "text/plain": [
       "True"
      ]
     },
     "execution_count": 14,
     "metadata": {},
     "output_type": "execute_result"
    }
   ],
   "source": [
    "variable = \"machine Learning\"\n",
    "variable.startswith(\"ear\", 9, 13)"
   ]
  },
  {
   "cell_type": "code",
   "execution_count": 15,
   "id": "08ede7ba",
   "metadata": {},
   "outputs": [
    {
     "data": {
      "text/plain": [
       "'earnin'"
      ]
     },
     "execution_count": 15,
     "metadata": {},
     "output_type": "execute_result"
    }
   ],
   "source": [
    "variable[9:15]"
   ]
  },
  {
   "cell_type": "code",
   "execution_count": 16,
   "id": "48e78fc4",
   "metadata": {},
   "outputs": [
    {
     "data": {
      "text/plain": [
       "False"
      ]
     },
     "execution_count": 16,
     "metadata": {},
     "output_type": "execute_result"
    }
   ],
   "source": [
    "web_adress = \"www.datascientist.com\"\n",
    "web_adress.endswith(\"co\")"
   ]
  },
  {
   "cell_type": "code",
   "execution_count": 17,
   "id": "708191a2",
   "metadata": {},
   "outputs": [
    {
     "data": {
      "text/plain": [
       "True"
      ]
     },
     "execution_count": 17,
     "metadata": {},
     "output_type": "execute_result"
    }
   ],
   "source": [
    "web_adress = \"www.datascientist.com\"\n",
    "web_adress.endswith(\"om\")"
   ]
  },
  {
   "cell_type": "code",
   "execution_count": 18,
   "id": "0930b025",
   "metadata": {},
   "outputs": [
    {
     "data": {
      "text/plain": [
       "True"
      ]
     },
     "execution_count": 18,
     "metadata": {},
     "output_type": "execute_result"
    }
   ],
   "source": [
    "variable = \"artificial intelligence\"\n",
    "variable.endswith(\"cial\", 3, 10)"
   ]
  },
  {
   "cell_type": "code",
   "execution_count": 19,
   "id": "153c3d6d",
   "metadata": {},
   "outputs": [
    {
     "data": {
      "text/plain": [
       "False"
      ]
     },
     "execution_count": 19,
     "metadata": {},
     "output_type": "execute_result"
    }
   ],
   "source": [
    "variable = \"artificial intelligence\"\n",
    "variable.endswith(\"cial\", 5, 11)"
   ]
  },
  {
   "cell_type": "code",
   "execution_count": 20,
   "id": "945e2072",
   "metadata": {},
   "outputs": [
    {
     "data": {
      "text/plain": [
       "True"
      ]
     },
     "execution_count": 20,
     "metadata": {},
     "output_type": "execute_result"
    }
   ],
   "source": [
    "variable = \" artificial intelligence\"\n",
    "variable.endswith(\"ial\", 5, 11)"
   ]
  },
  {
   "cell_type": "code",
   "execution_count": null,
   "id": "83d7ac94",
   "metadata": {},
   "outputs": [],
   "source": []
  }
 ],
 "metadata": {
  "kernelspec": {
   "display_name": "Python 3 (ipykernel)",
   "language": "python",
   "name": "python3"
  },
  "language_info": {
   "codemirror_mode": {
    "name": "ipython",
    "version": 3
   },
   "file_extension": ".py",
   "mimetype": "text/x-python",
   "name": "python",
   "nbconvert_exporter": "python",
   "pygments_lexer": "ipython3",
   "version": "3.10.9"
  }
 },
 "nbformat": 4,
 "nbformat_minor": 5
}
