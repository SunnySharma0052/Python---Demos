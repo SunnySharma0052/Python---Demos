{
 "cells": [
  {
   "cell_type": "code",
   "execution_count": 1,
   "id": "6a6c04dc",
   "metadata": {},
   "outputs": [
    {
     "name": "stdout",
     "output_type": "stream",
     "text": [
      "['manchester', 'chelsea', 'arsenal']\n",
      "<class 'list'>\n"
     ]
    }
   ],
   "source": [
    "premier_league = [\"manchester\", \"chelsea\", \"arsenal\"]\n",
    "print(premier_league)\n",
    "print(type(premier_league))"
   ]
  },
  {
   "cell_type": "code",
   "execution_count": 2,
   "id": "8c349e50",
   "metadata": {},
   "outputs": [
    {
     "name": "stdout",
     "output_type": "stream",
     "text": [
      "[20, 7.8, True, 'football', ['manchester', 'chelsea', 'arsenal']]\n"
     ]
    }
   ],
   "source": [
    "list_example = [20, 7.8, True, \"football\",[\"manchester\", \"chelsea\", \"arsenal\"]]\n",
    "print(list_example)"
   ]
  },
  {
   "cell_type": "code",
   "execution_count": 3,
   "id": "cc389954",
   "metadata": {},
   "outputs": [
    {
     "name": "stdout",
     "output_type": "stream",
     "text": [
      "5\n"
     ]
    }
   ],
   "source": [
    "list_example = [20, 7.8, True, \"football\",[\"manchester\", \"chelsea\", \"arsenal\"]]\n",
    "print(len(list_example))"
   ]
  },
  {
   "cell_type": "code",
   "execution_count": 4,
   "id": "de057c33",
   "metadata": {},
   "outputs": [
    {
     "name": "stdout",
     "output_type": "stream",
     "text": [
      "[20, 7.8, True, 'football', ['manchester', 'chelsea', 'arsenal']]\n"
     ]
    }
   ],
   "source": [
    "variable = [20, 7.8, True, \"football\",[\"manchester\", \"chelsea\", \"arsenal\"]]\n",
    "new_list = list(variable)\n",
    "print(new_list)"
   ]
  },
  {
   "cell_type": "code",
   "execution_count": null,
   "id": "6dfcfba2",
   "metadata": {},
   "outputs": [],
   "source": []
  }
 ],
 "metadata": {
  "kernelspec": {
   "display_name": "Python 3 (ipykernel)",
   "language": "python",
   "name": "python3"
  },
  "language_info": {
   "codemirror_mode": {
    "name": "ipython",
    "version": 3
   },
   "file_extension": ".py",
   "mimetype": "text/x-python",
   "name": "python",
   "nbconvert_exporter": "python",
   "pygments_lexer": "ipython3",
   "version": "3.10.9"
  }
 },
 "nbformat": 4,
 "nbformat_minor": 5
}
