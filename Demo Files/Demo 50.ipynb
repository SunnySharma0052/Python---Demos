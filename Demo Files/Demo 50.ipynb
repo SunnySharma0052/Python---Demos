{
 "cells": [
  {
   "cell_type": "code",
   "execution_count": 1,
   "id": "f9e9b7ac",
   "metadata": {},
   "outputs": [],
   "source": [
    "def hypotenuse(a, b):\n",
    "    print((a**2+b**2)**0.5)"
   ]
  },
  {
   "cell_type": "code",
   "execution_count": 2,
   "id": "077123e6",
   "metadata": {},
   "outputs": [],
   "source": [
    "?hypotenuse"
   ]
  },
  {
   "cell_type": "code",
   "execution_count": 3,
   "id": "698d319e",
   "metadata": {},
   "outputs": [],
   "source": [
    "def new_hypotenuse(a, b):\n",
    "    \"\"\"\n",
    "    Hypotenuse Function; It Is Used To Get The Hypotenuse In A Right Triangle.\n",
    "    ___________________________\n",
    "    \n",
    "    Arguments:\n",
    "    \n",
    "    a = First Side Of Right Triangle.\n",
    "    b = Second Side Of Right Triangle.\n",
    "    \"\"\"\n",
    "    print((a**2+b**2)**0.5)"
   ]
  },
  {
   "cell_type": "code",
   "execution_count": 4,
   "id": "ac94aa10",
   "metadata": {},
   "outputs": [],
   "source": [
    "?new_hypotenuse"
   ]
  },
  {
   "cell_type": "code",
   "execution_count": null,
   "id": "c4d12cbe",
   "metadata": {},
   "outputs": [],
   "source": []
  }
 ],
 "metadata": {
  "kernelspec": {
   "display_name": "Python 3 (ipykernel)",
   "language": "python",
   "name": "python3"
  },
  "language_info": {
   "codemirror_mode": {
    "name": "ipython",
    "version": 3
   },
   "file_extension": ".py",
   "mimetype": "text/x-python",
   "name": "python",
   "nbconvert_exporter": "python",
   "pygments_lexer": "ipython3",
   "version": "3.10.9"
  }
 },
 "nbformat": 4,
 "nbformat_minor": 5
}
