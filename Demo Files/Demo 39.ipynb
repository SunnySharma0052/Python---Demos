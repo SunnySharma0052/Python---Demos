{
 "cells": [
  {
   "cell_type": "code",
   "execution_count": 1,
   "id": "6ff522e3",
   "metadata": {},
   "outputs": [
    {
     "name": "stdout",
     "output_type": "stream",
     "text": [
      "Please Enter The Purchase Amount:420\n"
     ]
    }
   ],
   "source": [
    "amount=int(input(\"Please Enter The Purchase Amount:\"))\n",
    "if amount>1000:\n",
    "    print(\"You Can Take Advantage Of The Discount\")"
   ]
  },
  {
   "cell_type": "code",
   "execution_count": 2,
   "id": "7026f8c1",
   "metadata": {},
   "outputs": [
    {
     "name": "stdout",
     "output_type": "stream",
     "text": [
      "Please Enter The Purchase Amount:550\n",
      "SORRY! You Can't Take This Discount\n"
     ]
    }
   ],
   "source": [
    "amount=int(input(\"Please Enter The Purchase Amount:\"))\n",
    "if amount>1000:\n",
    "    print(\"You Can Take Advantage Of The Discount\")\n",
    "if amount<1000:\n",
    "    print(\"SORRY! You Can't Take This Discount\" )"
   ]
  },
  {
   "cell_type": "code",
   "execution_count": 3,
   "id": "4fee6655",
   "metadata": {},
   "outputs": [
    {
     "name": "stdout",
     "output_type": "stream",
     "text": [
      "Please Enter The Purchase Amount:990\n",
      "Shop Again To Take Advantage Of The Discount\n"
     ]
    }
   ],
   "source": [
    "amount=int(input(\"Please Enter The Purchase Amount:\"))\n",
    "if amount>1000:\n",
    "    print(\"You Can Take Advantage Of The Discount\")\n",
    "else:\n",
    "    print(\"Shop Again To Take Advantage Of The Discount\")"
   ]
  },
  {
   "cell_type": "code",
   "execution_count": 4,
   "id": "f02bfe20",
   "metadata": {},
   "outputs": [
    {
     "name": "stdout",
     "output_type": "stream",
     "text": [
      "\n",
      "       Welcome To The World's Most Advantage E-mail Service.\n",
      "You Must First Log Into The System In Order To Benefit From Our Service\n",
      "Password:Sandy440\n",
      "WELCOME TO THE SYSTEMM!\n"
     ]
    }
   ],
   "source": [
    "print(\"\"\"\n",
    "       Welcome To The World's Most Advantage E-mail Service.\n",
    "You Must First Log Into The System In Order To Benefit From Our Service\"\"\")\n",
    "Password=input(\"Password:\")\n",
    "if Password==\"Sandy440\":\n",
    "    print(\"WELCOME TO THE SYSTEMM!\")\n",
    "else:\n",
    "    print(\"SORRY, You Entered The Wrong Password!\")"
   ]
  },
  {
   "cell_type": "code",
   "execution_count": 5,
   "id": "e0cc9b8d",
   "metadata": {},
   "outputs": [
    {
     "name": "stdout",
     "output_type": "stream",
     "text": [
      "\n",
      "       Welcome To The World's Most Advantage E-mail Service.\n",
      "You Must First Log Into The System In Order To Benefit From Our Service\n",
      "Password:Sandy^3208\n",
      "SORRY, You Entered The Wrong Password!\n"
     ]
    }
   ],
   "source": [
    "print(\"\"\"\n",
    "       Welcome To The World's Most Advantage E-mail Service.\n",
    "You Must First Log Into The System In Order To Benefit From Our Service\"\"\")\n",
    "Password=input(\"Password:\")\n",
    "if Password==\"Sandy440\":\n",
    "    print(\"WELCOME TO THE SYSTEMM!\")\n",
    "else:\n",
    "    print(\"SORRY, You Entered The Wrong Password!\")"
   ]
  },
  {
   "cell_type": "code",
   "execution_count": null,
   "id": "ff726ade",
   "metadata": {},
   "outputs": [],
   "source": []
  }
 ],
 "metadata": {
  "kernelspec": {
   "display_name": "Python 3 (ipykernel)",
   "language": "python",
   "name": "python3"
  },
  "language_info": {
   "codemirror_mode": {
    "name": "ipython",
    "version": 3
   },
   "file_extension": ".py",
   "mimetype": "text/x-python",
   "name": "python",
   "nbconvert_exporter": "python",
   "pygments_lexer": "ipython3",
   "version": "3.10.9"
  }
 },
 "nbformat": 4,
 "nbformat_minor": 5
}
