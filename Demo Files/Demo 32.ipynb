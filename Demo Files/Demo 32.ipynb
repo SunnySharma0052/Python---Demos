{
 "cells": [
  {
   "cell_type": "code",
   "execution_count": 1,
   "id": "2bd29226",
   "metadata": {},
   "outputs": [
    {
     "name": "stdout",
     "output_type": "stream",
     "text": [
      "{False, 10, 7.8, 'Data'}\n",
      "<class 'set'>\n"
     ]
    }
   ],
   "source": [
    "list_example=[10,\"Data\",7.8,False]\n",
    "set_example=set(list_example)\n",
    "print(set_example)\n",
    "print(type(set_example))"
   ]
  },
  {
   "cell_type": "code",
   "execution_count": 2,
   "id": "37ec1bcc",
   "metadata": {},
   "outputs": [
    {
     "name": "stdout",
     "output_type": "stream",
     "text": [
      "<class 'tuple'>\n"
     ]
    }
   ],
   "source": [
    "tuple1=(\"Name\",\"Surname\",1991,189.14)\n",
    "set1=set(tuple1)\n",
    "print(type(tuple1))"
   ]
  },
  {
   "cell_type": "code",
   "execution_count": 3,
   "id": "03b3b07a",
   "metadata": {},
   "outputs": [
    {
     "name": "stdout",
     "output_type": "stream",
     "text": [
      "<class 'set'>\n"
     ]
    }
   ],
   "source": [
    "tuple1=(\"Name\",\"Surname\",1991,189.14)\n",
    "example5=set(tuple1)\n",
    "print(type(example5))"
   ]
  },
  {
   "cell_type": "code",
   "execution_count": 4,
   "id": "e81ef6d3",
   "metadata": {},
   "outputs": [
    {
     "name": "stdout",
     "output_type": "stream",
     "text": [
      "{8.6, 'Data Science', 15}\n"
     ]
    }
   ],
   "source": [
    "tuple_example=(15,\"Data Science\",15,8.6,\"Data Science\")\n",
    "set_example2=set(tuple_example)\n",
    "print(set_example2)"
   ]
  },
  {
   "cell_type": "code",
   "execution_count": 5,
   "id": "fc8901cc",
   "metadata": {},
   "outputs": [
    {
     "name": "stdout",
     "output_type": "stream",
     "text": [
      "{'Kayra', 2017, 'Joseph'}\n"
     ]
    }
   ],
   "source": [
    "tuple1=(\"Joseph\",\"Kayra\",2017,\"Joseph\",\"Kayra\",2017)\n",
    "set1=(set(tuple1))\n",
    "print(set1)"
   ]
  },
  {
   "cell_type": "code",
   "execution_count": 6,
   "id": "fe998271",
   "metadata": {},
   "outputs": [
    {
     "ename": "TypeError",
     "evalue": "'set' object is not subscriptable",
     "output_type": "error",
     "traceback": [
      "\u001b[1;31m---------------------------------------------------------------------------\u001b[0m",
      "\u001b[1;31mTypeError\u001b[0m                                 Traceback (most recent call last)",
      "Cell \u001b[1;32mIn[6], line 3\u001b[0m\n\u001b[0;32m      1\u001b[0m world\u001b[38;5;241m=\u001b[39m\u001b[38;5;124m\"\u001b[39m\u001b[38;5;124mHello Data Science\u001b[39m\u001b[38;5;124m\"\u001b[39m\n\u001b[0;32m      2\u001b[0m set_example3\u001b[38;5;241m=\u001b[39m\u001b[38;5;28mset\u001b[39m(world)\n\u001b[1;32m----> 3\u001b[0m \u001b[43mset_example3\u001b[49m\u001b[43m[\u001b[49m\u001b[38;5;241;43m0\u001b[39;49m\u001b[43m]\u001b[49m\n\u001b[0;32m      4\u001b[0m \u001b[38;5;28mprint\u001b[39m(set_example3)\n",
      "\u001b[1;31mTypeError\u001b[0m: 'set' object is not subscriptable"
     ]
    }
   ],
   "source": [
    "world=\"Hello Data Science\"\n",
    "set_example3=set(world)\n",
    "set_example3[0]\n",
    "print(set_example3)"
   ]
  },
  {
   "cell_type": "code",
   "execution_count": null,
   "id": "f9306891",
   "metadata": {},
   "outputs": [],
   "source": []
  }
 ],
 "metadata": {
  "kernelspec": {
   "display_name": "Python 3 (ipykernel)",
   "language": "python",
   "name": "python3"
  },
  "language_info": {
   "codemirror_mode": {
    "name": "ipython",
    "version": 3
   },
   "file_extension": ".py",
   "mimetype": "text/x-python",
   "name": "python",
   "nbconvert_exporter": "python",
   "pygments_lexer": "ipython3",
   "version": "3.10.9"
  }
 },
 "nbformat": 4,
 "nbformat_minor": 5
}
