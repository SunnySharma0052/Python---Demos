{
 "cells": [
  {
   "cell_type": "code",
   "execution_count": 1,
   "id": "0babd945",
   "metadata": {},
   "outputs": [
    {
     "data": {
      "text/plain": [
       "'a'"
      ]
     },
     "execution_count": 1,
     "metadata": {},
     "output_type": "execute_result"
    }
   ],
   "source": [
    "car = \"Ferrari\"\n",
    "car[-3]"
   ]
  },
  {
   "cell_type": "code",
   "execution_count": 2,
   "id": "29e2ad21",
   "metadata": {},
   "outputs": [
    {
     "data": {
      "text/plain": [
       "'e'"
      ]
     },
     "execution_count": 2,
     "metadata": {},
     "output_type": "execute_result"
    }
   ],
   "source": [
    "pc = \"computer science\"\n",
    "pc[-10]"
   ]
  },
  {
   "cell_type": "code",
   "execution_count": 3,
   "id": "2885637f",
   "metadata": {},
   "outputs": [
    {
     "data": {
      "text/plain": [
       "'rra'"
      ]
     },
     "execution_count": 3,
     "metadata": {},
     "output_type": "execute_result"
    }
   ],
   "source": [
    "car = \"ferrari\"\n",
    "car[-5:-2]"
   ]
  },
  {
   "cell_type": "code",
   "execution_count": 4,
   "id": "fe8e366d",
   "metadata": {},
   "outputs": [
    {
     "data": {
      "text/plain": [
       "'puter'"
      ]
     },
     "execution_count": 4,
     "metadata": {},
     "output_type": "execute_result"
    }
   ],
   "source": [
    "variable = \"computer science\"\n",
    "variable[-13:-8]"
   ]
  },
  {
   "cell_type": "code",
   "execution_count": null,
   "id": "d8b099d4",
   "metadata": {},
   "outputs": [],
   "source": []
  }
 ],
 "metadata": {
  "kernelspec": {
   "display_name": "Python 3 (ipykernel)",
   "language": "python",
   "name": "python3"
  },
  "language_info": {
   "codemirror_mode": {
    "name": "ipython",
    "version": 3
   },
   "file_extension": ".py",
   "mimetype": "text/x-python",
   "name": "python",
   "nbconvert_exporter": "python",
   "pygments_lexer": "ipython3",
   "version": "3.10.9"
  }
 },
 "nbformat": 4,
 "nbformat_minor": 5
}
