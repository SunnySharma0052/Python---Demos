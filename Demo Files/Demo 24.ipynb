{
 "cells": [
  {
   "cell_type": "code",
   "execution_count": 1,
   "id": "72be169a",
   "metadata": {},
   "outputs": [
    {
     "name": "stdout",
     "output_type": "stream",
     "text": [
      "[10, 20, 30, 5000, 40, 50, 60]\n"
     ]
    }
   ],
   "source": [
    "int_list=[10,20,30,40,50,60]\n",
    "int_list.insert(3,5000)\n",
    "print(int_list)"
   ]
  },
  {
   "cell_type": "code",
   "execution_count": 2,
   "id": "6df9a245",
   "metadata": {},
   "outputs": [
    {
     "name": "stdout",
     "output_type": "stream",
     "text": [
      "['I Phone', 'Samsung', 'Xiaomi(MI)', 'Nokia', 'L.G']\n"
     ]
    }
   ],
   "source": [
    "brand=[\"I Phone\",\"Samsung\",\"Nokia\",\"L.G\"]\n",
    "brand.insert(2,\"Xiaomi(MI)\")\n",
    "print(brand)"
   ]
  },
  {
   "cell_type": "code",
   "execution_count": 3,
   "id": "94c4ffe8",
   "metadata": {},
   "outputs": [
    {
     "name": "stdout",
     "output_type": "stream",
     "text": [
      "[10, 20, 30, 50, 60, 5000]\n"
     ]
    }
   ],
   "source": [
    "int_list=[10,20,30,40,50,60,5000]\n",
    "int_list.pop(3)\n",
    "print(int_list)"
   ]
  },
  {
   "cell_type": "code",
   "execution_count": 4,
   "id": "00f1bb49",
   "metadata": {},
   "outputs": [
    {
     "name": "stdout",
     "output_type": "stream",
     "text": [
      "['IPhone', 'Samsung', 'Xiaomi', 'L.G']\n"
     ]
    }
   ],
   "source": [
    "brand=[\"IPhone\",\"Samsung\",\"Xiaomi\",\"Nokia\",\"L.G\"]\n",
    "brand.pop(3)\n",
    "print(brand)"
   ]
  },
  {
   "cell_type": "code",
   "execution_count": null,
   "id": "978d3ba1",
   "metadata": {},
   "outputs": [],
   "source": []
  }
 ],
 "metadata": {
  "kernelspec": {
   "display_name": "Python 3 (ipykernel)",
   "language": "python",
   "name": "python3"
  },
  "language_info": {
   "codemirror_mode": {
    "name": "ipython",
    "version": 3
   },
   "file_extension": ".py",
   "mimetype": "text/x-python",
   "name": "python",
   "nbconvert_exporter": "python",
   "pygments_lexer": "ipython3",
   "version": "3.10.9"
  }
 },
 "nbformat": 4,
 "nbformat_minor": 5
}
