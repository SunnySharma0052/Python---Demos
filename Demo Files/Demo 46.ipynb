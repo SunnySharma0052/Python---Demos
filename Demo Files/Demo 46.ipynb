{
 "cells": [
  {
   "cell_type": "code",
   "execution_count": 1,
   "id": "39da43ee",
   "metadata": {},
   "outputs": [
    {
     "name": "stdout",
     "output_type": "stream",
     "text": [
      "0\n",
      "1\n",
      "2\n",
      "3\n",
      "4\n",
      "5\n",
      "6\n",
      "7\n",
      "8\n",
      "9\n",
      "10\n"
     ]
    }
   ],
   "source": [
    "counter=0\n",
    "while counter<11:\n",
    "    print(counter)\n",
    "    counter +=1"
   ]
  },
  {
   "cell_type": "code",
   "execution_count": 2,
   "id": "ea238518",
   "metadata": {},
   "outputs": [
    {
     "name": "stdout",
     "output_type": "stream",
     "text": [
      "Please Enter Your Name:Sandy\n",
      "S\n",
      "a\n",
      "n\n",
      "d\n",
      "y\n",
      "I Listed The Letters Of Your Name\n"
     ]
    }
   ],
   "source": [
    "name=input(\"Please Enter Your Name:\")\n",
    "counter=0\n",
    "while counter <len(name):\n",
    "    print(name[counter])\n",
    "    counter +=1\n",
    "print(\"I Listed The Letters Of Your Name\")"
   ]
  },
  {
   "cell_type": "code",
   "execution_count": 3,
   "id": "bd586650",
   "metadata": {},
   "outputs": [
    {
     "name": "stdout",
     "output_type": "stream",
     "text": [
      "The Number Is Odd: 1\n",
      "The Number Is Even: 2\n",
      "The Number Is Odd: 3\n",
      "The Number Is Even: 4\n",
      "The Number Is Odd: 5\n",
      "The Number Is Even: 6\n",
      "The Loop Is Over.\n"
     ]
    }
   ],
   "source": [
    "counter = 1\n",
    "\n",
    "while counter <= 6:\n",
    "    \n",
    "    if counter % 2 == 0:\n",
    "        print(f'The Number Is Even: {counter}')\n",
    "        \n",
    "    else:\n",
    "        print(f'The Number Is Odd: {counter}')\n",
    "        \n",
    "    counter += 1\n",
    "    \n",
    "print('The Loop Is Over.')"
   ]
  },
  {
   "cell_type": "code",
   "execution_count": null,
   "id": "cf58be3a",
   "metadata": {},
   "outputs": [],
   "source": []
  }
 ],
 "metadata": {
  "kernelspec": {
   "display_name": "Python 3 (ipykernel)",
   "language": "python",
   "name": "python3"
  },
  "language_info": {
   "codemirror_mode": {
    "name": "ipython",
    "version": 3
   },
   "file_extension": ".py",
   "mimetype": "text/x-python",
   "name": "python",
   "nbconvert_exporter": "python",
   "pygments_lexer": "ipython3",
   "version": "3.10.9"
  }
 },
 "nbformat": 4,
 "nbformat_minor": 5
}
