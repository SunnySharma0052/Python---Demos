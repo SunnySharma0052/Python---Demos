{
 "cells": [
  {
   "cell_type": "code",
   "execution_count": 1,
   "id": "9119df92",
   "metadata": {},
   "outputs": [
    {
     "name": "stdout",
     "output_type": "stream",
     "text": [
      "TURKEY\n",
      "FRANCE\n",
      "GERMANY\n",
      "USA\n"
     ]
    }
   ],
   "source": [
    "list_example=[\"Turkey\",\"France\",\"Germany\",\"USA\"]\n",
    "for i in list_example:\n",
    "    print(i.upper())"
   ]
  },
  {
   "cell_type": "code",
   "execution_count": 2,
   "id": "571bb7e1",
   "metadata": {},
   "outputs": [
    {
     "name": "stdout",
     "output_type": "stream",
     "text": [
      "1 To The Second Power Is 1\n",
      "2 To The Second Power Is 4\n",
      "3 To The Second Power Is 9\n",
      "4 To The Second Power Is 16\n",
      "5 To The Second Power Is 25\n"
     ]
    }
   ],
   "source": [
    "number=[1,2,3,4,5]\n",
    "for i in number:\n",
    "    print(f\"{i} To The Second Power Is {i**2}\")"
   ]
  },
  {
   "cell_type": "code",
   "execution_count": 3,
   "id": "3da04517",
   "metadata": {},
   "outputs": [
    {
     "name": "stdout",
     "output_type": "stream",
     "text": [
      "[2200.0, 2750.0, 2475.0, 2585.0, 2200.0, 3135.0, 3025.0, 3300.0, 2915.0, 2750.0]\n"
     ]
    }
   ],
   "source": [
    "employee_salaries=[2000,2500,2250,2350,2000,2850,2750,3000,2650,2500]\n",
    "new_salary=[]\n",
    "\n",
    "for salary in employee_salaries:\n",
    "  increased_salary=salary+(salary*10/100)\n",
    "  new_salary.append(increased_salary)\n",
    "print(new_salary)"
   ]
  },
  {
   "cell_type": "code",
   "execution_count": 4,
   "id": "0fdc94e4",
   "metadata": {},
   "outputs": [
    {
     "name": "stdout",
     "output_type": "stream",
     "text": [
      "[1, 8, 27, 64, 125]\n"
     ]
    }
   ],
   "source": [
    "number=[1,2,3,4,5]\n",
    "cubed_number=[]\n",
    "for i in number:\n",
    "    x=i**3\n",
    "    cubed_number.append(x)\n",
    "print(cubed_number)"
   ]
  },
  {
   "cell_type": "code",
   "execution_count": null,
   "id": "8bbefa9c",
   "metadata": {},
   "outputs": [],
   "source": []
  }
 ],
 "metadata": {
  "kernelspec": {
   "display_name": "Python 3 (ipykernel)",
   "language": "python",
   "name": "python3"
  },
  "language_info": {
   "codemirror_mode": {
    "name": "ipython",
    "version": 3
   },
   "file_extension": ".py",
   "mimetype": "text/x-python",
   "name": "python",
   "nbconvert_exporter": "python",
   "pygments_lexer": "ipython3",
   "version": "3.10.9"
  }
 },
 "nbformat": 4,
 "nbformat_minor": 5
}
