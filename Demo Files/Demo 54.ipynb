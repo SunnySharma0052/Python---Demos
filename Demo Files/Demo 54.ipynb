{
 "cells": [
  {
   "cell_type": "code",
   "execution_count": null,
   "id": "efd892b1",
   "metadata": {},
   "outputs": [
    {
     "name": "stdout",
     "output_type": "stream",
     "text": [
      "196\n"
     ]
    }
   ],
   "source": [
    "number_list = [-50,60,40,128,196]\n",
    "\n",
    "print(max(number_list))"
   ]
  },
  {
   "cell_type": "code",
   "execution_count": null,
   "id": "a4869264",
   "metadata": {},
   "outputs": [
    {
     "name": "stdout",
     "output_type": "stream",
     "text": [
      "5\n"
     ]
    }
   ],
   "source": [
    "list_example = [1,2,5,3,4]\n",
    "print(max(list_example))"
   ]
  },
  {
   "cell_type": "code",
   "execution_count": null,
   "id": "d9b3afb9",
   "metadata": {},
   "outputs": [
    {
     "name": "stdout",
     "output_type": "stream",
     "text": [
      "-50\n"
     ]
    }
   ],
   "source": [
    "number_list = [-50,60,40,128,196]\n",
    "\n",
    "print(min(number_list))"
   ]
  },
  {
   "cell_type": "code",
   "execution_count": null,
   "id": "8c412405",
   "metadata": {},
   "outputs": [
    {
     "name": "stdout",
     "output_type": "stream",
     "text": [
      "-5\n"
     ]
    }
   ],
   "source": [
    "list_example = [1,2,3,3,4,-5,6,7]\n",
    "print(min(list_example))"
   ]
  },
  {
   "cell_type": "code",
   "execution_count": null,
   "id": "2459fd24",
   "metadata": {},
   "outputs": [
    {
     "name": "stdout",
     "output_type": "stream",
     "text": [
      "40\n"
     ]
    }
   ],
   "source": [
    "list1 = [10,20,-30,40]\n",
    "print(sum(list1))"
   ]
  },
  {
   "cell_type": "code",
   "execution_count": null,
   "id": "c70bea99",
   "metadata": {},
   "outputs": [
    {
     "name": "stdout",
     "output_type": "stream",
     "text": [
      "0\n"
     ]
    }
   ],
   "source": [
    "list1 = [10,20,-30,40]\n",
    "print(sum(list1,start=-40))"
   ]
  },
  {
   "cell_type": "code",
   "execution_count": null,
   "id": "1bb2af37",
   "metadata": {},
   "outputs": [
    {
     "name": "stdout",
     "output_type": "stream",
     "text": [
      "10\n"
     ]
    }
   ],
   "source": [
    "list1 = [10,20,-30,40]\n",
    "print(sum(list1,start=-30))"
   ]
  },
  {
   "cell_type": "code",
   "execution_count": null,
   "id": "671760d4",
   "metadata": {},
   "outputs": [
    {
     "name": "stdout",
     "output_type": "stream",
     "text": [
      "12\n"
     ]
    }
   ],
   "source": [
    "print(round(12.5))"
   ]
  },
  {
   "cell_type": "code",
   "execution_count": null,
   "id": "c4f1a312",
   "metadata": {},
   "outputs": [
    {
     "name": "stdout",
     "output_type": "stream",
     "text": [
      "13\n"
     ]
    }
   ],
   "source": [
    "print(round(12.6))"
   ]
  },
  {
   "cell_type": "code",
   "execution_count": null,
   "id": "ea769a28",
   "metadata": {},
   "outputs": [
    {
     "data": {
      "text/plain": [
       "10"
      ]
     },
     "execution_count": 10,
     "metadata": {},
     "output_type": "execute_result"
    }
   ],
   "source": [
    "round(10.00)"
   ]
  },
  {
   "cell_type": "code",
   "execution_count": null,
   "id": "48bb3234",
   "metadata": {},
   "outputs": [
    {
     "data": {
      "text/plain": [
       "10"
      ]
     },
     "execution_count": 11,
     "metadata": {},
     "output_type": "execute_result"
    }
   ],
   "source": [
    "round(10.5)"
   ]
  },
  {
   "cell_type": "code",
   "execution_count": null,
   "id": "07b2d425",
   "metadata": {},
   "outputs": [
    {
     "data": {
      "text/plain": [
       "11"
      ]
     },
     "execution_count": 12,
     "metadata": {},
     "output_type": "execute_result"
    }
   ],
   "source": [
    "round(10.6)"
   ]
  },
  {
   "cell_type": "code",
   "execution_count": null,
   "id": "faf349d0",
   "metadata": {},
   "outputs": [
    {
     "name": "stdout",
     "output_type": "stream",
     "text": [
      "5.67\n"
     ]
    }
   ],
   "source": [
    "print(round(5.666, ndigits=2))"
   ]
  },
  {
   "cell_type": "code",
   "execution_count": null,
   "id": "73e4035d",
   "metadata": {},
   "outputs": [
    {
     "data": {
      "text/plain": [
       "10.877"
      ]
     },
     "execution_count": 14,
     "metadata": {},
     "output_type": "execute_result"
    }
   ],
   "source": [
    "round(10.87668, ndigits=3)"
   ]
  },
  {
   "cell_type": "code",
   "execution_count": null,
   "id": "8ad60b17",
   "metadata": {},
   "outputs": [
    {
     "data": {
      "text/plain": [
       "10"
      ]
     },
     "execution_count": 15,
     "metadata": {},
     "output_type": "execute_result"
    }
   ],
   "source": [
    "abs(-10)"
   ]
  },
  {
   "cell_type": "code",
   "execution_count": null,
   "id": "57e8c5b5",
   "metadata": {},
   "outputs": [
    {
     "data": {
      "text/plain": [
       "200"
      ]
     },
     "execution_count": 16,
     "metadata": {},
     "output_type": "execute_result"
    }
   ],
   "source": [
    "abs(-100)*2"
   ]
  },
  {
   "cell_type": "code",
   "execution_count": null,
   "id": "3122ebad",
   "metadata": {},
   "outputs": [
    {
     "data": {
      "text/plain": [
       "[0, 1, 2, 3, 4]"
      ]
     },
     "execution_count": 17,
     "metadata": {},
     "output_type": "execute_result"
    }
   ],
   "source": [
    "list(range(0,5))"
   ]
  },
  {
   "cell_type": "code",
   "execution_count": null,
   "id": "f5e14ff6",
   "metadata": {},
   "outputs": [
    {
     "data": {
      "text/plain": [
       "[0, 1, 2, 3, 4]"
      ]
     },
     "execution_count": 18,
     "metadata": {},
     "output_type": "execute_result"
    }
   ],
   "source": [
    "list(range(5))"
   ]
  },
  {
   "cell_type": "code",
   "execution_count": null,
   "id": "b0df1cc7",
   "metadata": {},
   "outputs": [
    {
     "data": {
      "text/plain": [
       "range(5, 10)"
      ]
     },
     "execution_count": 19,
     "metadata": {},
     "output_type": "execute_result"
    }
   ],
   "source": [
    "range(5,10)"
   ]
  },
  {
   "cell_type": "code",
   "execution_count": null,
   "id": "81cd840f",
   "metadata": {},
   "outputs": [
    {
     "data": {
      "text/plain": [
       "[5, 6, 7, 8, 9]"
      ]
     },
     "execution_count": 20,
     "metadata": {},
     "output_type": "execute_result"
    }
   ],
   "source": [
    "list(range(5,10))"
   ]
  },
  {
   "cell_type": "code",
   "execution_count": null,
   "id": "9b9ce6b8",
   "metadata": {},
   "outputs": [
    {
     "data": {
      "text/plain": [
       "[0, 2, 4]"
      ]
     },
     "execution_count": 21,
     "metadata": {},
     "output_type": "execute_result"
    }
   ],
   "source": [
    "list(range(0,5,2))"
   ]
  },
  {
   "cell_type": "code",
   "execution_count": null,
   "id": "57e4dff8",
   "metadata": {},
   "outputs": [
    {
     "data": {
      "text/plain": [
       "[5, 8]"
      ]
     },
     "execution_count": 22,
     "metadata": {},
     "output_type": "execute_result"
    }
   ],
   "source": [
    "list(range(5,10,3))"
   ]
  },
  {
   "cell_type": "code",
   "execution_count": null,
   "id": "3080dbf5",
   "metadata": {},
   "outputs": [
    {
     "data": {
      "text/plain": [
       "[0, 1, 2, 3, 4, 5, 6]"
      ]
     },
     "execution_count": 23,
     "metadata": {},
     "output_type": "execute_result"
    }
   ],
   "source": [
    "list(range(7))"
   ]
  },
  {
   "cell_type": "code",
   "execution_count": null,
   "id": "22b17fa2",
   "metadata": {},
   "outputs": [
    {
     "data": {
      "text/plain": [
       "27"
      ]
     },
     "execution_count": 24,
     "metadata": {},
     "output_type": "execute_result"
    }
   ],
   "source": [
    "(lambda x:x**3)(3)"
   ]
  },
  {
   "cell_type": "code",
   "execution_count": null,
   "id": "913b215b",
   "metadata": {},
   "outputs": [
    {
     "data": {
      "text/plain": [
       "32"
      ]
     },
     "execution_count": 25,
     "metadata": {},
     "output_type": "execute_result"
    }
   ],
   "source": [
    "(lambda x:x**5)(2)"
   ]
  },
  {
   "cell_type": "code",
   "execution_count": null,
   "id": "f1429b38",
   "metadata": {},
   "outputs": [
    {
     "data": {
      "text/plain": [
       "27"
      ]
     },
     "execution_count": 26,
     "metadata": {},
     "output_type": "execute_result"
    }
   ],
   "source": [
    "example = (lambda x:x**3)\n",
    "\n",
    "example(3)"
   ]
  },
  {
   "cell_type": "code",
   "execution_count": null,
   "id": "2539c446",
   "metadata": {},
   "outputs": [
    {
     "data": {
      "text/plain": [
       "'KAYRA'"
      ]
     },
     "execution_count": 27,
     "metadata": {},
     "output_type": "execute_result"
    }
   ],
   "source": [
    "upper = lambda a:a.upper()\n",
    "\n",
    "upper(\"Kayra\")"
   ]
  },
  {
   "cell_type": "code",
   "execution_count": null,
   "id": "c795a951",
   "metadata": {},
   "outputs": [
    {
     "data": {
      "text/plain": [
       "4.0"
      ]
     },
     "execution_count": 28,
     "metadata": {},
     "output_type": "execute_result"
    }
   ],
   "source": [
    "(lambda x,y:(x+y)/2)(2,6)"
   ]
  },
  {
   "cell_type": "code",
   "execution_count": null,
   "id": "4112695d",
   "metadata": {},
   "outputs": [
    {
     "data": {
      "text/plain": [
       "5"
      ]
     },
     "execution_count": 29,
     "metadata": {},
     "output_type": "execute_result"
    }
   ],
   "source": [
    "hypotenuse = (lambda a, b: int((a**2+b**2)**(1/2)))\n",
    "hypotenuse(3,4)"
   ]
  },
  {
   "cell_type": "code",
   "execution_count": null,
   "id": "8d1c93b7",
   "metadata": {},
   "outputs": [
    {
     "name": "stdout",
     "output_type": "stream",
     "text": [
      "1 : Odd\n",
      "2 : Even\n",
      "10 : Even\n",
      "15 : Odd\n",
      "28 : Even\n"
     ]
    }
   ],
   "source": [
    "list1 = [1,2,10,15,28]\n",
    "for i in list1:\n",
    "    print(i,\":\",(lambda x:\"Even\"if x%2 == 0 else \"Odd\")(i))\n",
    "    "
   ]
  },
  {
   "cell_type": "code",
   "execution_count": null,
   "id": "5dfdabbe",
   "metadata": {},
   "outputs": [
    {
     "name": "stdout",
     "output_type": "stream",
     "text": [
      "a : Vowels Letter\n",
      "b : Others\n",
      "d : Others\n",
      "e : Vowels Letter\n",
      "i : Vowels Letter\n",
      "j : Others\n",
      "o : Vowels Letter\n"
     ]
    }
   ],
   "source": [
    "letters_example = ['a','b','d','e','i','j','o']\n",
    "vowels = ['a','e','i','o','u']\n",
    "\n",
    "for i in letters_example:\n",
    "     print(i,\":\",(lambda X: \"Vowels Letter\"if X in vowels else \"Others\")(i))"
   ]
  },
  {
   "cell_type": "code",
   "execution_count": null,
   "id": "1e513cd4",
   "metadata": {},
   "outputs": [
    {
     "name": "stdout",
     "output_type": "stream",
     "text": [
      "a : Vowels Letter\n",
      "b : Others\n",
      "d : Others\n",
      "e : Vowels Letter\n",
      "i : Vowels Letter\n",
      "j : Others\n",
      "o : Vowels Letter\n"
     ]
    }
   ],
   "source": [
    "letters_example = ['a','b','d','e','i','j','o']\n",
    "vowels = ['a','e','i','o','u']\n",
    "\n",
    "for i in letters_example:\n",
    "     print(i,\":\",(lambda Y: \"Vowels Letter\"if Y in vowels else \"Others\")(i))"
   ]
  },
  {
   "cell_type": "code",
   "execution_count": null,
   "id": "04fdb3d4",
   "metadata": {},
   "outputs": [
    {
     "name": "stdout",
     "output_type": "stream",
     "text": [
      "a : Vowels Letter\n",
      "b : Others\n",
      "d : Others\n",
      "e : Vowels Letter\n",
      "i : Vowels Letter\n",
      "j : Others\n",
      "o : Vowels Letter\n"
     ]
    }
   ],
   "source": [
    "letters_example = ['a','b','d','e','i','j','o']\n",
    "vowels = ['a','e','i','o','u']\n",
    "\n",
    "for i in letters_example:\n",
    "     print(i,\":\",(lambda Z: \"Vowels Letter\"if Z in vowels else \"Others\")(i))"
   ]
  },
  {
   "cell_type": "code",
   "execution_count": null,
   "id": "cdee6215",
   "metadata": {},
   "outputs": [],
   "source": []
  }
 ],
 "metadata": {
  "kernelspec": {
   "display_name": "Python 3 (ipykernel)",
   "language": "python",
   "name": "python3"
  },
  "language_info": {
   "codemirror_mode": {
    "name": "ipython",
    "version": 3
   },
   "file_extension": ".py",
   "mimetype": "text/x-python",
   "name": "python",
   "nbconvert_exporter": "python",
   "pygments_lexer": "ipython3",
   "version": "3.10.9"
  }
 },
 "nbformat": 4,
 "nbformat_minor": 5
}
