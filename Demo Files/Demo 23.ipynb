{
 "cells": [
  {
   "cell_type": "code",
   "execution_count": 1,
   "id": "7fffeba2",
   "metadata": {},
   "outputs": [
    {
     "name": "stdout",
     "output_type": "stream",
     "text": [
      "[10, 20, 30, 40, 50, 60, 70]\n"
     ]
    }
   ],
   "source": [
    "int_list=[10,20,30,40,50,60]\n",
    "int_list.append(70)\n",
    "print(int_list)"
   ]
  },
  {
   "cell_type": "code",
   "execution_count": 2,
   "id": "0faa87e6",
   "metadata": {},
   "outputs": [
    {
     "name": "stdout",
     "output_type": "stream",
     "text": [
      "['USA', 'Germany', 'Turkey', 'Egypt', 'Russia']\n"
     ]
    }
   ],
   "source": [
    "new_list=[\"USA\",\"Germany\",\"Turkey\",\"Egypt\"]\n",
    "new_list.append(\"Russia\")\n",
    "print(new_list)"
   ]
  },
  {
   "cell_type": "code",
   "execution_count": 3,
   "id": "d19712af",
   "metadata": {},
   "outputs": [
    {
     "name": "stdout",
     "output_type": "stream",
     "text": [
      "[10, 20, 30, 40, 60, 70]\n"
     ]
    }
   ],
   "source": [
    "int_list=[10,20,30,40,50,60,70]\n",
    "int_list.remove(50)\n",
    "print(int_list)"
   ]
  },
  {
   "cell_type": "code",
   "execution_count": 4,
   "id": "25a6bb4a",
   "metadata": {},
   "outputs": [
    {
     "name": "stdout",
     "output_type": "stream",
     "text": [
      "['USA', 'Germany', 'Turkey', 'Egypt']\n"
     ]
    }
   ],
   "source": [
    "new_list=[\"Russia\",\"USA\",\"Germany\",\"Turkey\",\"Egypt\"]\n",
    "new_list.remove(\"Russia\")\n",
    "print(new_list)"
   ]
  },
  {
   "cell_type": "code",
   "execution_count": null,
   "id": "67f53a3c",
   "metadata": {},
   "outputs": [],
   "source": []
  }
 ],
 "metadata": {
  "kernelspec": {
   "display_name": "Python 3 (ipykernel)",
   "language": "python",
   "name": "python3"
  },
  "language_info": {
   "codemirror_mode": {
    "name": "ipython",
    "version": 3
   },
   "file_extension": ".py",
   "mimetype": "text/x-python",
   "name": "python",
   "nbconvert_exporter": "python",
   "pygments_lexer": "ipython3",
   "version": "3.10.9"
  }
 },
 "nbformat": 4,
 "nbformat_minor": 5
}
