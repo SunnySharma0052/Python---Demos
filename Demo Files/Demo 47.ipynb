{
 "cells": [
  {
   "cell_type": "code",
   "execution_count": 1,
   "id": "bc34ebfc",
   "metadata": {},
   "outputs": [
    {
     "name": "stdout",
     "output_type": "stream",
     "text": [
      "Guess The Number Correctly:8\n",
      "You Guessed The Number Correctly\n"
     ]
    }
   ],
   "source": [
    "number = 8\n",
    "estimate = int(input(\"Guess The Number Correctly:\"))\n",
    "\n",
    "while True:\n",
    "    if number == estimate:\n",
    "        print(\"You Guessed The Number Correctly\")\n",
    "        break\n",
    "    else:\n",
    "        print(\"You Did Not Guess The Number Correctly\")\n",
    "        break"
   ]
  },
  {
   "cell_type": "code",
   "execution_count": 2,
   "id": "6b1ea20f",
   "metadata": {},
   "outputs": [
    {
     "name": "stdout",
     "output_type": "stream",
     "text": [
      "Please Enter The Password:234568\n",
      "You have 2 option left for the correct password. Please Try Again.\n",
      "Please Enter The Right Password:256378\n",
      "You have 1 option left for the correct password. Please Try Again.\n",
      "{Last Chance Of You.}Please Enter The Right Password.Please Try Again:Sandyy.3652\n",
      "You entered the password corretly\n"
     ]
    }
   ],
   "source": [
    "counter = 1\n",
    "password = input(\"Please Enter The Password:\")\n",
    "\n",
    "while counter <=3:\n",
    "    if password != \"Sandyy.3652\":\n",
    "        \n",
    "        if counter == 1:\n",
    "            print(f\"You have {3-counter} option left for the correct password. Please Try Again.\")\n",
    "            password=input(\"Please Enter The Right Password:\")\n",
    "        \n",
    "        elif counter ==2:\n",
    "            print(f\"You have {3-counter} option left for the correct password. Please Try Again.\")\n",
    "            password=input(\"{Last Chance Of You.}Please Enter The Right Password.Please Try Again:\")\n",
    "    \n",
    "        else:\n",
    "            print(\"You have finished your login\")\n",
    "        \n",
    "    else:\n",
    "        print(\"You entered the password corretly\")\n",
    "        break\n",
    "        \n",
    "    counter += 1"
   ]
  },
  {
   "cell_type": "code",
   "execution_count": 3,
   "id": "c0933692",
   "metadata": {},
   "outputs": [
    {
     "name": "stdout",
     "output_type": "stream",
     "text": [
      "[2400.0, 2700.0, 2702.5, 2400.0, 3135.0, 3025.0, 3300.0, 2915.0]\n"
     ]
    }
   ],
   "source": [
    "personal_salary=[2000,2500,2250,2350,2000,2850,2750,3000,2650,2500]\n",
    "new_salary=[]\n",
    "\n",
    "for i in personal_salary:\n",
    "    if i == 2500:\n",
    "        continue\n",
    "    elif i <2300:\n",
    "        increased_salary1 = i+(i*20/100)\n",
    "        new_salary.append(increased_salary1)\n",
    "    elif 2300<=i<=2500:\n",
    "        increased_salary2=i+(i*15/100)\n",
    "        new_salary.append(increased_salary2)\n",
    "    else:\n",
    "        increased_salary3 = i+(i*10/100)\n",
    "        new_salary.append(increased_salary3)\n",
    "        \n",
    "print(new_salary)"
   ]
  },
  {
   "cell_type": "code",
   "execution_count": 4,
   "id": "f84035a7",
   "metadata": {},
   "outputs": [
    {
     "name": "stdout",
     "output_type": "stream",
     "text": [
      "1\n",
      "2\n",
      "3\n",
      "4\n",
      "5\n",
      "6\n",
      "7\n",
      "8\n",
      "9\n",
      "11\n",
      "12\n",
      "13\n",
      "14\n",
      "15\n",
      "16\n",
      "17\n",
      "18\n",
      "19\n",
      "20\n",
      "21\n",
      "22\n",
      "23\n",
      "24\n",
      "25\n",
      "26\n",
      "27\n",
      "28\n",
      "29\n",
      "30\n",
      "31\n",
      "32\n",
      "33\n",
      "34\n",
      "35\n",
      "36\n",
      "37\n",
      "38\n",
      "39\n",
      "40\n"
     ]
    }
   ],
   "source": [
    "a = 0\n",
    "while a<40:\n",
    "    a+=1\n",
    "    if a == 10:\n",
    "        continue\n",
    "    print(a)"
   ]
  },
  {
   "cell_type": "code",
   "execution_count": null,
   "id": "8a6cc1ab",
   "metadata": {},
   "outputs": [],
   "source": []
  }
 ],
 "metadata": {
  "kernelspec": {
   "display_name": "Python 3 (ipykernel)",
   "language": "python",
   "name": "python3"
  },
  "language_info": {
   "codemirror_mode": {
    "name": "ipython",
    "version": 3
   },
   "file_extension": ".py",
   "mimetype": "text/x-python",
   "name": "python",
   "nbconvert_exporter": "python",
   "pygments_lexer": "ipython3",
   "version": "3.10.9"
  }
 },
 "nbformat": 4,
 "nbformat_minor": 5
}
