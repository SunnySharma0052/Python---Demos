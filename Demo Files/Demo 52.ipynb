{
 "cells": [
  {
   "cell_type": "code",
   "execution_count": 1,
   "id": "17bde042",
   "metadata": {},
   "outputs": [
    {
     "name": "stdout",
     "output_type": "stream",
     "text": [
      "5.0\n"
     ]
    }
   ],
   "source": [
    "def hypotenuse (a, b):\n",
    "    print((a**2+b**2)**0.5)\n",
    "hypotenuse(3, 4)"
   ]
  },
  {
   "cell_type": "code",
   "execution_count": 2,
   "id": "6c0bd1c6",
   "metadata": {},
   "outputs": [
    {
     "data": {
      "text/plain": [
       "8"
      ]
     },
     "execution_count": 2,
     "metadata": {},
     "output_type": "execute_result"
    }
   ],
   "source": [
    "def new_cube (x):\n",
    "    return x**3\n",
    "new_cube(2)"
   ]
  },
  {
   "cell_type": "code",
   "execution_count": 3,
   "id": "8d4df2e0",
   "metadata": {},
   "outputs": [
    {
     "name": "stdout",
     "output_type": "stream",
     "text": [
      "Student Name: Joseph\n",
      "LastName: Roy\n",
      "AGE: 29\n"
     ]
    }
   ],
   "source": [
    "def student_ID(name,lastname,age):\n",
    "    print(\"Student Name:\",name)\n",
    "    print(\"LastName:\",lastname)\n",
    "    print(\"AGE:\",age)\n",
    "    \n",
    "student_ID(\"Joseph\",\"Roy\",\"29\")"
   ]
  },
  {
   "cell_type": "code",
   "execution_count": 4,
   "id": "83747242",
   "metadata": {},
   "outputs": [
    {
     "name": "stdout",
     "output_type": "stream",
     "text": [
      "10.0\n"
     ]
    }
   ],
   "source": [
    "def hypotenuse(a, b):\n",
    "    print((a**2+b**2)**0.5)\n",
    "hypotenuse(6,8,)"
   ]
  },
  {
   "cell_type": "code",
   "execution_count": 5,
   "id": "d7a46924",
   "metadata": {},
   "outputs": [
    {
     "name": "stdout",
     "output_type": "stream",
     "text": [
      "Student Name: Joseph\n",
      "Student LastName: Rye\n",
      "Student Age: 48\n"
     ]
    }
   ],
   "source": [
    "def student_ID (name,lastname,age):\n",
    "    print(\"Student Name:\", name)\n",
    "    print(\"Student LastName:\", lastname)\n",
    "    print(\"Student Age:\", age)\n",
    "    \n",
    "student_ID (age=48,name=\"Joseph\",lastname=\"Rye\")"
   ]
  },
  {
   "cell_type": "code",
   "execution_count": 6,
   "id": "5f62a533",
   "metadata": {},
   "outputs": [
    {
     "name": "stdout",
     "output_type": "stream",
     "text": [
      "Student Name: Joseph\n",
      "Student LastName: Rye\n",
      "Age: 29\n"
     ]
    }
   ],
   "source": [
    "def student_ID (name,lastname,age=29):\n",
    "    print(\"Student Name:\", name)\n",
    "    print(\"Student LastName:\", lastname)\n",
    "    print(\"Age:\", age)\n",
    "    \n",
    "student_ID(\"Joseph\",\"Rye\")"
   ]
  },
  {
   "cell_type": "code",
   "execution_count": 7,
   "id": "7878ed00",
   "metadata": {},
   "outputs": [
    {
     "name": "stdout",
     "output_type": "stream",
     "text": [
      "My Name Is Kayra I Work In The Data Science Department\n"
     ]
    }
   ],
   "source": [
    "def example(name,department = \"Data Science\"):\n",
    "    print(\"My\",\"Name Is\",name,\"I Work In The\",department,\"Department\")\n",
    "    \n",
    "example(\"Kayra\")"
   ]
  },
  {
   "cell_type": "code",
   "execution_count": 8,
   "id": "9a1911bc",
   "metadata": {},
   "outputs": [
    {
     "name": "stdout",
     "output_type": "stream",
     "text": [
      "Even: [8, 18, 22, 116, 1256, 14]\n",
      "Odd: [1, 5, 9, 15]\n"
     ]
    }
   ],
   "source": [
    "def odd_even (*number):\n",
    "    \n",
    "    even=[]\n",
    "    odd=[]\n",
    "    for i in number:\n",
    "        if i % 2 == 0:\n",
    "            even.append(i)\n",
    "        else:\n",
    "            odd.append(i)\n",
    "    print(\"Even:\",even)\n",
    "    print(\"Odd:\",odd)\n",
    "    \n",
    "odd_even(1,5,8,9,15,18,22,116,1256,14)"
   ]
  },
  {
   "cell_type": "code",
   "execution_count": 9,
   "id": "19ef301d",
   "metadata": {},
   "outputs": [
    {
     "name": "stdout",
     "output_type": "stream",
     "text": [
      "Letter_A: ['Albania', 'Argentina', 'Australia', 'Azerbaijan']\n",
      "Letter_B: ['Bolivi', 'Brazil', 'Belgium', 'Bangladesh']\n",
      "Letter_C: ['Colombia', 'Croatia', 'Cyprus', 'Czechia']\n"
     ]
    }
   ],
   "source": [
    "def country(*name):\n",
    "    letter_A = []\n",
    "    letter_B = []\n",
    "    letter_C = []\n",
    "    \n",
    "    for i in name:\n",
    "        if i [0] == \"A\":\n",
    "            letter_A.append(i)\n",
    "        elif i [0] == \"B\":\n",
    "            letter_B.append(i)\n",
    "        elif i [0] == \"C\":\n",
    "            letter_C.append(i)\n",
    "            \n",
    "    print(\"Letter_A:\",letter_A)\n",
    "    print(\"Letter_B:\",letter_B)\n",
    "    print(\"Letter_C:\",letter_C)\n",
    "    \n",
    "country(\"Albania\",\"Bolivi\",\"Colombia\",\"Argentina\",\"Brazil\",\"Croatia\",\"Australia\",\"Belgium\",\"Cyprus\",\"Azerbaijan\",\"Bangladesh\",\"Czechia\")"
   ]
  },
  {
   "cell_type": "code",
   "execution_count": 10,
   "id": "901014e8",
   "metadata": {},
   "outputs": [
    {
     "name": "stdout",
     "output_type": "stream",
     "text": [
      "Letter_B: ['Bolivi', 'Brazil', 'Belgium', 'Bangladesh']\n"
     ]
    }
   ],
   "source": [
    "def country(*name):\n",
    "    letter_A = []\n",
    "    letter_B = []\n",
    "    letter_C = []\n",
    "    \n",
    "    for i in name:\n",
    "        if i [0] == \"A\":\n",
    "            letter_A.append(i)\n",
    "            \n",
    "        elif i [0] == \"B\":\n",
    "            letter_B.append(i)\n",
    "            \n",
    "        elif i [0] == \"C\":\n",
    "            letter_C.append(i)\n",
    "            \n",
    "    print(\"Letter_B:\", letter_B)\n",
    "    \n",
    "country(\"Albania\",\"Bolivi\",\"Colombia\",\"Argentina\",\"Brazil\",\"Croatia\",\"Australia\",\"Belgium\",\"Cyprus\",\"Azerbaijan\",\"Bangladesh\",\"Czechia\")"
   ]
  },
  {
   "cell_type": "code",
   "execution_count": 11,
   "id": "78e7ad4c",
   "metadata": {},
   "outputs": [
    {
     "name": "stdout",
     "output_type": "stream",
     "text": [
      "Letter_C: ['Colombia', 'Croatia', 'Cyprus', 'Czechia']\n"
     ]
    }
   ],
   "source": [
    "def country(*name):\n",
    "    letter_A = []\n",
    "    letter_B = []\n",
    "    letter_C = []\n",
    "    \n",
    "    for i in name:\n",
    "        if i [0] == \"A\":\n",
    "            letter_A.append(i)\n",
    "            \n",
    "        elif i [0] == \"B\":\n",
    "            letter_B.append(i)\n",
    "            \n",
    "        elif i [0] == \"C\":\n",
    "            letter_C.append(i)\n",
    "            \n",
    "    print(\"Letter_C:\", letter_C)\n",
    "    \n",
    "country(\"Albania\",\"Bolivi\",\"Colombia\",\"Argentina\",\"Brazil\",\"Croatia\",\"Australia\",\"Belgium\",\"Cyprus\",\"Azerbaijan\",\"Bangladesh\",\"Czechia\")"
   ]
  },
  {
   "cell_type": "code",
   "execution_count": 12,
   "id": "7a618731",
   "metadata": {},
   "outputs": [
    {
     "name": "stdout",
     "output_type": "stream",
     "text": [
      "Arsenal Is In England\n",
      "Barcelona Is In Spain\n",
      "Galatasaray Is In Turkey\n",
      "Inter Is In Italy\n"
     ]
    }
   ],
   "source": [
    "def football (**team):\n",
    "    for key, value in team.items():\n",
    "        print(key, \"Is In\", value)\n",
    "        \n",
    "dict_example = {\"Arsenal\":\"England\",\n",
    "                \"Barcelona\":\"Spain\",\n",
    "                \"Galatasaray\":\"Turkey\",\n",
    "                \"Inter\":\"Italy\"}\n",
    "\n",
    "football(**dict_example)"
   ]
  },
  {
   "cell_type": "code",
   "execution_count": 13,
   "id": "aaff3863",
   "metadata": {},
   "outputs": [
    {
     "name": "stdout",
     "output_type": "stream",
     "text": [
      "Name: ['George', 'Joseph', 'Kayra']\n",
      "Age: [25, 27, 15]\n"
     ]
    }
   ],
   "source": [
    "def example2 (**ID_param):\n",
    "    name = []\n",
    "    age = []\n",
    "    \n",
    "    for i, j in ID_param.items():\n",
    "        name.append(i)\n",
    "        age.append(j)\n",
    "        \n",
    "    print(\"Name:\",name)\n",
    "    print(\"Age:\",age)\n",
    "    \n",
    "dict_example = {\"George\":25,\n",
    "                \"Joseph\":27,\n",
    "                \"Kayra\":15}\n",
    "\n",
    "example2(**dict_example)"
   ]
  },
  {
   "cell_type": "code",
   "execution_count": null,
   "id": "ec517734",
   "metadata": {},
   "outputs": [],
   "source": []
  }
 ],
 "metadata": {
  "kernelspec": {
   "display_name": "Python 3 (ipykernel)",
   "language": "python",
   "name": "python3"
  },
  "language_info": {
   "codemirror_mode": {
    "name": "ipython",
    "version": 3
   },
   "file_extension": ".py",
   "mimetype": "text/x-python",
   "name": "python",
   "nbconvert_exporter": "python",
   "pygments_lexer": "ipython3",
   "version": "3.10.9"
  }
 },
 "nbformat": 4,
 "nbformat_minor": 5
}
