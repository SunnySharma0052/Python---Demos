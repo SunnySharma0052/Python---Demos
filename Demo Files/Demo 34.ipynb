{
 "cells": [
  {
   "cell_type": "code",
   "execution_count": 1,
   "id": "89bd7f93",
   "metadata": {},
   "outputs": [
    {
     "data": {
      "text/plain": [
       "{1, 5, 6}"
      ]
     },
     "execution_count": 1,
     "metadata": {},
     "output_type": "execute_result"
    }
   ],
   "source": [
    "list1=[1,6,7,10,2,5,16]\n",
    "list2=[1,6,8,12,5,3]\n",
    "set_first=set(list1)\n",
    "set_second=set(list2)\n",
    "set_first.intersection(set_second)"
   ]
  },
  {
   "cell_type": "code",
   "execution_count": 2,
   "id": "fcf37f12",
   "metadata": {},
   "outputs": [
    {
     "data": {
      "text/plain": [
       "{'Kotlin', 'Python'}"
      ]
     },
     "execution_count": 2,
     "metadata": {},
     "output_type": "execute_result"
    }
   ],
   "source": [
    "prog_lang_list1=[\"Python\",\"SQL\",\"R\",\"Java\",\"Kotlin\"]\n",
    "prog_lang_list2=[\"Python\",\"Kotlin\",\"Go\",\"C++\",\"Pascal\"]\n",
    "prog_lang_set1=set(prog_lang_list1)\n",
    "prog_lang_set2=set(prog_lang_list2)\n",
    "prog_lang_set1.intersection(prog_lang_set2)"
   ]
  },
  {
   "cell_type": "code",
   "execution_count": 3,
   "id": "53cb77bb",
   "metadata": {},
   "outputs": [
    {
     "data": {
      "text/plain": [
       "{1, 5, 6}"
      ]
     },
     "execution_count": 3,
     "metadata": {},
     "output_type": "execute_result"
    }
   ],
   "source": [
    "list1=[1,6,7,10,2,5,16]\n",
    "list2=[1,6,8,12,5,3]\n",
    "set_first=set(list1)\n",
    "set_second=set(list2)\n",
    "set_first&set_second"
   ]
  },
  {
   "cell_type": "code",
   "execution_count": 4,
   "id": "041968f0",
   "metadata": {},
   "outputs": [
    {
     "data": {
      "text/plain": [
       "{'Kotlin', 'Python'}"
      ]
     },
     "execution_count": 4,
     "metadata": {},
     "output_type": "execute_result"
    }
   ],
   "source": [
    "prog_lang_list1=[\"Python\",\"SQL\",\"R\",\"Java\",\"Kotlin\"]\n",
    "prog_lang_list2=[\"Python\",\"Kotlin\",\"Go\",\"C++\",\"Pascal\"]\n",
    "prog_lang_set1=set(prog_lang_list1)\n",
    "prog_lang_set2=set(prog_lang_list2)\n",
    "prog_lang_set1&prog_lang_set2"
   ]
  },
  {
   "cell_type": "code",
   "execution_count": 5,
   "id": "e6576ed6",
   "metadata": {},
   "outputs": [
    {
     "data": {
      "text/plain": [
       "{'C++', 'Go', 'Java', 'Kotlin', 'Pascal', 'Python', 'R', 'SQL'}"
      ]
     },
     "execution_count": 5,
     "metadata": {},
     "output_type": "execute_result"
    }
   ],
   "source": [
    "prog_lang_list1=[\"Python\",\"SQL\",\"R\",\"Java\",\"Kotlin\"]\n",
    "prog_lang_list2=[\"Python\",\"Kotlin\",\"Go\",\"C++\",\"Pascal\"]\n",
    "prog_lang_set1=set(prog_lang_list1)\n",
    "prog_lang_set2=set(prog_lang_list2)\n",
    "prog_lang_set1.union(prog_lang_set2)"
   ]
  },
  {
   "cell_type": "code",
   "execution_count": 6,
   "id": "4719cdbc",
   "metadata": {},
   "outputs": [
    {
     "data": {
      "text/plain": [
       "{1, 2, 3, 5, 6, 7, 8, 9, 10, 12, 16}"
      ]
     },
     "execution_count": 6,
     "metadata": {},
     "output_type": "execute_result"
    }
   ],
   "source": [
    "list1=[1,6,7,10,2,5,16]\n",
    "list2=[1,6,8,9,12,5,3]\n",
    "set_first=set(list1)\n",
    "set_second=set(list2)\n",
    "set_first.union(set_second)"
   ]
  },
  {
   "cell_type": "code",
   "execution_count": null,
   "id": "65801928",
   "metadata": {},
   "outputs": [],
   "source": []
  }
 ],
 "metadata": {
  "kernelspec": {
   "display_name": "Python 3 (ipykernel)",
   "language": "python",
   "name": "python3"
  },
  "language_info": {
   "codemirror_mode": {
    "name": "ipython",
    "version": 3
   },
   "file_extension": ".py",
   "mimetype": "text/x-python",
   "name": "python",
   "nbconvert_exporter": "python",
   "pygments_lexer": "ipython3",
   "version": "3.10.9"
  }
 },
 "nbformat": 4,
 "nbformat_minor": 5
}
