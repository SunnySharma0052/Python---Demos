{
 "cells": [
  {
   "cell_type": "code",
   "execution_count": 1,
   "id": "59b5ad43",
   "metadata": {},
   "outputs": [
    {
     "name": "stdout",
     "output_type": "stream",
     "text": [
      "['USA', 'Germany', 'Japan', 'egypt', 'Greece']\n"
     ]
    }
   ],
   "source": [
    "country=[\"USA\",\"Germany\",\"Japan\",\"egypt\"]\n",
    "country=country+[\"Greece\"]\n",
    "print(country)"
   ]
  },
  {
   "cell_type": "code",
   "execution_count": 2,
   "id": "a4df7309",
   "metadata": {},
   "outputs": [
    {
     "name": "stdout",
     "output_type": "stream",
     "text": [
      "[10, 20, 30, 40, 50, 60]\n"
     ]
    }
   ],
   "source": [
    "list_example=[10,20,30,40]\n",
    "list_example=list_example+[50,60]\n",
    "print(list_example)"
   ]
  },
  {
   "cell_type": "code",
   "execution_count": 3,
   "id": "b25fd57b",
   "metadata": {},
   "outputs": [
    {
     "name": "stdout",
     "output_type": "stream",
     "text": [
      "['Turkey', 'Syria', 'Italy', 'Egypt', 'Greece']\n"
     ]
    }
   ],
   "source": [
    "country=[\"USA\",\"Germany\",\"Japan\",\"Egypt\",\"Greece\"]\n",
    "country[0:3]=\"Turkey\",\"Syria\",\"Italy\"\n",
    "print(country)"
   ]
  },
  {
   "cell_type": "code",
   "execution_count": 4,
   "id": "d7b8008c",
   "metadata": {},
   "outputs": [
    {
     "name": "stdout",
     "output_type": "stream",
     "text": [
      "100\n"
     ]
    }
   ],
   "source": [
    "list_example=[10,20,30,40]\n",
    "print(list_example[0]*10)"
   ]
  },
  {
   "cell_type": "code",
   "execution_count": 5,
   "id": "78626fa6",
   "metadata": {},
   "outputs": [
    {
     "name": "stdout",
     "output_type": "stream",
     "text": [
      "[100, 200, 300, 400]\n"
     ]
    }
   ],
   "source": [
    "list_example=[10*10,20*10,30*10,40*10]\n",
    "print(list_example[0:4])"
   ]
  },
  {
   "cell_type": "code",
   "execution_count": 6,
   "id": "11f12aff",
   "metadata": {},
   "outputs": [
    {
     "name": "stdout",
     "output_type": "stream",
     "text": [
      "['USA', 'Japan', 'Egypt']\n"
     ]
    }
   ],
   "source": [
    "country=[\"USA\",\"Germany\",\"Japan\",\"Egypt\"]\n",
    "del country[1]\n",
    "print(country)"
   ]
  },
  {
   "cell_type": "code",
   "execution_count": 7,
   "id": "47b23a19",
   "metadata": {},
   "outputs": [
    {
     "name": "stdout",
     "output_type": "stream",
     "text": [
      "[30, 40]\n"
     ]
    }
   ],
   "source": [
    "list_example=[10,20,30,40]\n",
    "del list_example[0:2]\n",
    "print(list_example)"
   ]
  },
  {
   "cell_type": "code",
   "execution_count": 8,
   "id": "d27924d5",
   "metadata": {},
   "outputs": [
    {
     "name": "stdout",
     "output_type": "stream",
     "text": [
      "[20, 40]\n"
     ]
    }
   ],
   "source": [
    "list_example=[10,20,30,40]\n",
    "del list_example[0:3:2]\n",
    "print(list_example)"
   ]
  },
  {
   "cell_type": "code",
   "execution_count": null,
   "id": "6ae31a83",
   "metadata": {},
   "outputs": [],
   "source": []
  }
 ],
 "metadata": {
  "kernelspec": {
   "display_name": "Python 3 (ipykernel)",
   "language": "python",
   "name": "python3"
  },
  "language_info": {
   "codemirror_mode": {
    "name": "ipython",
    "version": 3
   },
   "file_extension": ".py",
   "mimetype": "text/x-python",
   "name": "python",
   "nbconvert_exporter": "python",
   "pygments_lexer": "ipython3",
   "version": "3.10.9"
  }
 },
 "nbformat": 4,
 "nbformat_minor": 5
}
