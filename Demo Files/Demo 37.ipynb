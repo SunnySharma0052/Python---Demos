{
 "cells": [
  {
   "cell_type": "code",
   "execution_count": 1,
   "id": "a6611b57",
   "metadata": {},
   "outputs": [
    {
     "name": "stdout",
     "output_type": "stream",
     "text": [
      "Please Enter Your Name:Sunny Sharma\n",
      "Sunny Sharma\n"
     ]
    }
   ],
   "source": [
    "print(input(\"Please Enter Your Name:\"))"
   ]
  },
  {
   "cell_type": "code",
   "execution_count": 2,
   "id": "61471a3f",
   "metadata": {},
   "outputs": [
    {
     "name": "stdout",
     "output_type": "stream",
     "text": [
      "Please Enter Your Name:Sunny Sharma\n",
      "Sunny Sharma\n",
      "How Old Are You:30 Year's Old\n",
      "30 Year's Old\n"
     ]
    }
   ],
   "source": [
    "print(input(\"Please Enter Your Name:\"))\n",
    "print(input(\"How Old Are You:\"))"
   ]
  },
  {
   "cell_type": "code",
   "execution_count": 3,
   "id": "5b89bf40",
   "metadata": {},
   "outputs": [
    {
     "name": "stdout",
     "output_type": "stream",
     "text": [
      "How Old Are You?30 Year's Old\n",
      "Age: 30 Year's Old\n"
     ]
    }
   ],
   "source": [
    "variable=input(\"How Old Are You?\")\n",
    "print(\"Age:\",variable)"
   ]
  },
  {
   "cell_type": "code",
   "execution_count": 4,
   "id": "72999513",
   "metadata": {},
   "outputs": [
    {
     "name": "stdout",
     "output_type": "stream",
     "text": [
      "<class 'str'>\n"
     ]
    }
   ],
   "source": [
    "print(type(variable))"
   ]
  },
  {
   "cell_type": "code",
   "execution_count": 5,
   "id": "74479a12",
   "metadata": {},
   "outputs": [
    {
     "name": "stdout",
     "output_type": "stream",
     "text": [
      "How Old Are You?:30\n",
      "Age: 30\n"
     ]
    }
   ],
   "source": [
    "variable=int(input(\"How Old Are You?:\"))\n",
    "print(\"Age:\",variable)"
   ]
  },
  {
   "cell_type": "code",
   "execution_count": 6,
   "id": "1f95beaf",
   "metadata": {},
   "outputs": [
    {
     "name": "stdout",
     "output_type": "stream",
     "text": [
      "<class 'int'>\n"
     ]
    }
   ],
   "source": [
    "print(type(variable))"
   ]
  },
  {
   "cell_type": "code",
   "execution_count": null,
   "id": "d8c0c652",
   "metadata": {},
   "outputs": [],
   "source": []
  }
 ],
 "metadata": {
  "kernelspec": {
   "display_name": "Python 3 (ipykernel)",
   "language": "python",
   "name": "python3"
  },
  "language_info": {
   "codemirror_mode": {
    "name": "ipython",
    "version": 3
   },
   "file_extension": ".py",
   "mimetype": "text/x-python",
   "name": "python",
   "nbconvert_exporter": "python",
   "pygments_lexer": "ipython3",
   "version": "3.10.9"
  }
 },
 "nbformat": 4,
 "nbformat_minor": 5
}
