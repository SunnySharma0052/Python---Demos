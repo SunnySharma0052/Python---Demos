{
 "cells": [
  {
   "cell_type": "code",
   "execution_count": 1,
   "id": "ddaf953a",
   "metadata": {},
   "outputs": [
    {
     "name": "stdout",
     "output_type": "stream",
     "text": [
      "{'USA': 'Washington', 'Austria': 'Vienna', 'Germany': 'Belin', 'UK': 'London', 'Turkey': 'Ankara'}\n"
     ]
    }
   ],
   "source": [
    "capital={\"USA\":\"Washington\",\n",
    "         \"Austria\":\"Vienna\",\n",
    "         \"Germany\":\"Belin\",\n",
    "         \"UK\":\"London\"}\n",
    "capital[\"Turkey\"]=\"Ankara\"\n",
    "print(capital)"
   ]
  },
  {
   "cell_type": "code",
   "execution_count": 2,
   "id": "2e55622d",
   "metadata": {},
   "outputs": [
    {
     "name": "stdout",
     "output_type": "stream",
     "text": [
      "{'Earth': 'Moon', 'Saturn': 'Titan', 'Jupiter': 'Europe'}\n"
     ]
    }
   ],
   "source": [
    "secondary_planet={\"Earth\":\"Moon\",\n",
    "                  \"Saturn\":\"Titan\"}\n",
    "secondary_planet[\"Jupiter\"]=\"Europe\"\n",
    "print(secondary_planet)"
   ]
  },
  {
   "cell_type": "code",
   "execution_count": 3,
   "id": "d56f678f",
   "metadata": {},
   "outputs": [
    {
     "name": "stdout",
     "output_type": "stream",
     "text": [
      "{'USA': 'Washington', 'Austria': 'Vienna', 'Germany': 'Hamburg', 'UK': 'London'}\n"
     ]
    }
   ],
   "source": [
    "capital={\"USA\":\"Washington\",\n",
    "         \"Austria\":\"Vienna\",\n",
    "         \"Germany\":\"Belin\",\n",
    "         \"UK\":\"London\"}\n",
    "capital[\"Germany\"]=\"Hamburg\"\n",
    "print(capital)"
   ]
  },
  {
   "cell_type": "code",
   "execution_count": 4,
   "id": "d0fe4dec",
   "metadata": {},
   "outputs": [
    {
     "name": "stdout",
     "output_type": "stream",
     "text": [
      "{'Earth': 'Moon', 'Saturn': 'Titan', 'Jupiter': 'Ganymede'}\n"
     ]
    }
   ],
   "source": [
    "secondary_planet={\"Earth\":\"Moon\",\n",
    "                  \"Saturn\":\"Titan\",\n",
    "                  \"Jupiter\":\"Europe\"}\n",
    "secondary_planet[\"Jupiter\"]=\"Ganymede\"\n",
    "print(secondary_planet)"
   ]
  },
  {
   "cell_type": "code",
   "execution_count": 5,
   "id": "0f87b7dc",
   "metadata": {},
   "outputs": [
    {
     "name": "stdout",
     "output_type": "stream",
     "text": [
      "{'USA': 'Washington', 'Austria': 'Vienna', 'UK': 'London'}\n"
     ]
    }
   ],
   "source": [
    "capital={\"USA\":\"Washington\",\n",
    "         \"Austria\":\"Vienna\",\n",
    "         \"Germany\":\"Belin\",\n",
    "         \"UK\":\"London\"}\n",
    "del capital[\"Germany\"]\n",
    "print(capital)"
   ]
  },
  {
   "cell_type": "code",
   "execution_count": 6,
   "id": "6eb05b1d",
   "metadata": {},
   "outputs": [
    {
     "name": "stdout",
     "output_type": "stream",
     "text": [
      "{'Earth': 'Moon', 'Saturn': 'Titan'}\n"
     ]
    }
   ],
   "source": [
    "secondary_planet={\"Earth\":\"Moon\",\n",
    "                  \"Saturn\":\"Titan\",\n",
    "                  \"Jupiter\":\"Europe\"}\n",
    "del secondary_planet[\"Jupiter\"]\n",
    "print(secondary_planet)"
   ]
  },
  {
   "cell_type": "code",
   "execution_count": null,
   "id": "36ea4309",
   "metadata": {},
   "outputs": [],
   "source": []
  }
 ],
 "metadata": {
  "kernelspec": {
   "display_name": "Python 3 (ipykernel)",
   "language": "python",
   "name": "python3"
  },
  "language_info": {
   "codemirror_mode": {
    "name": "ipython",
    "version": 3
   },
   "file_extension": ".py",
   "mimetype": "text/x-python",
   "name": "python",
   "nbconvert_exporter": "python",
   "pygments_lexer": "ipython3",
   "version": "3.10.9"
  }
 },
 "nbformat": 4,
 "nbformat_minor": 5
}
