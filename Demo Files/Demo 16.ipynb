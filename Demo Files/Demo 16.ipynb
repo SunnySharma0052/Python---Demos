{
 "cells": [
  {
   "cell_type": "code",
   "execution_count": 1,
   "id": "d330d0f7",
   "metadata": {
    "scrolled": true
   },
   "outputs": [
    {
     "name": "stdout",
     "output_type": "stream",
     "text": [
      "lakersceltics\n"
     ]
    }
   ],
   "source": [
    "nba = \"lakers\"\n",
    "nba = nba+\"celtics\"\n",
    "print(nba)"
   ]
  },
  {
   "cell_type": "code",
   "execution_count": 2,
   "id": "155d8e5a",
   "metadata": {},
   "outputs": [
    {
     "name": "stdout",
     "output_type": "stream",
     "text": [
      "lakersceltics\n"
     ]
    }
   ],
   "source": [
    "nba = \"lakers\"\n",
    "nba+= \"celtics\"\n",
    "print(nba)"
   ]
  },
  {
   "cell_type": "code",
   "execution_count": 3,
   "id": "50d496a0",
   "metadata": {},
   "outputs": [
    {
     "name": "stdout",
     "output_type": "stream",
     "text": [
      "Datascience\n"
     ]
    }
   ],
   "source": [
    "variable = \"Data\"\n",
    "variable += \"science\"\n",
    "print(variable)"
   ]
  },
  {
   "cell_type": "code",
   "execution_count": 4,
   "id": "a772f04a",
   "metadata": {},
   "outputs": [
    {
     "name": "stdout",
     "output_type": "stream",
     "text": [
      "lakerslakerslakers\n"
     ]
    }
   ],
   "source": [
    "nba = \"lakers\"\n",
    "nba *=3\n",
    "print(nba)"
   ]
  },
  {
   "cell_type": "code",
   "execution_count": 5,
   "id": "d7e3003c",
   "metadata": {},
   "outputs": [
    {
     "name": "stdout",
     "output_type": "stream",
     "text": [
      "PythonPythonPythonPython\n"
     ]
    }
   ],
   "source": [
    "variable = \"Python\"\n",
    "variable *= 4\n",
    "print(variable)"
   ]
  },
  {
   "cell_type": "code",
   "execution_count": null,
   "id": "5db28278",
   "metadata": {},
   "outputs": [],
   "source": []
  }
 ],
 "metadata": {
  "kernelspec": {
   "display_name": "Python 3 (ipykernel)",
   "language": "python",
   "name": "python3"
  },
  "language_info": {
   "codemirror_mode": {
    "name": "ipython",
    "version": 3
   },
   "file_extension": ".py",
   "mimetype": "text/x-python",
   "name": "python",
   "nbconvert_exporter": "python",
   "pygments_lexer": "ipython3",
   "version": "3.10.9"
  }
 },
 "nbformat": 4,
 "nbformat_minor": 5
}
