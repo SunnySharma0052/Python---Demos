{
 "cells": [
  {
   "cell_type": "code",
   "execution_count": 1,
   "id": "a726aa4c",
   "metadata": {},
   "outputs": [
    {
     "name": "stdout",
     "output_type": "stream",
     "text": [
      "Please Enter The Purchase Amount:1200\n",
      "You Can Take Advantage Of The Discount\n"
     ]
    }
   ],
   "source": [
    "amount=int(input(\"Please Enter The Purchase Amount:\"))\n",
    "if amount>1000:\n",
    "    print(\"You Can Take Advantage Of The Discount\")"
   ]
  },
  {
   "cell_type": "code",
   "execution_count": 2,
   "id": "d41dc0fd",
   "metadata": {},
   "outputs": [
    {
     "name": "stdout",
     "output_type": "stream",
     "text": [
      "\n",
      "Welcome To The World's Most Advanced E-mail Service\n",
      "You Must First Log Into The System In Order To Benefit From Our Service   \n",
      "Password:Sunny5632\n",
      "WELCOME TO THE SYSTEM!\n"
     ]
    }
   ],
   "source": [
    "print(\"\"\"\n",
    "Welcome To The World's Most Advanced E-mail Service\n",
    "You Must First Log Into The System In Order To Benefit From Our Service   \"\"\")\n",
    "Password=input(\"Password:\")\n",
    "if Password==\"Sunny5632\":\n",
    "    print(\"WELCOME TO THE SYSTEM!\")"
   ]
  },
  {
   "cell_type": "code",
   "execution_count": null,
   "id": "36f6adef",
   "metadata": {},
   "outputs": [],
   "source": []
  }
 ],
 "metadata": {
  "kernelspec": {
   "display_name": "Python 3 (ipykernel)",
   "language": "python",
   "name": "python3"
  },
  "language_info": {
   "codemirror_mode": {
    "name": "ipython",
    "version": 3
   },
   "file_extension": ".py",
   "mimetype": "text/x-python",
   "name": "python",
   "nbconvert_exporter": "python",
   "pygments_lexer": "ipython3",
   "version": "3.10.9"
  }
 },
 "nbformat": 4,
 "nbformat_minor": 5
}
