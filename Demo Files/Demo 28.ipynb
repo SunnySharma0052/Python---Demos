{
 "cells": [
  {
   "cell_type": "code",
   "execution_count": 1,
   "id": "694c96c1",
   "metadata": {},
   "outputs": [
    {
     "name": "stdout",
     "output_type": "stream",
     "text": [
      "{'Car': 'Lamborghine', 'Airplane': 'F16'}\n",
      "<class 'dict'>\n"
     ]
    }
   ],
   "source": [
    "vehical={\"Car\":\"Lamborghine\",\"Airplane\":\"F16\"}\n",
    "print(vehical,type(vehical),sep=\"\\n\")"
   ]
  },
  {
   "cell_type": "code",
   "execution_count": 2,
   "id": "99b4add4",
   "metadata": {},
   "outputs": [
    {
     "name": "stdout",
     "output_type": "stream",
     "text": [
      "{'Earth': 'Moon', 'Saturn': 'Titan'}\n",
      "<class 'dict'>\n"
     ]
    }
   ],
   "source": [
    "secondary_planet={\"Earth\":\"Moon\",\"Saturn\":\"Titan\"}\n",
    "print(secondary_planet,type(secondary_planet),sep=\"\\n\")"
   ]
  },
  {
   "cell_type": "code",
   "execution_count": 3,
   "id": "b016f859",
   "metadata": {},
   "outputs": [
    {
     "name": "stdout",
     "output_type": "stream",
     "text": [
      "{'School1': {'Class A': 75, 'Class B': 80, 'Class C': 70}}\n"
     ]
    }
   ],
   "source": [
    "school_notes={\"School1\":{\"Class A\":75,\n",
    "                         \"Class B\":80,\n",
    "                         \"Class C\" :70}}\n",
    "print(school_notes)"
   ]
  },
  {
   "cell_type": "code",
   "execution_count": 4,
   "id": "1bab784a",
   "metadata": {},
   "outputs": [
    {
     "name": "stdout",
     "output_type": "stream",
     "text": [
      "{'Car': 'Ferrari', 'Airplane': 'Airbus'}\n",
      "<class 'dict'>\n"
     ]
    }
   ],
   "source": [
    "vehicle2=dict(Car=\"Ferrari\",Airplane=\"Airbus\")\n",
    "print(vehicle2)\n",
    "print(type(vehicle2))"
   ]
  },
  {
   "cell_type": "code",
   "execution_count": 5,
   "id": "8fcf9567",
   "metadata": {},
   "outputs": [
    {
     "name": "stdout",
     "output_type": "stream",
     "text": [
      "{'Earth': 'Moon', 'Saturn': 'Titan'}\n",
      "<class 'dict'>\n"
     ]
    }
   ],
   "source": [
    "secondary_planet={\"Earth\":\"Moon\",\"Saturn\":\"Titan\"}\n",
    "print(secondary_planet,type(secondary_planet),sep=\"\\n\")"
   ]
  },
  {
   "cell_type": "code",
   "execution_count": 6,
   "id": "131540bd",
   "metadata": {},
   "outputs": [
    {
     "name": "stdout",
     "output_type": "stream",
     "text": [
      "<class 'dict'>\n"
     ]
    }
   ],
   "source": [
    "secondary_planet=dict(Earth=\"Moon\",Saturn=\"Titan\")\n",
    "print(type(secondary_planet))"
   ]
  },
  {
   "cell_type": "code",
   "execution_count": null,
   "id": "a348345d",
   "metadata": {},
   "outputs": [],
   "source": []
  }
 ],
 "metadata": {
  "kernelspec": {
   "display_name": "Python 3 (ipykernel)",
   "language": "python",
   "name": "python3"
  },
  "language_info": {
   "codemirror_mode": {
    "name": "ipython",
    "version": 3
   },
   "file_extension": ".py",
   "mimetype": "text/x-python",
   "name": "python",
   "nbconvert_exporter": "python",
   "pygments_lexer": "ipython3",
   "version": "3.10.9"
  }
 },
 "nbformat": 4,
 "nbformat_minor": 5
}
