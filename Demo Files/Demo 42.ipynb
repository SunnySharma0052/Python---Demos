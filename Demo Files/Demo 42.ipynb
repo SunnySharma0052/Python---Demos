{
 "cells": [
  {
   "cell_type": "code",
   "execution_count": 1,
   "id": "75906fdc",
   "metadata": {},
   "outputs": [
    {
     "name": "stdout",
     "output_type": "stream",
     "text": [
      "Please Enter The Password:Sandy5632\n",
      "Congrutulatios! You Entered The Password Correctly\n"
     ]
    }
   ],
   "source": [
    "password=input(\"Please Enter The Password:\")\n",
    "if password==\"Sandy5632\":\n",
    "    print(\"Congrutulatios! You Entered The Password Correctly\")\n",
    "else:\n",
    "    print(\"Try Again\")"
   ]
  },
  {
   "cell_type": "code",
   "execution_count": 2,
   "id": "c7181606",
   "metadata": {},
   "outputs": [
    {
     "name": "stdout",
     "output_type": "stream",
     "text": [
      "Please Enter A Number:246810\n"
     ]
    },
    {
     "data": {
      "text/plain": [
       "'The Number Is Even'"
      ]
     },
     "execution_count": 2,
     "metadata": {},
     "output_type": "execute_result"
    }
   ],
   "source": [
    "number=int(input(\"Please Enter A Number:\"))\n",
    "\"The Number Is Even\" if number%2==0 else \"The Number Is Odd\""
   ]
  },
  {
   "cell_type": "code",
   "execution_count": 3,
   "id": "455cd8d0",
   "metadata": {},
   "outputs": [
    {
     "name": "stdout",
     "output_type": "stream",
     "text": [
      "Please Enter A Number:1357911\n"
     ]
    },
    {
     "data": {
      "text/plain": [
       "'The Number Is Odd'"
      ]
     },
     "execution_count": 3,
     "metadata": {},
     "output_type": "execute_result"
    }
   ],
   "source": [
    "number=int(input(\"Please Enter A Number:\"))\n",
    "\"The Number Is Even\" if number%2==0 else \"The Number Is Odd\""
   ]
  },
  {
   "cell_type": "code",
   "execution_count": null,
   "id": "153c271e",
   "metadata": {},
   "outputs": [],
   "source": []
  }
 ],
 "metadata": {
  "kernelspec": {
   "display_name": "Python 3 (ipykernel)",
   "language": "python",
   "name": "python3"
  },
  "language_info": {
   "codemirror_mode": {
    "name": "ipython",
    "version": 3
   },
   "file_extension": ".py",
   "mimetype": "text/x-python",
   "name": "python",
   "nbconvert_exporter": "python",
   "pygments_lexer": "ipython3",
   "version": "3.10.9"
  }
 },
 "nbformat": 4,
 "nbformat_minor": 5
}
