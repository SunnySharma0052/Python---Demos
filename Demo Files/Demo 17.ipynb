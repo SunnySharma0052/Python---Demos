{
 "cells": [
  {
   "cell_type": "code",
   "execution_count": 1,
   "id": "cf7f3729",
   "metadata": {},
   "outputs": [
    {
     "name": "stdout",
     "output_type": "stream",
     "text": [
      "There are 2 teachers in the school\n",
      "There are 2 children in the school\n"
     ]
    }
   ],
   "source": [
    "sentence = \"There are 2 %s in the school\"\n",
    "print(sentence%\"teachers\")\n",
    "print(sentence%\"children\")"
   ]
  },
  {
   "cell_type": "code",
   "execution_count": 2,
   "id": "0e75bc4a",
   "metadata": {},
   "outputs": [
    {
     "name": "stdout",
     "output_type": "stream",
     "text": [
      "The brand of the product you have chosen is prada\n"
     ]
    }
   ],
   "source": [
    "brand = \"The brand of the product you have chosen is %s\"\n",
    "print(brand%\"prada\")"
   ]
  },
  {
   "cell_type": "code",
   "execution_count": 3,
   "id": "2323c3d5",
   "metadata": {},
   "outputs": [
    {
     "name": "stdout",
     "output_type": "stream",
     "text": [
      "The year of manufature of your car is 2015\n",
      "The year of manufature of your car is 2023\n"
     ]
    }
   ],
   "source": [
    "year = \"The year of manufature of your car is %d\"\n",
    "print(year%2015)\n",
    "print(year%2023)"
   ]
  },
  {
   "cell_type": "code",
   "execution_count": 4,
   "id": "9db2eb63",
   "metadata": {},
   "outputs": [
    {
     "name": "stdout",
     "output_type": "stream",
     "text": [
      "I'm 30 years old\n"
     ]
    }
   ],
   "source": [
    "sentence = \"I'm %d years old\"\n",
    "print(sentence%30)"
   ]
  },
  {
   "cell_type": "code",
   "execution_count": 5,
   "id": "73897f19",
   "metadata": {},
   "outputs": [
    {
     "name": "stdout",
     "output_type": "stream",
     "text": [
      "Annual inflation is 7 percent\n",
      "Annual inflation is 9 percent\n"
     ]
    }
   ],
   "source": [
    "inflation = \"Annual inflation is %.f percent\"\n",
    "print(inflation%7.358)\n",
    "print(inflation%9.253000)"
   ]
  },
  {
   "cell_type": "code",
   "execution_count": 6,
   "id": "54314a09",
   "metadata": {},
   "outputs": [
    {
     "name": "stdout",
     "output_type": "stream",
     "text": [
      "my height is 189 cm\n"
     ]
    }
   ],
   "source": [
    "height = \"my height is %.f cm\"\n",
    "print(height%189.140000)"
   ]
  },
  {
   "cell_type": "code",
   "execution_count": 7,
   "id": "4761ea3e",
   "metadata": {},
   "outputs": [
    {
     "name": "stdout",
     "output_type": "stream",
     "text": [
      "annual inflation 7.359 percent\n",
      "annual inflation 9.254 percent\n"
     ]
    }
   ],
   "source": [
    "inflation = \"annual inflation %.3f percent\"\n",
    "print(inflation%7.358985)\n",
    "print(inflation%9.253542)"
   ]
  },
  {
   "cell_type": "code",
   "execution_count": 8,
   "id": "25337ce9",
   "metadata": {},
   "outputs": [
    {
     "name": "stdout",
     "output_type": "stream",
     "text": [
      "annual inflation 7.36 persent\n",
      "annual inflation 9.25 persent\n"
     ]
    }
   ],
   "source": [
    "inflation = \"annual inflation %.2f persent\"\n",
    "print(inflation%7.358985)\n",
    "print(inflation%9.253542)"
   ]
  },
  {
   "cell_type": "code",
   "execution_count": 9,
   "id": "8cb6f729",
   "metadata": {},
   "outputs": [
    {
     "name": "stdout",
     "output_type": "stream",
     "text": [
      "I'm 30 years old, My height is 189.14 cm\n"
     ]
    }
   ],
   "source": [
    "sentence = \"I'm %d years old, My height is %.2f cm\"\n",
    "print(sentence%(30, 189.1420000))"
   ]
  },
  {
   "cell_type": "code",
   "execution_count": 10,
   "id": "28c5e036",
   "metadata": {},
   "outputs": [
    {
     "name": "stdout",
     "output_type": "stream",
     "text": [
      "student's Name:-Kayra \n",
      "student's surname:- Cavdan \n",
      "student's Date of birth:- 2008\n"
     ]
    }
   ],
   "source": [
    "print(\"student's Name:-%s \\nstudent's surname:- %s \\nstudent's Date of birth:- %d\"%(\"Kayra\", \"Cavdan\", 2008))"
   ]
  },
  {
   "cell_type": "code",
   "execution_count": 11,
   "id": "85fabd6f",
   "metadata": {},
   "outputs": [
    {
     "name": "stdout",
     "output_type": "stream",
     "text": [
      "I'm 30 years old, my height is 189.140000 cm\n"
     ]
    }
   ],
   "source": [
    "sentence = \"I'm %d years old, my height is %f cm\"\n",
    "age = 30\n",
    "height = 189.14\n",
    "print(sentence%(age, height))"
   ]
  },
  {
   "cell_type": "code",
   "execution_count": 12,
   "id": "92fcc649",
   "metadata": {},
   "outputs": [
    {
     "name": "stdout",
     "output_type": "stream",
     "text": [
      "student's Name:-Kayra \n",
      "student's surname:- Cavdar \n",
      "student's Date of birth:- 2009\n"
     ]
    }
   ],
   "source": [
    "surname = \"Cavdar\"\n",
    "name = \"Kayra\"\n",
    "dob = 2009\n",
    "sentence = (\"student's Name:-%s \\nstudent's surname:- %s \\nstudent's Date of birth:- %d\")\n",
    "print(sentence%(name, surname, dob))"
   ]
  },
  {
   "cell_type": "code",
   "execution_count": null,
   "id": "1459d9cc",
   "metadata": {},
   "outputs": [],
   "source": []
  }
 ],
 "metadata": {
  "kernelspec": {
   "display_name": "Python 3 (ipykernel)",
   "language": "python",
   "name": "python3"
  },
  "language_info": {
   "codemirror_mode": {
    "name": "ipython",
    "version": 3
   },
   "file_extension": ".py",
   "mimetype": "text/x-python",
   "name": "python",
   "nbconvert_exporter": "python",
   "pygments_lexer": "ipython3",
   "version": "3.10.9"
  }
 },
 "nbformat": 4,
 "nbformat_minor": 5
}
