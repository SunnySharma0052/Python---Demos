{
 "cells": [
  {
   "cell_type": "code",
   "execution_count": 1,
   "id": "4a004518",
   "metadata": {},
   "outputs": [
    {
     "data": {
      "text/plain": [
       "['ADAM', 'JOSEPH', 'MARIAM', 'DONALD']"
      ]
     },
     "execution_count": 1,
     "metadata": {},
     "output_type": "execute_result"
    }
   ],
   "source": [
    "list_example=[\"Adam\",\"Joseph\",\"Mariam\",\"Donald\"]\n",
    "[i.upper() for i in list_example]"
   ]
  },
  {
   "cell_type": "code",
   "execution_count": 2,
   "id": "0df68097",
   "metadata": {},
   "outputs": [
    {
     "name": "stdout",
     "output_type": "stream",
     "text": [
      "[1, 3, 5, 7, 9]\n"
     ]
    }
   ],
   "source": [
    "number=[1,2,3,4,5,6,7,8,9,10]\n",
    "odd=[]\n",
    "[odd.append(i) for i in number if i%2!=0]\n",
    "print(odd)"
   ]
  },
  {
   "cell_type": "code",
   "execution_count": null,
   "id": "04a29259",
   "metadata": {},
   "outputs": [],
   "source": []
  }
 ],
 "metadata": {
  "kernelspec": {
   "display_name": "Python 3 (ipykernel)",
   "language": "python",
   "name": "python3"
  },
  "language_info": {
   "codemirror_mode": {
    "name": "ipython",
    "version": 3
   },
   "file_extension": ".py",
   "mimetype": "text/x-python",
   "name": "python",
   "nbconvert_exporter": "python",
   "pygments_lexer": "ipython3",
   "version": "3.10.9"
  }
 },
 "nbformat": 4,
 "nbformat_minor": 5
}
