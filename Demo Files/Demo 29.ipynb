{
 "cells": [
  {
   "cell_type": "code",
   "execution_count": 1,
   "id": "a1f50321",
   "metadata": {},
   "outputs": [
    {
     "name": "stdout",
     "output_type": "stream",
     "text": [
      "{'Class A': 75, 'Class B': 80, 'Class C': 70}\n"
     ]
    }
   ],
   "source": [
    "school_notes={\"School1\":{\"Class A\":75,\n",
    "                         \"Class B\":80,\n",
    "                         \"Class C\" :70}}\n",
    "print(school_notes[\"School1\"])"
   ]
  },
  {
   "cell_type": "code",
   "execution_count": 2,
   "id": "d2b7cf5d",
   "metadata": {},
   "outputs": [
    {
     "name": "stdout",
     "output_type": "stream",
     "text": [
      "80\n"
     ]
    }
   ],
   "source": [
    "school_notes={\"School1\":{\"Class A\":75,\n",
    "                         \"Class B\":80,\n",
    "                         \"Class C\" :70}}\n",
    "print(school_notes[\"School1\"][\"Class B\"])"
   ]
  },
  {
   "cell_type": "code",
   "execution_count": null,
   "id": "3039446d",
   "metadata": {},
   "outputs": [],
   "source": []
  }
 ],
 "metadata": {
  "kernelspec": {
   "display_name": "Python 3 (ipykernel)",
   "language": "python",
   "name": "python3"
  },
  "language_info": {
   "codemirror_mode": {
    "name": "ipython",
    "version": 3
   },
   "file_extension": ".py",
   "mimetype": "text/x-python",
   "name": "python",
   "nbconvert_exporter": "python",
   "pygments_lexer": "ipython3",
   "version": "3.10.9"
  }
 },
 "nbformat": 4,
 "nbformat_minor": 5
}
