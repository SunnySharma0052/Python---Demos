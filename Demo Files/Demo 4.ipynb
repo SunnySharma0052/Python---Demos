{
 "cells": [
  {
   "cell_type": "code",
   "execution_count": 1,
   "id": "8fbb107a",
   "metadata": {},
   "outputs": [],
   "source": [
    "January = march = may = july = august= october = december = 31"
   ]
  },
  {
   "cell_type": "code",
   "execution_count": 2,
   "id": "6b735898",
   "metadata": {},
   "outputs": [
    {
     "name": "stdout",
     "output_type": "stream",
     "text": [
      "31\n",
      "31\n",
      "31\n"
     ]
    }
   ],
   "source": [
    "print(march)\n",
    "print(august)\n",
    "print(december)"
   ]
  },
  {
   "cell_type": "code",
   "execution_count": 6,
   "id": "9f6a738a",
   "metadata": {},
   "outputs": [
    {
     "name": "stdout",
     "output_type": "stream",
     "text": [
      "61\n"
     ]
    }
   ],
   "source": [
    "april = 30\n",
    "june = 30\n",
    "september = 30\n",
    "november = 30\n",
    "January = march = may = july = august= october = december = 31\n",
    "print(september + october)"
   ]
  },
  {
   "cell_type": "code",
   "execution_count": 7,
   "id": "75d5996c",
   "metadata": {},
   "outputs": [],
   "source": [
    "python, java = \"Data\",\"Science\""
   ]
  },
  {
   "cell_type": "code",
   "execution_count": 8,
   "id": "d649a88d",
   "metadata": {},
   "outputs": [
    {
     "name": "stdout",
     "output_type": "stream",
     "text": [
      "Data\n",
      "Science\n"
     ]
    }
   ],
   "source": [
    "print(python)\n",
    "print(java)"
   ]
  },
  {
   "cell_type": "code",
   "execution_count": null,
   "id": "f619e81b",
   "metadata": {},
   "outputs": [],
   "source": []
  }
 ],
 "metadata": {
  "kernelspec": {
   "display_name": "Python 3 (ipykernel)",
   "language": "python",
   "name": "python3"
  },
  "language_info": {
   "codemirror_mode": {
    "name": "ipython",
    "version": 3
   },
   "file_extension": ".py",
   "mimetype": "text/x-python",
   "name": "python",
   "nbconvert_exporter": "python",
   "pygments_lexer": "ipython3",
   "version": "3.10.9"
  }
 },
 "nbformat": 4,
 "nbformat_minor": 5
}
