{
 "cells": [
  {
   "cell_type": "code",
   "execution_count": 1,
   "id": "60ec72f0",
   "metadata": {},
   "outputs": [
    {
     "name": "stdout",
     "output_type": "stream",
     "text": [
      "[2200.0, 2750.0, 2475.0, 2585.0, 2200.0, 3135.0, 3025.0, 3300.0, 2915.0, 2750.0]\n"
     ]
    }
   ],
   "source": [
    "employee_salaries=[2000,2500,2250,2350,2000,2850,2750,3000,2650,2500]\n",
    "new_salary=[]\n",
    "\n",
    "for salary in employee_salaries:\n",
    "  increased_salary=salary+(salary*10/100)\n",
    "  new_salary.append(increased_salary)\n",
    "print(new_salary)"
   ]
  },
  {
   "cell_type": "code",
   "execution_count": 2,
   "id": "8a0ff873",
   "metadata": {},
   "outputs": [
    {
     "name": "stdout",
     "output_type": "stream",
     "text": [
      "[2400.0, 2875.0, 2700.0, 2702.5, 2400.0, 3135.0, 3025.0, 3300.0, 2915.0, 2875.0]\n"
     ]
    }
   ],
   "source": [
    "new_salary=[]\n",
    "for i in employee_salaries:\n",
    "    if i<2300:\n",
    "        increased_salary1=i+(i*20/100)\n",
    "        new_salary.append(increased_salary1)\n",
    "    elif 2300<=i<=2500:\n",
    "        increased_salary2=i+(i*15/100)\n",
    "        new_salary.append(increased_salary2)\n",
    "    else:\n",
    "        increased_salary3=i+(i*10/100)\n",
    "        new_salary.append(increased_salary3)\n",
    "print(new_salary)"
   ]
  },
  {
   "cell_type": "code",
   "execution_count": 3,
   "id": "21ff1a4d",
   "metadata": {},
   "outputs": [
    {
     "name": "stdout",
     "output_type": "stream",
     "text": [
      "[2, 4, 6, 8, 10]\n",
      "[1, 3, 5, 7, 9]\n"
     ]
    }
   ],
   "source": [
    "number=[1,2,3,4,5,6,7,8,9,10]\n",
    "even=[]\n",
    "odd=[]\n",
    "\n",
    "for i in number:\n",
    "    if i%2==0:\n",
    "        even.append(i)\n",
    "    else:\n",
    "        odd.append(i)\n",
    "print(even)\n",
    "print(odd)"
   ]
  },
  {
   "cell_type": "code",
   "execution_count": null,
   "id": "875ae7c1",
   "metadata": {},
   "outputs": [],
   "source": []
  }
 ],
 "metadata": {
  "kernelspec": {
   "display_name": "Python 3 (ipykernel)",
   "language": "python",
   "name": "python3"
  },
  "language_info": {
   "codemirror_mode": {
    "name": "ipython",
    "version": 3
   },
   "file_extension": ".py",
   "mimetype": "text/x-python",
   "name": "python",
   "nbconvert_exporter": "python",
   "pygments_lexer": "ipython3",
   "version": "3.10.9"
  }
 },
 "nbformat": 4,
 "nbformat_minor": 5
}
