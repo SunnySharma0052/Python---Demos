{
 "cells": [
  {
   "cell_type": "code",
   "execution_count": 1,
   "id": "96d5fd46",
   "metadata": {},
   "outputs": [],
   "source": [
    "def calculate_salary(x):\n",
    "    \"\"\"\n",
    "    This Function OutputThe Increased State Of The Salaries.\n",
    "    ________________________________________________________\n",
    "    \n",
    "    Argument:\n",
    "    X : Salary\n",
    "    \"\"\"\n",
    "    \n",
    "    if x<2500:\n",
    "        increased_salary1 = x+(x*20/100)\n",
    "        return increased_salary1\n",
    "    elif 2500<=x<3500:\n",
    "        increased_salary2 = x+(x*15/100)\n",
    "        return increased_salary2\n",
    "    else:\n",
    "        increased_salary3 = x+(x*10/100)\n",
    "        return increased_salary3"
   ]
  },
  {
   "cell_type": "code",
   "execution_count": 2,
   "id": "5352691b",
   "metadata": {},
   "outputs": [
    {
     "data": {
      "text/plain": [
       "2400.0"
      ]
     },
     "execution_count": 2,
     "metadata": {},
     "output_type": "execute_result"
    }
   ],
   "source": [
    "calculate_salary(2000)"
   ]
  },
  {
   "cell_type": "code",
   "execution_count": 3,
   "id": "ae9dc6c3",
   "metadata": {},
   "outputs": [
    {
     "data": {
      "text/plain": [
       "3450.0"
      ]
     },
     "execution_count": 3,
     "metadata": {},
     "output_type": "execute_result"
    }
   ],
   "source": [
    "calculate_salary(3000)"
   ]
  },
  {
   "cell_type": "code",
   "execution_count": 4,
   "id": "6ea66e42",
   "metadata": {},
   "outputs": [
    {
     "data": {
      "text/plain": [
       "4400.0"
      ]
     },
     "execution_count": 4,
     "metadata": {},
     "output_type": "execute_result"
    }
   ],
   "source": [
    "calculate_salary(4000)"
   ]
  },
  {
   "cell_type": "code",
   "execution_count": 5,
   "id": "fd9e47b9",
   "metadata": {},
   "outputs": [
    {
     "data": {
      "text/plain": [
       "27555.0"
      ]
     },
     "execution_count": 5,
     "metadata": {},
     "output_type": "execute_result"
    }
   ],
   "source": [
    "calculate_salary(25050)"
   ]
  },
  {
   "cell_type": "code",
   "execution_count": 6,
   "id": "48357cb5",
   "metadata": {},
   "outputs": [
    {
     "data": {
      "text/plain": [
       "42847.2"
      ]
     },
     "execution_count": 6,
     "metadata": {},
     "output_type": "execute_result"
    }
   ],
   "source": [
    "calculate_salary(38952)"
   ]
  },
  {
   "cell_type": "code",
   "execution_count": 7,
   "id": "3b6a1eae",
   "metadata": {},
   "outputs": [
    {
     "data": {
      "text/plain": [
       "4500.0"
      ]
     },
     "execution_count": 7,
     "metadata": {},
     "output_type": "execute_result"
    }
   ],
   "source": [
    "calculate_salary(4000)+100"
   ]
  },
  {
   "cell_type": "code",
   "execution_count": 8,
   "id": "9e677503",
   "metadata": {},
   "outputs": [
    {
     "data": {
      "text/plain": [
       "3220.0"
      ]
     },
     "execution_count": 8,
     "metadata": {},
     "output_type": "execute_result"
    }
   ],
   "source": [
    "def calculate_salary(x):\n",
    "    \"\"\"\n",
    "    This Function Outputs The Increased State Of The Salaries.\n",
    "    __________________________________________________________\n",
    "    \n",
    "    Argument:\n",
    "    x : Salary\n",
    "    \"\"\"\n",
    "    \n",
    "    if x<2500:\n",
    "        increased_salary1 = x+(x*20/100)\n",
    "        return increased_salary1\n",
    "    elif x<2500<=x<3500:\n",
    "        increased_salary2 = x+(x*15/100)\n",
    "        return increased_salary2\n",
    "    else:\n",
    "        increased_salary3 = x+(x*10/100)\n",
    "        return increased_salary3\n",
    "    \n",
    "calculate_salary(2700)+250"
   ]
  },
  {
   "cell_type": "code",
   "execution_count": null,
   "id": "e8184628",
   "metadata": {},
   "outputs": [],
   "source": [
    "      "
   ]
  }
 ],
 "metadata": {
  "kernelspec": {
   "display_name": "Python 3 (ipykernel)",
   "language": "python",
   "name": "python3"
  },
  "language_info": {
   "codemirror_mode": {
    "name": "ipython",
    "version": 3
   },
   "file_extension": ".py",
   "mimetype": "text/x-python",
   "name": "python",
   "nbconvert_exporter": "python",
   "pygments_lexer": "ipython3",
   "version": "3.10.9"
  }
 },
 "nbformat": 4,
 "nbformat_minor": 5
}
