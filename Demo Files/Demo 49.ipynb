{
 "cells": [
  {
   "cell_type": "code",
   "execution_count": 1,
   "id": "ad969aca",
   "metadata": {},
   "outputs": [
    {
     "name": "stdout",
     "output_type": "stream",
     "text": [
      "27\n"
     ]
    },
    {
     "ename": "TypeError",
     "evalue": "unsupported operand type(s) for *: 'NoneType' and 'int'",
     "output_type": "error",
     "traceback": [
      "\u001b[1;31m---------------------------------------------------------------------------\u001b[0m",
      "\u001b[1;31mTypeError\u001b[0m                                 Traceback (most recent call last)",
      "Cell \u001b[1;32mIn[1], line 3\u001b[0m\n\u001b[0;32m      1\u001b[0m \u001b[38;5;28;01mdef\u001b[39;00m \u001b[38;5;21mcube\u001b[39m(x):\n\u001b[0;32m      2\u001b[0m     \u001b[38;5;28mprint\u001b[39m(x\u001b[38;5;241m*\u001b[39m\u001b[38;5;241m*\u001b[39m\u001b[38;5;241m3\u001b[39m)\n\u001b[1;32m----> 3\u001b[0m \u001b[43mcube\u001b[49m\u001b[43m(\u001b[49m\u001b[38;5;241;43m3\u001b[39;49m\u001b[43m)\u001b[49m\u001b[38;5;241;43m*\u001b[39;49m\u001b[38;5;241;43m2\u001b[39;49m\n",
      "\u001b[1;31mTypeError\u001b[0m: unsupported operand type(s) for *: 'NoneType' and 'int'"
     ]
    }
   ],
   "source": [
    "def cube(x):\n",
    "    print(x**3)\n",
    "cube(3)*2"
   ]
  },
  {
   "cell_type": "code",
   "execution_count": 2,
   "id": "7e91373c",
   "metadata": {},
   "outputs": [
    {
     "data": {
      "text/plain": [
       "54"
      ]
     },
     "execution_count": 2,
     "metadata": {},
     "output_type": "execute_result"
    }
   ],
   "source": [
    "def cube(x):\n",
    "    return x**3\n",
    "cube(3)*2"
   ]
  },
  {
   "cell_type": "code",
   "execution_count": 3,
   "id": "8d27c1fb",
   "metadata": {},
   "outputs": [],
   "source": [
    "def square_root(x):\n",
    "    x**(1/2)\n",
    "square_root(25)"
   ]
  },
  {
   "cell_type": "code",
   "execution_count": 4,
   "id": "e25bb702",
   "metadata": {},
   "outputs": [
    {
     "name": "stdout",
     "output_type": "stream",
     "text": [
      "5.0\n"
     ]
    },
    {
     "ename": "TypeError",
     "evalue": "unsupported operand type(s) for *: 'NoneType' and 'int'",
     "output_type": "error",
     "traceback": [
      "\u001b[1;31m---------------------------------------------------------------------------\u001b[0m",
      "\u001b[1;31mTypeError\u001b[0m                                 Traceback (most recent call last)",
      "Cell \u001b[1;32mIn[4], line 3\u001b[0m\n\u001b[0;32m      1\u001b[0m \u001b[38;5;28;01mdef\u001b[39;00m \u001b[38;5;21msquare_root\u001b[39m(x):\n\u001b[0;32m      2\u001b[0m     \u001b[38;5;28mprint\u001b[39m(x\u001b[38;5;241m*\u001b[39m\u001b[38;5;241m*\u001b[39m(\u001b[38;5;241m1\u001b[39m\u001b[38;5;241m/\u001b[39m\u001b[38;5;241m2\u001b[39m))\n\u001b[1;32m----> 3\u001b[0m \u001b[43msquare_root\u001b[49m\u001b[43m(\u001b[49m\u001b[38;5;241;43m25\u001b[39;49m\u001b[43m)\u001b[49m\u001b[38;5;241;43m*\u001b[39;49m\u001b[38;5;241;43m2\u001b[39;49m\n",
      "\u001b[1;31mTypeError\u001b[0m: unsupported operand type(s) for *: 'NoneType' and 'int'"
     ]
    }
   ],
   "source": [
    "def square_root(x):\n",
    "    print(x**(1/2))\n",
    "square_root(25)*2"
   ]
  },
  {
   "cell_type": "code",
   "execution_count": 5,
   "id": "190ada15",
   "metadata": {},
   "outputs": [
    {
     "data": {
      "text/plain": [
       "10.0"
      ]
     },
     "execution_count": 5,
     "metadata": {},
     "output_type": "execute_result"
    }
   ],
   "source": [
    "def square_root(x):\n",
    "    return(x**(1/2))\n",
    "square_root(25)*2"
   ]
  },
  {
   "cell_type": "code",
   "execution_count": 6,
   "id": "6c8a338a",
   "metadata": {},
   "outputs": [
    {
     "name": "stdout",
     "output_type": "stream",
     "text": [
      "    \n",
      "              **          \n",
      "              *  *\n",
      "              *    *\n",
      "              *      *\n",
      "   ( a )      *        *          (c)\n",
      "              *          *\n",
      "              *            *\n",
      "              ****|          *\n",
      "              * * |            *\n",
      "              *******************\n",
      "              \n",
      "                     (b)  \n",
      "                     \n",
      "            # (Right Angle Triangle)\n",
      "                                               \n"
     ]
    }
   ],
   "source": [
    "print(\"\"\"    \n",
    "              **          \n",
    "              *  *\n",
    "              *    *\n",
    "              *      *\n",
    "   ( a )      *        *          (c)\n",
    "              *          *\n",
    "              *            *\n",
    "              ****|          *\n",
    "              * * |            *\n",
    "              *******************\n",
    "              \n",
    "                     (b)  \n",
    "                     \n",
    "            # (Right Angle Triangle)\n",
    "                                               \"\"\")"
   ]
  },
  {
   "cell_type": "code",
   "execution_count": 7,
   "id": "ee751f9d",
   "metadata": {},
   "outputs": [
    {
     "name": "stdout",
     "output_type": "stream",
     "text": [
      "5.0\n"
     ]
    }
   ],
   "source": [
    "def hypotenuse (a, b):\n",
    "    print((a**2+b**2) **0.5)\n",
    "    \n",
    "hypotenuse(3, 4)"
   ]
  },
  {
   "cell_type": "code",
   "execution_count": 8,
   "id": "b8d75b41",
   "metadata": {},
   "outputs": [
    {
     "name": "stdout",
     "output_type": "stream",
     "text": [
      "______________________________\n",
      "Name:  Kayra\n",
      "Surname  : Cavdar\n",
      "University : Oxford\n",
      "Date Of Birth  : 01-June-1991\n",
      "______________________________\n"
     ]
    }
   ],
   "source": [
    "def ID_Registration(Name,Surname,University,DOB):\n",
    "    print(\"_\" *30)\n",
    "    \n",
    "    print(\"Name: \",Name)\n",
    "    print(\"Surname  :\",Surname)\n",
    "    print(\"University :\",University)\n",
    "    print(\"Date Of Birth  :\",DOB)\n",
    "    \n",
    "    print(\"_\" *30)\n",
    "ID_Registration(\"Kayra\",\"Cavdar\",\"Oxford\",\"01-June-1991\")"
   ]
  },
  {
   "cell_type": "code",
   "execution_count": null,
   "id": "644e6a38",
   "metadata": {},
   "outputs": [],
   "source": []
  }
 ],
 "metadata": {
  "kernelspec": {
   "display_name": "Python 3 (ipykernel)",
   "language": "python",
   "name": "python3"
  },
  "language_info": {
   "codemirror_mode": {
    "name": "ipython",
    "version": 3
   },
   "file_extension": ".py",
   "mimetype": "text/x-python",
   "name": "python",
   "nbconvert_exporter": "python",
   "pygments_lexer": "ipython3",
   "version": "3.10.9"
  }
 },
 "nbformat": 4,
 "nbformat_minor": 5
}
