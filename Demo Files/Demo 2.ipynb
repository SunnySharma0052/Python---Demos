{
 "cells": [
  {
   "cell_type": "code",
   "execution_count": 1,
   "id": "69ff4230",
   "metadata": {},
   "outputs": [
    {
     "name": "stdout",
     "output_type": "stream",
     "text": [
      "Hello Data Science\n"
     ]
    }
   ],
   "source": [
    "print('Hello Data Science')"
   ]
  },
  {
   "cell_type": "code",
   "execution_count": 2,
   "id": "dab4fa9e",
   "metadata": {},
   "outputs": [
    {
     "name": "stdout",
     "output_type": "stream",
     "text": [
      "Hello Data Science\n"
     ]
    }
   ],
   "source": [
    "print(\"Hello Data Science\")"
   ]
  },
  {
   "cell_type": "code",
   "execution_count": 3,
   "id": "06f14fde",
   "metadata": {},
   "outputs": [
    {
     "name": "stdout",
     "output_type": "stream",
     "text": [
      "Hello Data Science\n"
     ]
    }
   ],
   "source": [
    "print(\"\"\"Hello Data Science\"\"\")"
   ]
  },
  {
   "cell_type": "code",
   "execution_count": 4,
   "id": "23a48371",
   "metadata": {},
   "outputs": [
    {
     "name": "stdout",
     "output_type": "stream",
     "text": [
      "The name of the python programming language does not come formpython snake\n"
     ]
    }
   ],
   "source": [
    "print(\"The name of the python programming language does not come form\"\"python snake\")"
   ]
  },
  {
   "cell_type": "code",
   "execution_count": 7,
   "id": "54ea8d0b",
   "metadata": {},
   "outputs": [
    {
     "name": "stdout",
     "output_type": "stream",
     "text": [
      "The name of the python programming language does not come formpython snake\n"
     ]
    }
   ],
   "source": [
    "print('The name of the python programming language does not come form'\"python snake\")"
   ]
  },
  {
   "cell_type": "code",
   "execution_count": 8,
   "id": "02a082a7",
   "metadata": {},
   "outputs": [
    {
     "ename": "SyntaxError",
     "evalue": "unterminated string literal (detected at line 1) (1739701612.py, line 1)",
     "output_type": "error",
     "traceback": [
      "\u001b[1;36m  Cell \u001b[1;32mIn[8], line 1\u001b[1;36m\u001b[0m\n\u001b[1;33m    print('The name of the python programming language does not come form\"python snake'\")\u001b[0m\n\u001b[1;37m                                                                                       ^\u001b[0m\n\u001b[1;31mSyntaxError\u001b[0m\u001b[1;31m:\u001b[0m unterminated string literal (detected at line 1)\n"
     ]
    }
   ],
   "source": [
    "print('The name of the python programming language does not come form\"python snake'\")"
   ]
  },
  {
   "cell_type": "code",
   "execution_count": 9,
   "id": "340998d5",
   "metadata": {},
   "outputs": [
    {
     "name": "stdout",
     "output_type": "stream",
     "text": [
      "It's my pleasure\n"
     ]
    }
   ],
   "source": [
    "print(\"It's my pleasure\")"
   ]
  },
  {
   "cell_type": "code",
   "execution_count": 10,
   "id": "398d2547",
   "metadata": {},
   "outputs": [
    {
     "name": "stdout",
     "output_type": "stream",
     "text": [
      "\n",
      "  [H]========SUNNYSHARMA=======[-][O][X]\n",
      "   |                                  |\n",
      "   |      WELCOME TO MY PROGRAM!      |\n",
      "   |          VERSION 5.2.0           |\n",
      "   |    TAP ANYWEHERE TO CONTINUE     |\n",
      "   |                                  |\n",
      "   |==================================| \n"
     ]
    }
   ],
   "source": [
    "print(\"\"\"\n",
    "  [H]========SUNNYSHARMA=======[-][O][X]\n",
    "   |                                  |\n",
    "   |      WELCOME TO MY PROGRAM!      |\n",
    "   |          VERSION 5.2.0           |\n",
    "   |    TAP ANYWEHERE TO CONTINUE     |\n",
    "   |                                  |\n",
    "   |==================================| \"\"\")"
   ]
  },
  {
   "cell_type": "code",
   "execution_count": 12,
   "id": "e460506c",
   "metadata": {},
   "outputs": [
    {
     "name": "stdout",
     "output_type": "stream",
     "text": [
      "...Hypotenuse function; it is used to get the hypotenuse in a right triangle...\n"
     ]
    }
   ],
   "source": [
    "print('...Hypotenuse function; it is used to get the hypotenuse in a right triangle...')"
   ]
  },
  {
   "cell_type": "code",
   "execution_count": 13,
   "id": "1dfd88af",
   "metadata": {},
   "outputs": [
    {
     "name": "stdout",
     "output_type": "stream",
     "text": [
      ".....Hypotenuse function; it is used to get the hypotenuse in a right triangle\n",
      "**************************************************************************************\n",
      "Arguments:\n",
      "        a = First side of right triangle\n",
      "        b = Second side of right triangle\n",
      ".....\n"
     ]
    }
   ],
   "source": [
    "print(\"\"\".....Hypotenuse function; it is used to get the hypotenuse in a right triangle\n",
    "**************************************************************************************\n",
    "Arguments:\n",
    "        a = First side of right triangle\n",
    "        b = Second side of right triangle\n",
    ".....\"\"\")"
   ]
  },
  {
   "cell_type": "code",
   "execution_count": null,
   "id": "62ac61b3",
   "metadata": {},
   "outputs": [],
   "source": []
  }
 ],
 "metadata": {
  "kernelspec": {
   "display_name": "Python 3 (ipykernel)",
   "language": "python",
   "name": "python3"
  },
  "language_info": {
   "codemirror_mode": {
    "name": "ipython",
    "version": 3
   },
   "file_extension": ".py",
   "mimetype": "text/x-python",
   "name": "python",
   "nbconvert_exporter": "python",
   "pygments_lexer": "ipython3",
   "version": "3.10.9"
  }
 },
 "nbformat": 4,
 "nbformat_minor": 5
}
